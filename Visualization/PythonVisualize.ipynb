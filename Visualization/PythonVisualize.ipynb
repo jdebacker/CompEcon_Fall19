{
 "cells": [
  {
   "cell_type": "markdown",
   "metadata": {},
   "source": [
    "# Visualizing data in Python\n",
    "**by [Richard W. Evans](https://sites.google.com/site/rickecon/), May 2017**\n",
    "\n",
    "A picture is worth a thousand words. In fact, most journal articles can be summarized by one good figure or one good table. This conjecture makes for a good rule for any researcher. \"What is the best picture or table that can summarize the story I want to tell with my results.\" This section will focus on using data visualization as preliminary a way for understanding and interpreting your data. This chapter is about using visualization for exploring your data. But the principles can be applied to the later steps of presenting your results. \n",
    "\n",
    "The standard visualizations of any data are the scatterplot, the line plot, the bar graph, the histogram (a particular type of bar graph), There are 3-D versions of all of these. Then there are ways to allow each of these methods to display more than three dimensions of the data. Finally, recent developments in D3 (data-driven documents) JavaScript visualizations for web browsers have made interactive graphics available to the common internet user via flyover display, toggle switches, slider bars, and other methods.\n",
    "\n",
    "We will focus on Python's `matplotlib` visualization package. But many other libraries exist in Python (e.g.scikitlearn, chaco, mayavi, bokeh), and many other programming platforms also have powerful visualization packages (e.g., R, Stata, SAS, MATLAB, Mathematica)."
   ]
  },
  {
   "cell_type": "markdown",
   "metadata": {},
   "source": [
    "## 0. Some matplotlib preliminaries\n",
    "Plots in matplotlib are stored as `Figure` objects. The command to create a new figure object is,"
   ]
  },
  {
   "cell_type": "code",
   "execution_count": 1,
   "metadata": {},
   "outputs": [
    {
     "data": {
      "application/javascript": [
       "/* Put everything inside the global mpl namespace */\n",
       "window.mpl = {};\n",
       "\n",
       "\n",
       "mpl.get_websocket_type = function() {\n",
       "    if (typeof(WebSocket) !== 'undefined') {\n",
       "        return WebSocket;\n",
       "    } else if (typeof(MozWebSocket) !== 'undefined') {\n",
       "        return MozWebSocket;\n",
       "    } else {\n",
       "        alert('Your browser does not have WebSocket support. ' +\n",
       "              'Please try Chrome, Safari or Firefox ≥ 6. ' +\n",
       "              'Firefox 4 and 5 are also supported but you ' +\n",
       "              'have to enable WebSockets in about:config.');\n",
       "    };\n",
       "}\n",
       "\n",
       "mpl.figure = function(figure_id, websocket, ondownload, parent_element) {\n",
       "    this.id = figure_id;\n",
       "\n",
       "    this.ws = websocket;\n",
       "\n",
       "    this.supports_binary = (this.ws.binaryType != undefined);\n",
       "\n",
       "    if (!this.supports_binary) {\n",
       "        var warnings = document.getElementById(\"mpl-warnings\");\n",
       "        if (warnings) {\n",
       "            warnings.style.display = 'block';\n",
       "            warnings.textContent = (\n",
       "                \"This browser does not support binary websocket messages. \" +\n",
       "                    \"Performance may be slow.\");\n",
       "        }\n",
       "    }\n",
       "\n",
       "    this.imageObj = new Image();\n",
       "\n",
       "    this.context = undefined;\n",
       "    this.message = undefined;\n",
       "    this.canvas = undefined;\n",
       "    this.rubberband_canvas = undefined;\n",
       "    this.rubberband_context = undefined;\n",
       "    this.format_dropdown = undefined;\n",
       "\n",
       "    this.image_mode = 'full';\n",
       "\n",
       "    this.root = $('<div/>');\n",
       "    this._root_extra_style(this.root)\n",
       "    this.root.attr('style', 'display: inline-block');\n",
       "\n",
       "    $(parent_element).append(this.root);\n",
       "\n",
       "    this._init_header(this);\n",
       "    this._init_canvas(this);\n",
       "    this._init_toolbar(this);\n",
       "\n",
       "    var fig = this;\n",
       "\n",
       "    this.waiting = false;\n",
       "\n",
       "    this.ws.onopen =  function () {\n",
       "            fig.send_message(\"supports_binary\", {value: fig.supports_binary});\n",
       "            fig.send_message(\"send_image_mode\", {});\n",
       "            if (mpl.ratio != 1) {\n",
       "                fig.send_message(\"set_dpi_ratio\", {'dpi_ratio': mpl.ratio});\n",
       "            }\n",
       "            fig.send_message(\"refresh\", {});\n",
       "        }\n",
       "\n",
       "    this.imageObj.onload = function() {\n",
       "            if (fig.image_mode == 'full') {\n",
       "                // Full images could contain transparency (where diff images\n",
       "                // almost always do), so we need to clear the canvas so that\n",
       "                // there is no ghosting.\n",
       "                fig.context.clearRect(0, 0, fig.canvas.width, fig.canvas.height);\n",
       "            }\n",
       "            fig.context.drawImage(fig.imageObj, 0, 0);\n",
       "        };\n",
       "\n",
       "    this.imageObj.onunload = function() {\n",
       "        fig.ws.close();\n",
       "    }\n",
       "\n",
       "    this.ws.onmessage = this._make_on_message_function(this);\n",
       "\n",
       "    this.ondownload = ondownload;\n",
       "}\n",
       "\n",
       "mpl.figure.prototype._init_header = function() {\n",
       "    var titlebar = $(\n",
       "        '<div class=\"ui-dialog-titlebar ui-widget-header ui-corner-all ' +\n",
       "        'ui-helper-clearfix\"/>');\n",
       "    var titletext = $(\n",
       "        '<div class=\"ui-dialog-title\" style=\"width: 100%; ' +\n",
       "        'text-align: center; padding: 3px;\"/>');\n",
       "    titlebar.append(titletext)\n",
       "    this.root.append(titlebar);\n",
       "    this.header = titletext[0];\n",
       "}\n",
       "\n",
       "\n",
       "\n",
       "mpl.figure.prototype._canvas_extra_style = function(canvas_div) {\n",
       "\n",
       "}\n",
       "\n",
       "\n",
       "mpl.figure.prototype._root_extra_style = function(canvas_div) {\n",
       "\n",
       "}\n",
       "\n",
       "mpl.figure.prototype._init_canvas = function() {\n",
       "    var fig = this;\n",
       "\n",
       "    var canvas_div = $('<div/>');\n",
       "\n",
       "    canvas_div.attr('style', 'position: relative; clear: both; outline: 0');\n",
       "\n",
       "    function canvas_keyboard_event(event) {\n",
       "        return fig.key_event(event, event['data']);\n",
       "    }\n",
       "\n",
       "    canvas_div.keydown('key_press', canvas_keyboard_event);\n",
       "    canvas_div.keyup('key_release', canvas_keyboard_event);\n",
       "    this.canvas_div = canvas_div\n",
       "    this._canvas_extra_style(canvas_div)\n",
       "    this.root.append(canvas_div);\n",
       "\n",
       "    var canvas = $('<canvas/>');\n",
       "    canvas.addClass('mpl-canvas');\n",
       "    canvas.attr('style', \"left: 0; top: 0; z-index: 0; outline: 0\")\n",
       "\n",
       "    this.canvas = canvas[0];\n",
       "    this.context = canvas[0].getContext(\"2d\");\n",
       "\n",
       "    var backingStore = this.context.backingStorePixelRatio ||\n",
       "\tthis.context.webkitBackingStorePixelRatio ||\n",
       "\tthis.context.mozBackingStorePixelRatio ||\n",
       "\tthis.context.msBackingStorePixelRatio ||\n",
       "\tthis.context.oBackingStorePixelRatio ||\n",
       "\tthis.context.backingStorePixelRatio || 1;\n",
       "\n",
       "    mpl.ratio = (window.devicePixelRatio || 1) / backingStore;\n",
       "\n",
       "    var rubberband = $('<canvas/>');\n",
       "    rubberband.attr('style', \"position: absolute; left: 0; top: 0; z-index: 1;\")\n",
       "\n",
       "    var pass_mouse_events = true;\n",
       "\n",
       "    canvas_div.resizable({\n",
       "        start: function(event, ui) {\n",
       "            pass_mouse_events = false;\n",
       "        },\n",
       "        resize: function(event, ui) {\n",
       "            fig.request_resize(ui.size.width, ui.size.height);\n",
       "        },\n",
       "        stop: function(event, ui) {\n",
       "            pass_mouse_events = true;\n",
       "            fig.request_resize(ui.size.width, ui.size.height);\n",
       "        },\n",
       "    });\n",
       "\n",
       "    function mouse_event_fn(event) {\n",
       "        if (pass_mouse_events)\n",
       "            return fig.mouse_event(event, event['data']);\n",
       "    }\n",
       "\n",
       "    rubberband.mousedown('button_press', mouse_event_fn);\n",
       "    rubberband.mouseup('button_release', mouse_event_fn);\n",
       "    // Throttle sequential mouse events to 1 every 20ms.\n",
       "    rubberband.mousemove('motion_notify', mouse_event_fn);\n",
       "\n",
       "    rubberband.mouseenter('figure_enter', mouse_event_fn);\n",
       "    rubberband.mouseleave('figure_leave', mouse_event_fn);\n",
       "\n",
       "    canvas_div.on(\"wheel\", function (event) {\n",
       "        event = event.originalEvent;\n",
       "        event['data'] = 'scroll'\n",
       "        if (event.deltaY < 0) {\n",
       "            event.step = 1;\n",
       "        } else {\n",
       "            event.step = -1;\n",
       "        }\n",
       "        mouse_event_fn(event);\n",
       "    });\n",
       "\n",
       "    canvas_div.append(canvas);\n",
       "    canvas_div.append(rubberband);\n",
       "\n",
       "    this.rubberband = rubberband;\n",
       "    this.rubberband_canvas = rubberband[0];\n",
       "    this.rubberband_context = rubberband[0].getContext(\"2d\");\n",
       "    this.rubberband_context.strokeStyle = \"#000000\";\n",
       "\n",
       "    this._resize_canvas = function(width, height) {\n",
       "        // Keep the size of the canvas, canvas container, and rubber band\n",
       "        // canvas in synch.\n",
       "        canvas_div.css('width', width)\n",
       "        canvas_div.css('height', height)\n",
       "\n",
       "        canvas.attr('width', width * mpl.ratio);\n",
       "        canvas.attr('height', height * mpl.ratio);\n",
       "        canvas.attr('style', 'width: ' + width + 'px; height: ' + height + 'px;');\n",
       "\n",
       "        rubberband.attr('width', width);\n",
       "        rubberband.attr('height', height);\n",
       "    }\n",
       "\n",
       "    // Set the figure to an initial 600x600px, this will subsequently be updated\n",
       "    // upon first draw.\n",
       "    this._resize_canvas(600, 600);\n",
       "\n",
       "    // Disable right mouse context menu.\n",
       "    $(this.rubberband_canvas).bind(\"contextmenu\",function(e){\n",
       "        return false;\n",
       "    });\n",
       "\n",
       "    function set_focus () {\n",
       "        canvas.focus();\n",
       "        canvas_div.focus();\n",
       "    }\n",
       "\n",
       "    window.setTimeout(set_focus, 100);\n",
       "}\n",
       "\n",
       "mpl.figure.prototype._init_toolbar = function() {\n",
       "    var fig = this;\n",
       "\n",
       "    var nav_element = $('<div/>');\n",
       "    nav_element.attr('style', 'width: 100%');\n",
       "    this.root.append(nav_element);\n",
       "\n",
       "    // Define a callback function for later on.\n",
       "    function toolbar_event(event) {\n",
       "        return fig.toolbar_button_onclick(event['data']);\n",
       "    }\n",
       "    function toolbar_mouse_event(event) {\n",
       "        return fig.toolbar_button_onmouseover(event['data']);\n",
       "    }\n",
       "\n",
       "    for(var toolbar_ind in mpl.toolbar_items) {\n",
       "        var name = mpl.toolbar_items[toolbar_ind][0];\n",
       "        var tooltip = mpl.toolbar_items[toolbar_ind][1];\n",
       "        var image = mpl.toolbar_items[toolbar_ind][2];\n",
       "        var method_name = mpl.toolbar_items[toolbar_ind][3];\n",
       "\n",
       "        if (!name) {\n",
       "            // put a spacer in here.\n",
       "            continue;\n",
       "        }\n",
       "        var button = $('<button/>');\n",
       "        button.addClass('ui-button ui-widget ui-state-default ui-corner-all ' +\n",
       "                        'ui-button-icon-only');\n",
       "        button.attr('role', 'button');\n",
       "        button.attr('aria-disabled', 'false');\n",
       "        button.click(method_name, toolbar_event);\n",
       "        button.mouseover(tooltip, toolbar_mouse_event);\n",
       "\n",
       "        var icon_img = $('<span/>');\n",
       "        icon_img.addClass('ui-button-icon-primary ui-icon');\n",
       "        icon_img.addClass(image);\n",
       "        icon_img.addClass('ui-corner-all');\n",
       "\n",
       "        var tooltip_span = $('<span/>');\n",
       "        tooltip_span.addClass('ui-button-text');\n",
       "        tooltip_span.html(tooltip);\n",
       "\n",
       "        button.append(icon_img);\n",
       "        button.append(tooltip_span);\n",
       "\n",
       "        nav_element.append(button);\n",
       "    }\n",
       "\n",
       "    var fmt_picker_span = $('<span/>');\n",
       "\n",
       "    var fmt_picker = $('<select/>');\n",
       "    fmt_picker.addClass('mpl-toolbar-option ui-widget ui-widget-content');\n",
       "    fmt_picker_span.append(fmt_picker);\n",
       "    nav_element.append(fmt_picker_span);\n",
       "    this.format_dropdown = fmt_picker[0];\n",
       "\n",
       "    for (var ind in mpl.extensions) {\n",
       "        var fmt = mpl.extensions[ind];\n",
       "        var option = $(\n",
       "            '<option/>', {selected: fmt === mpl.default_extension}).html(fmt);\n",
       "        fmt_picker.append(option);\n",
       "    }\n",
       "\n",
       "    // Add hover states to the ui-buttons\n",
       "    $( \".ui-button\" ).hover(\n",
       "        function() { $(this).addClass(\"ui-state-hover\");},\n",
       "        function() { $(this).removeClass(\"ui-state-hover\");}\n",
       "    );\n",
       "\n",
       "    var status_bar = $('<span class=\"mpl-message\"/>');\n",
       "    nav_element.append(status_bar);\n",
       "    this.message = status_bar[0];\n",
       "}\n",
       "\n",
       "mpl.figure.prototype.request_resize = function(x_pixels, y_pixels) {\n",
       "    // Request matplotlib to resize the figure. Matplotlib will then trigger a resize in the client,\n",
       "    // which will in turn request a refresh of the image.\n",
       "    this.send_message('resize', {'width': x_pixels, 'height': y_pixels});\n",
       "}\n",
       "\n",
       "mpl.figure.prototype.send_message = function(type, properties) {\n",
       "    properties['type'] = type;\n",
       "    properties['figure_id'] = this.id;\n",
       "    this.ws.send(JSON.stringify(properties));\n",
       "}\n",
       "\n",
       "mpl.figure.prototype.send_draw_message = function() {\n",
       "    if (!this.waiting) {\n",
       "        this.waiting = true;\n",
       "        this.ws.send(JSON.stringify({type: \"draw\", figure_id: this.id}));\n",
       "    }\n",
       "}\n",
       "\n",
       "\n",
       "mpl.figure.prototype.handle_save = function(fig, msg) {\n",
       "    var format_dropdown = fig.format_dropdown;\n",
       "    var format = format_dropdown.options[format_dropdown.selectedIndex].value;\n",
       "    fig.ondownload(fig, format);\n",
       "}\n",
       "\n",
       "\n",
       "mpl.figure.prototype.handle_resize = function(fig, msg) {\n",
       "    var size = msg['size'];\n",
       "    if (size[0] != fig.canvas.width || size[1] != fig.canvas.height) {\n",
       "        fig._resize_canvas(size[0], size[1]);\n",
       "        fig.send_message(\"refresh\", {});\n",
       "    };\n",
       "}\n",
       "\n",
       "mpl.figure.prototype.handle_rubberband = function(fig, msg) {\n",
       "    var x0 = msg['x0'] / mpl.ratio;\n",
       "    var y0 = (fig.canvas.height - msg['y0']) / mpl.ratio;\n",
       "    var x1 = msg['x1'] / mpl.ratio;\n",
       "    var y1 = (fig.canvas.height - msg['y1']) / mpl.ratio;\n",
       "    x0 = Math.floor(x0) + 0.5;\n",
       "    y0 = Math.floor(y0) + 0.5;\n",
       "    x1 = Math.floor(x1) + 0.5;\n",
       "    y1 = Math.floor(y1) + 0.5;\n",
       "    var min_x = Math.min(x0, x1);\n",
       "    var min_y = Math.min(y0, y1);\n",
       "    var width = Math.abs(x1 - x0);\n",
       "    var height = Math.abs(y1 - y0);\n",
       "\n",
       "    fig.rubberband_context.clearRect(\n",
       "        0, 0, fig.canvas.width / mpl.ratio, fig.canvas.height / mpl.ratio);\n",
       "\n",
       "    fig.rubberband_context.strokeRect(min_x, min_y, width, height);\n",
       "}\n",
       "\n",
       "mpl.figure.prototype.handle_figure_label = function(fig, msg) {\n",
       "    // Updates the figure title.\n",
       "    fig.header.textContent = msg['label'];\n",
       "}\n",
       "\n",
       "mpl.figure.prototype.handle_cursor = function(fig, msg) {\n",
       "    var cursor = msg['cursor'];\n",
       "    switch(cursor)\n",
       "    {\n",
       "    case 0:\n",
       "        cursor = 'pointer';\n",
       "        break;\n",
       "    case 1:\n",
       "        cursor = 'default';\n",
       "        break;\n",
       "    case 2:\n",
       "        cursor = 'crosshair';\n",
       "        break;\n",
       "    case 3:\n",
       "        cursor = 'move';\n",
       "        break;\n",
       "    }\n",
       "    fig.rubberband_canvas.style.cursor = cursor;\n",
       "}\n",
       "\n",
       "mpl.figure.prototype.handle_message = function(fig, msg) {\n",
       "    fig.message.textContent = msg['message'];\n",
       "}\n",
       "\n",
       "mpl.figure.prototype.handle_draw = function(fig, msg) {\n",
       "    // Request the server to send over a new figure.\n",
       "    fig.send_draw_message();\n",
       "}\n",
       "\n",
       "mpl.figure.prototype.handle_image_mode = function(fig, msg) {\n",
       "    fig.image_mode = msg['mode'];\n",
       "}\n",
       "\n",
       "mpl.figure.prototype.updated_canvas_event = function() {\n",
       "    // Called whenever the canvas gets updated.\n",
       "    this.send_message(\"ack\", {});\n",
       "}\n",
       "\n",
       "// A function to construct a web socket function for onmessage handling.\n",
       "// Called in the figure constructor.\n",
       "mpl.figure.prototype._make_on_message_function = function(fig) {\n",
       "    return function socket_on_message(evt) {\n",
       "        if (evt.data instanceof Blob) {\n",
       "            /* FIXME: We get \"Resource interpreted as Image but\n",
       "             * transferred with MIME type text/plain:\" errors on\n",
       "             * Chrome.  But how to set the MIME type?  It doesn't seem\n",
       "             * to be part of the websocket stream */\n",
       "            evt.data.type = \"image/png\";\n",
       "\n",
       "            /* Free the memory for the previous frames */\n",
       "            if (fig.imageObj.src) {\n",
       "                (window.URL || window.webkitURL).revokeObjectURL(\n",
       "                    fig.imageObj.src);\n",
       "            }\n",
       "\n",
       "            fig.imageObj.src = (window.URL || window.webkitURL).createObjectURL(\n",
       "                evt.data);\n",
       "            fig.updated_canvas_event();\n",
       "            fig.waiting = false;\n",
       "            return;\n",
       "        }\n",
       "        else if (typeof evt.data === 'string' && evt.data.slice(0, 21) == \"data:image/png;base64\") {\n",
       "            fig.imageObj.src = evt.data;\n",
       "            fig.updated_canvas_event();\n",
       "            fig.waiting = false;\n",
       "            return;\n",
       "        }\n",
       "\n",
       "        var msg = JSON.parse(evt.data);\n",
       "        var msg_type = msg['type'];\n",
       "\n",
       "        // Call the  \"handle_{type}\" callback, which takes\n",
       "        // the figure and JSON message as its only arguments.\n",
       "        try {\n",
       "            var callback = fig[\"handle_\" + msg_type];\n",
       "        } catch (e) {\n",
       "            console.log(\"No handler for the '\" + msg_type + \"' message type: \", msg);\n",
       "            return;\n",
       "        }\n",
       "\n",
       "        if (callback) {\n",
       "            try {\n",
       "                // console.log(\"Handling '\" + msg_type + \"' message: \", msg);\n",
       "                callback(fig, msg);\n",
       "            } catch (e) {\n",
       "                console.log(\"Exception inside the 'handler_\" + msg_type + \"' callback:\", e, e.stack, msg);\n",
       "            }\n",
       "        }\n",
       "    };\n",
       "}\n",
       "\n",
       "// from http://stackoverflow.com/questions/1114465/getting-mouse-location-in-canvas\n",
       "mpl.findpos = function(e) {\n",
       "    //this section is from http://www.quirksmode.org/js/events_properties.html\n",
       "    var targ;\n",
       "    if (!e)\n",
       "        e = window.event;\n",
       "    if (e.target)\n",
       "        targ = e.target;\n",
       "    else if (e.srcElement)\n",
       "        targ = e.srcElement;\n",
       "    if (targ.nodeType == 3) // defeat Safari bug\n",
       "        targ = targ.parentNode;\n",
       "\n",
       "    // jQuery normalizes the pageX and pageY\n",
       "    // pageX,Y are the mouse positions relative to the document\n",
       "    // offset() returns the position of the element relative to the document\n",
       "    var x = e.pageX - $(targ).offset().left;\n",
       "    var y = e.pageY - $(targ).offset().top;\n",
       "\n",
       "    return {\"x\": x, \"y\": y};\n",
       "};\n",
       "\n",
       "/*\n",
       " * return a copy of an object with only non-object keys\n",
       " * we need this to avoid circular references\n",
       " * http://stackoverflow.com/a/24161582/3208463\n",
       " */\n",
       "function simpleKeys (original) {\n",
       "  return Object.keys(original).reduce(function (obj, key) {\n",
       "    if (typeof original[key] !== 'object')\n",
       "        obj[key] = original[key]\n",
       "    return obj;\n",
       "  }, {});\n",
       "}\n",
       "\n",
       "mpl.figure.prototype.mouse_event = function(event, name) {\n",
       "    var canvas_pos = mpl.findpos(event)\n",
       "\n",
       "    if (name === 'button_press')\n",
       "    {\n",
       "        this.canvas.focus();\n",
       "        this.canvas_div.focus();\n",
       "    }\n",
       "\n",
       "    var x = canvas_pos.x * mpl.ratio;\n",
       "    var y = canvas_pos.y * mpl.ratio;\n",
       "\n",
       "    this.send_message(name, {x: x, y: y, button: event.button,\n",
       "                             step: event.step,\n",
       "                             guiEvent: simpleKeys(event)});\n",
       "\n",
       "    /* This prevents the web browser from automatically changing to\n",
       "     * the text insertion cursor when the button is pressed.  We want\n",
       "     * to control all of the cursor setting manually through the\n",
       "     * 'cursor' event from matplotlib */\n",
       "    event.preventDefault();\n",
       "    return false;\n",
       "}\n",
       "\n",
       "mpl.figure.prototype._key_event_extra = function(event, name) {\n",
       "    // Handle any extra behaviour associated with a key event\n",
       "}\n",
       "\n",
       "mpl.figure.prototype.key_event = function(event, name) {\n",
       "\n",
       "    // Prevent repeat events\n",
       "    if (name == 'key_press')\n",
       "    {\n",
       "        if (event.which === this._key)\n",
       "            return;\n",
       "        else\n",
       "            this._key = event.which;\n",
       "    }\n",
       "    if (name == 'key_release')\n",
       "        this._key = null;\n",
       "\n",
       "    var value = '';\n",
       "    if (event.ctrlKey && event.which != 17)\n",
       "        value += \"ctrl+\";\n",
       "    if (event.altKey && event.which != 18)\n",
       "        value += \"alt+\";\n",
       "    if (event.shiftKey && event.which != 16)\n",
       "        value += \"shift+\";\n",
       "\n",
       "    value += 'k';\n",
       "    value += event.which.toString();\n",
       "\n",
       "    this._key_event_extra(event, name);\n",
       "\n",
       "    this.send_message(name, {key: value,\n",
       "                             guiEvent: simpleKeys(event)});\n",
       "    return false;\n",
       "}\n",
       "\n",
       "mpl.figure.prototype.toolbar_button_onclick = function(name) {\n",
       "    if (name == 'download') {\n",
       "        this.handle_save(this, null);\n",
       "    } else {\n",
       "        this.send_message(\"toolbar_button\", {name: name});\n",
       "    }\n",
       "};\n",
       "\n",
       "mpl.figure.prototype.toolbar_button_onmouseover = function(tooltip) {\n",
       "    this.message.textContent = tooltip;\n",
       "};\n",
       "mpl.toolbar_items = [[\"Home\", \"Reset original view\", \"fa fa-home icon-home\", \"home\"], [\"Back\", \"Back to previous view\", \"fa fa-arrow-left icon-arrow-left\", \"back\"], [\"Forward\", \"Forward to next view\", \"fa fa-arrow-right icon-arrow-right\", \"forward\"], [\"\", \"\", \"\", \"\"], [\"Pan\", \"Pan axes with left mouse, zoom with right\", \"fa fa-arrows icon-move\", \"pan\"], [\"Zoom\", \"Zoom to rectangle\", \"fa fa-square-o icon-check-empty\", \"zoom\"], [\"\", \"\", \"\", \"\"], [\"Download\", \"Download plot\", \"fa fa-floppy-o icon-save\", \"download\"]];\n",
       "\n",
       "mpl.extensions = [\"eps\", \"jpeg\", \"pdf\", \"png\", \"ps\", \"raw\", \"svg\", \"tif\"];\n",
       "\n",
       "mpl.default_extension = \"png\";var comm_websocket_adapter = function(comm) {\n",
       "    // Create a \"websocket\"-like object which calls the given IPython comm\n",
       "    // object with the appropriate methods. Currently this is a non binary\n",
       "    // socket, so there is still some room for performance tuning.\n",
       "    var ws = {};\n",
       "\n",
       "    ws.close = function() {\n",
       "        comm.close()\n",
       "    };\n",
       "    ws.send = function(m) {\n",
       "        //console.log('sending', m);\n",
       "        comm.send(m);\n",
       "    };\n",
       "    // Register the callback with on_msg.\n",
       "    comm.on_msg(function(msg) {\n",
       "        //console.log('receiving', msg['content']['data'], msg);\n",
       "        // Pass the mpl event to the overridden (by mpl) onmessage function.\n",
       "        ws.onmessage(msg['content']['data'])\n",
       "    });\n",
       "    return ws;\n",
       "}\n",
       "\n",
       "mpl.mpl_figure_comm = function(comm, msg) {\n",
       "    // This is the function which gets called when the mpl process\n",
       "    // starts-up an IPython Comm through the \"matplotlib\" channel.\n",
       "\n",
       "    var id = msg.content.data.id;\n",
       "    // Get hold of the div created by the display call when the Comm\n",
       "    // socket was opened in Python.\n",
       "    var element = $(\"#\" + id);\n",
       "    var ws_proxy = comm_websocket_adapter(comm)\n",
       "\n",
       "    function ondownload(figure, format) {\n",
       "        window.open(figure.imageObj.src);\n",
       "    }\n",
       "\n",
       "    var fig = new mpl.figure(id, ws_proxy,\n",
       "                           ondownload,\n",
       "                           element.get(0));\n",
       "\n",
       "    // Call onopen now - mpl needs it, as it is assuming we've passed it a real\n",
       "    // web socket which is closed, not our websocket->open comm proxy.\n",
       "    ws_proxy.onopen();\n",
       "\n",
       "    fig.parent_element = element.get(0);\n",
       "    fig.cell_info = mpl.find_output_cell(\"<div id='\" + id + \"'></div>\");\n",
       "    if (!fig.cell_info) {\n",
       "        console.error(\"Failed to find cell for figure\", id, fig);\n",
       "        return;\n",
       "    }\n",
       "\n",
       "    var output_index = fig.cell_info[2]\n",
       "    var cell = fig.cell_info[0];\n",
       "\n",
       "};\n",
       "\n",
       "mpl.figure.prototype.handle_close = function(fig, msg) {\n",
       "    var width = fig.canvas.width/mpl.ratio\n",
       "    fig.root.unbind('remove')\n",
       "\n",
       "    // Update the output cell to use the data from the current canvas.\n",
       "    fig.push_to_output();\n",
       "    var dataURL = fig.canvas.toDataURL();\n",
       "    // Re-enable the keyboard manager in IPython - without this line, in FF,\n",
       "    // the notebook keyboard shortcuts fail.\n",
       "    IPython.keyboard_manager.enable()\n",
       "    $(fig.parent_element).html('<img src=\"' + dataURL + '\" width=\"' + width + '\">');\n",
       "    fig.close_ws(fig, msg);\n",
       "}\n",
       "\n",
       "mpl.figure.prototype.close_ws = function(fig, msg){\n",
       "    fig.send_message('closing', msg);\n",
       "    // fig.ws.close()\n",
       "}\n",
       "\n",
       "mpl.figure.prototype.push_to_output = function(remove_interactive) {\n",
       "    // Turn the data on the canvas into data in the output cell.\n",
       "    var width = this.canvas.width/mpl.ratio\n",
       "    var dataURL = this.canvas.toDataURL();\n",
       "    this.cell_info[1]['text/html'] = '<img src=\"' + dataURL + '\" width=\"' + width + '\">';\n",
       "}\n",
       "\n",
       "mpl.figure.prototype.updated_canvas_event = function() {\n",
       "    // Tell IPython that the notebook contents must change.\n",
       "    IPython.notebook.set_dirty(true);\n",
       "    this.send_message(\"ack\", {});\n",
       "    var fig = this;\n",
       "    // Wait a second, then push the new image to the DOM so\n",
       "    // that it is saved nicely (might be nice to debounce this).\n",
       "    setTimeout(function () { fig.push_to_output() }, 1000);\n",
       "}\n",
       "\n",
       "mpl.figure.prototype._init_toolbar = function() {\n",
       "    var fig = this;\n",
       "\n",
       "    var nav_element = $('<div/>');\n",
       "    nav_element.attr('style', 'width: 100%');\n",
       "    this.root.append(nav_element);\n",
       "\n",
       "    // Define a callback function for later on.\n",
       "    function toolbar_event(event) {\n",
       "        return fig.toolbar_button_onclick(event['data']);\n",
       "    }\n",
       "    function toolbar_mouse_event(event) {\n",
       "        return fig.toolbar_button_onmouseover(event['data']);\n",
       "    }\n",
       "\n",
       "    for(var toolbar_ind in mpl.toolbar_items){\n",
       "        var name = mpl.toolbar_items[toolbar_ind][0];\n",
       "        var tooltip = mpl.toolbar_items[toolbar_ind][1];\n",
       "        var image = mpl.toolbar_items[toolbar_ind][2];\n",
       "        var method_name = mpl.toolbar_items[toolbar_ind][3];\n",
       "\n",
       "        if (!name) { continue; };\n",
       "\n",
       "        var button = $('<button class=\"btn btn-default\" href=\"#\" title=\"' + name + '\"><i class=\"fa ' + image + ' fa-lg\"></i></button>');\n",
       "        button.click(method_name, toolbar_event);\n",
       "        button.mouseover(tooltip, toolbar_mouse_event);\n",
       "        nav_element.append(button);\n",
       "    }\n",
       "\n",
       "    // Add the status bar.\n",
       "    var status_bar = $('<span class=\"mpl-message\" style=\"text-align:right; float: right;\"/>');\n",
       "    nav_element.append(status_bar);\n",
       "    this.message = status_bar[0];\n",
       "\n",
       "    // Add the close button to the window.\n",
       "    var buttongrp = $('<div class=\"btn-group inline pull-right\"></div>');\n",
       "    var button = $('<button class=\"btn btn-mini btn-primary\" href=\"#\" title=\"Stop Interaction\"><i class=\"fa fa-power-off icon-remove icon-large\"></i></button>');\n",
       "    button.click(function (evt) { fig.handle_close(fig, {}); } );\n",
       "    button.mouseover('Stop Interaction', toolbar_mouse_event);\n",
       "    buttongrp.append(button);\n",
       "    var titlebar = this.root.find($('.ui-dialog-titlebar'));\n",
       "    titlebar.prepend(buttongrp);\n",
       "}\n",
       "\n",
       "mpl.figure.prototype._root_extra_style = function(el){\n",
       "    var fig = this\n",
       "    el.on(\"remove\", function(){\n",
       "\tfig.close_ws(fig, {});\n",
       "    });\n",
       "}\n",
       "\n",
       "mpl.figure.prototype._canvas_extra_style = function(el){\n",
       "    // this is important to make the div 'focusable\n",
       "    el.attr('tabindex', 0)\n",
       "    // reach out to IPython and tell the keyboard manager to turn it's self\n",
       "    // off when our div gets focus\n",
       "\n",
       "    // location in version 3\n",
       "    if (IPython.notebook.keyboard_manager) {\n",
       "        IPython.notebook.keyboard_manager.register_events(el);\n",
       "    }\n",
       "    else {\n",
       "        // location in version 2\n",
       "        IPython.keyboard_manager.register_events(el);\n",
       "    }\n",
       "\n",
       "}\n",
       "\n",
       "mpl.figure.prototype._key_event_extra = function(event, name) {\n",
       "    var manager = IPython.notebook.keyboard_manager;\n",
       "    if (!manager)\n",
       "        manager = IPython.keyboard_manager;\n",
       "\n",
       "    // Check for shift+enter\n",
       "    if (event.shiftKey && event.which == 13) {\n",
       "        this.canvas_div.blur();\n",
       "        event.shiftKey = false;\n",
       "        // Send a \"J\" for go to next cell\n",
       "        event.which = 74;\n",
       "        event.keyCode = 74;\n",
       "        manager.command_mode();\n",
       "        manager.handle_keydown(event);\n",
       "    }\n",
       "}\n",
       "\n",
       "mpl.figure.prototype.handle_save = function(fig, msg) {\n",
       "    fig.ondownload(fig, null);\n",
       "}\n",
       "\n",
       "\n",
       "mpl.find_output_cell = function(html_output) {\n",
       "    // Return the cell and output element which can be found *uniquely* in the notebook.\n",
       "    // Note - this is a bit hacky, but it is done because the \"notebook_saving.Notebook\"\n",
       "    // IPython event is triggered only after the cells have been serialised, which for\n",
       "    // our purposes (turning an active figure into a static one), is too late.\n",
       "    var cells = IPython.notebook.get_cells();\n",
       "    var ncells = cells.length;\n",
       "    for (var i=0; i<ncells; i++) {\n",
       "        var cell = cells[i];\n",
       "        if (cell.cell_type === 'code'){\n",
       "            for (var j=0; j<cell.output_area.outputs.length; j++) {\n",
       "                var data = cell.output_area.outputs[j];\n",
       "                if (data.data) {\n",
       "                    // IPython >= 3 moved mimebundle to data attribute of output\n",
       "                    data = data.data;\n",
       "                }\n",
       "                if (data['text/html'] == html_output) {\n",
       "                    return [cell, data, j];\n",
       "                }\n",
       "            }\n",
       "        }\n",
       "    }\n",
       "}\n",
       "\n",
       "// Register the function which deals with the matplotlib target/channel.\n",
       "// The kernel may be null if the page has been refreshed.\n",
       "if (IPython.notebook.kernel != null) {\n",
       "    IPython.notebook.kernel.comm_manager.register_target('matplotlib', mpl.mpl_figure_comm);\n",
       "}\n"
      ],
      "text/plain": [
       "<IPython.core.display.Javascript object>"
      ]
     },
     "metadata": {},
     "output_type": "display_data"
    },
    {
     "data": {
      "text/html": [
       "<img src=\"data:image/png;base64,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\" width=\"640\">"
      ],
      "text/plain": [
       "<IPython.core.display.HTML object>"
      ]
     },
     "metadata": {},
     "output_type": "display_data"
    }
   ],
   "source": [
    "import matplotlib.pyplot as plt\n",
    "# This next command is specifically for Jupyter Notebook\n",
    "%matplotlib notebook\n",
    "\n",
    "fig = plt.figure()"
   ]
  },
  {
   "cell_type": "markdown",
   "metadata": {},
   "source": [
    "You can reference and change options in the active figure using the `plt.gcf()` function."
   ]
  },
  {
   "cell_type": "markdown",
   "metadata": {},
   "source": [
    "### 0.1. Subplot commands\n",
    "When you declare a figure using the `plt.figure()` command, you must then declare how many subplots will be in the figure. This is done using the `add_subplot()` command. You have to create one or more subplots."
   ]
  },
  {
   "cell_type": "code",
   "execution_count": 2,
   "metadata": {},
   "outputs": [],
   "source": [
    "ax1 = fig.add_subplot(2, 2, 1)"
   ]
  },
  {
   "cell_type": "code",
   "execution_count": 3,
   "metadata": {},
   "outputs": [],
   "source": [
    "ax2 = fig.add_subplot(2, 2, 2)"
   ]
  },
  {
   "cell_type": "code",
   "execution_count": 4,
   "metadata": {},
   "outputs": [],
   "source": [
    "ax3 = fig.add_subplot(2, 2, 3)"
   ]
  },
  {
   "cell_type": "markdown",
   "metadata": {},
   "source": [
    "Let's fill in the third subplot with a two-way line plot of some white noise. If we don't specify the axes of the specific subplot that we want, matplotlib will use the most recently created subplot"
   ]
  },
  {
   "cell_type": "code",
   "execution_count": 5,
   "metadata": {},
   "outputs": [
    {
     "data": {
      "text/plain": [
       "[<matplotlib.lines.Line2D at 0x119397908>]"
      ]
     },
     "execution_count": 5,
     "metadata": {},
     "output_type": "execute_result"
    },
    {
     "data": {
      "image/png": "[encoded data removed]",
      "text/plain": [
       "<Figure size 432x288 with 1 Axes>"
      ]
     },
     "metadata": {
      "needs_background": "light"
     },
     "output_type": "display_data"
    }
   ],
   "source": [
    "import numpy as np\n",
    "\n",
    "plt.plot(np.random.randn(50).cumsum(), 'k--')"
   ]
  },
  {
   "cell_type": "markdown",
   "metadata": {},
   "source": [
    "The `k--` is a style option instructing matplotlib to plot the data with a black dashed line. The objects returned by `fig.add_subplot()` avobe are `AxesSubPlot` objects on which you can directly plot on the other empty subplots by calling each one's instance methods."
   ]
  },
  {
   "cell_type": "code",
   "execution_count": 6,
   "metadata": {},
   "outputs": [],
   "source": [
    "_ = ax1.hist(np.random.randn(100), bins=20, color='y', alpha=0.3)"
   ]
  },
  {
   "cell_type": "code",
   "execution_count": 7,
   "metadata": {},
   "outputs": [
    {
     "data": {
      "text/plain": [
       "<matplotlib.collections.PathCollection at 0x11945feb8>"
      ]
     },
     "execution_count": 7,
     "metadata": {},
     "output_type": "execute_result"
    }
   ],
   "source": [
    "ax2.scatter(np.arange(30), np.arange(30) + 3*np.random.randn(30))"
   ]
  },
  {
   "cell_type": "markdown",
   "metadata": {},
   "source": [
    "Since creating a figure with multiple subplots according to a particular layout is such a common task, there is a convenience method, `plt.subplots()`, that creates a new figure and returns a NumPy array containing the created subplot objects. This is very useful as the `axes` array can be easily indexed like a two-dimensional array--for example, `axes[0, 1]`. You can also indicate that subplots should have the same $x$ and $y$ axis using `sharex` and `sharey` options, respectively. This is especially useful when comparing data on the same scale; otherwise, matplotlib auto-scales plot limits independently"
   ]
  },
  {
   "cell_type": "code",
   "execution_count": 8,
   "metadata": {},
   "outputs": [
    {
     "data": {
      "text/plain": [
       "array([[<matplotlib.axes._subplots.AxesSubplot object at 0x1194dca20>,\n",
       "        <matplotlib.axes._subplots.AxesSubplot object at 0x11950eba8>,\n",
       "        <matplotlib.axes._subplots.AxesSubplot object at 0x11954b198>],\n",
       "       [<matplotlib.axes._subplots.AxesSubplot object at 0x11957b748>,\n",
       "        <matplotlib.axes._subplots.AxesSubplot object at 0x1195accf8>,\n",
       "        <matplotlib.axes._subplots.AxesSubplot object at 0x1195eb2e8>]],\n",
       "      dtype=object)"
      ]
     },
     "execution_count": 8,
     "metadata": {},
     "output_type": "execute_result"
    },
    {
     "data": {
      "image/png": "[encoded data removed]",
      "text/plain": [
       "<Figure size 432x288 with 6 Axes>"
      ]
     },
     "metadata": {
      "needs_background": "light"
     },
     "output_type": "display_data"
    }
   ],
   "source": [
    "fig, axes = plt.subplots(2, 3)\n",
    "axes"
   ]
  },
  {
   "cell_type": "markdown",
   "metadata": {},
   "source": [
    "### 0.2. Colors, markers, and line styles\n",
    "Matplotlib can accept a single string argument that can encapsulate a subset of the options available in the `color`, `marker`, and `linestyle` options. For example, the following two commands do the same thing."
   ]
  },
  {
   "cell_type": "code",
   "execution_count": 9,
   "metadata": {},
   "outputs": [
    {
     "data": {
      "text/plain": [
       "[<matplotlib.lines.Line2D at 0x1196c3eb8>]"
      ]
     },
     "execution_count": 9,
     "metadata": {},
     "output_type": "execute_result"
    },
    {
     "data": {
      "image/png": "[encoded data removed]",
      "text/plain": [
       "<Figure size 432x288 with 1 Axes>"
      ]
     },
     "metadata": {
      "needs_background": "light"
     },
     "output_type": "display_data"
    }
   ],
   "source": [
    "xx = np.arange(45)\n",
    "yy = 0.5 * xx ** 2 - 3 * xx * np.random.randn(45)\n",
    "\n",
    "plt.plot(xx, yy, 'go--')"
   ]
  },
  {
   "cell_type": "code",
   "execution_count": 10,
   "metadata": {},
   "outputs": [
    {
     "data": {
      "text/plain": [
       "[<matplotlib.lines.Line2D at 0x1197fbc18>]"
      ]
     },
     "execution_count": 10,
     "metadata": {},
     "output_type": "execute_result"
    },
    {
     "data": {
      "image/png": "[encoded data removed]",
      "text/plain": [
       "<Figure size 432x288 with 1 Axes>"
      ]
     },
     "metadata": {
      "needs_background": "light"
     },
     "output_type": "display_data"
    }
   ],
   "source": [
    "plt.plot(xx, yy, linestyle='--', color='g', marker='o')"
   ]
  },
  {
   "cell_type": "markdown",
   "metadata": {},
   "source": [
    "### 0.3. Ticks, labels, and legends\n",
    "The following commands show how to add a title to a plot, add axis labels, and set the minimum and maximum to be plotted on both axes."
   ]
  },
  {
   "cell_type": "code",
   "execution_count": 11,
   "metadata": {},
   "outputs": [
    {
     "data": {
      "text/plain": [
       "(200, 700)"
      ]
     },
     "execution_count": 11,
     "metadata": {},
     "output_type": "execute_result"
    },
    {
     "data": {
      "image/png": "[encoded data removed]",
      "text/plain": [
       "<Figure size 432x288 with 1 Axes>"
      ]
     },
     "metadata": {
      "needs_background": "light"
     },
     "output_type": "display_data"
    }
   ],
   "source": [
    "plt.plot(xx, yy, linestyle='--', color='g', marker='o')\n",
    "plt.title('This is the best plot ever', fontsize=20)\n",
    "plt.xlabel(r'$X$')\n",
    "plt.ylabel(r'$Y$')\n",
    "plt.xlim([10, 30])  # This gives the xmin and xmax to be plotted\n",
    "plt.ylim([200, 700])  # This gives the ymin and ymax to be plotted"
   ]
  },
  {
   "cell_type": "markdown",
   "metadata": {},
   "source": [
    "Adding a legend to a plot is essential if you are plotting more than one series. In the example below, I plot two time series. Both series are with periods 1 and 50. Note that I put grid lines on the plot by using the `MultipleLocator` function from the `matplotlib.ticker` package."
   ]
  },
  {
   "cell_type": "code",
   "execution_count": 12,
   "metadata": {},
   "outputs": [
    {
     "data": {
      "text/plain": [
       "<matplotlib.legend.Legend at 0x119872160>"
      ]
     },
     "execution_count": 12,
     "metadata": {},
     "output_type": "execute_result"
    },
    {
     "data": {
      "image/png": "[encoded data removed]",
      "text/plain": [
       "<Figure size 432x288 with 1 Axes>"
      ]
     },
     "metadata": {
      "needs_background": "light"
     },
     "output_type": "display_data"
    }
   ],
   "source": [
    "from matplotlib.ticker import MultipleLocator\n",
    "\n",
    "fig, ax = plt.subplots()\n",
    "my_age = np.arange(3, 45)\n",
    "knees_hurt = 0.03 * np.arange(50) ** 2\n",
    "all_ages = np.arange(50)\n",
    "plt.plot(all_ages[4:46], my_age, marker='D', label='My age')\n",
    "plt.plot(all_ages, knees_hurt, marker='o',\n",
    "         label='How much my knees hurt')\n",
    "# for the minor ticks, use no labels; default NullFormatter\n",
    "minorLocator = MultipleLocator(1)\n",
    "ax.xaxis.set_minor_locator(minorLocator)\n",
    "plt.grid(b=True, which='major', color='0.65', linestyle='-')\n",
    "plt.title('My knee pain and my age', fontsize=20)\n",
    "plt.xlabel(r'Age')\n",
    "plt.ylabel(r'Pain units')\n",
    "plt.xlim([-1.0, 50])\n",
    "plt.ylim([-2.0, 80])\n",
    "plt.legend(loc='upper left')"
   ]
  },
  {
   "cell_type": "markdown",
   "metadata": {},
   "source": [
    "Now suppose I wanted to change the tick labels on the x axis to highlight some key years (8, 28, and 41) in addition to the 0, 10, 20,... currently listed. And I want those three extra years to be labeled with the strings ('bt', 'mt', 'cr'). And assume I wanted the labels to be vertically oriented (rather than the current horizontal orientation)."
   ]
  },
  {
   "cell_type": "code",
   "execution_count": 13,
   "metadata": {},
   "outputs": [
    {
     "data": {
      "text/plain": [
       "<matplotlib.legend.Legend at 0x119ad3da0>"
      ]
     },
     "execution_count": 13,
     "metadata": {},
     "output_type": "execute_result"
    },
    {
     "data": {
      "image/png": "[encoded data removed]",
      "text/plain": [
       "<Figure size 432x288 with 1 Axes>"
      ]
     },
     "metadata": {
      "needs_background": "light"
     },
     "output_type": "display_data"
    }
   ],
   "source": [
    "xtickvals = [0, 8, 10, 20, 28, 30, 40, 41, 50]\n",
    "xticklabs = [0, 'bt', 10, 20, 'mt', 30, 40, 'cr', 50]\n",
    "\n",
    "fig, ax = plt.subplots()\n",
    "my_age = np.arange(3, 45)\n",
    "knees_hurt = 0.03 * np.arange(50) ** 2\n",
    "all_ages = np.arange(50)\n",
    "plt.plot(all_ages[4:46], my_age, marker='D', label='My age')\n",
    "plt.plot(all_ages, knees_hurt, marker='o',\n",
    "         label='How much my knees hurt')\n",
    "# for the minor ticks, use no labels; default NullFormatter\n",
    "minorLocator = MultipleLocator(1)\n",
    "ax.xaxis.set_minor_locator(minorLocator)\n",
    "plt.grid(b=True, which='major', color='0.65', linestyle='-')\n",
    "plt.title('My knee pain and my age', fontsize=20)\n",
    "plt.xlabel(r'Age')\n",
    "plt.ylabel(r'Pain units')\n",
    "plt.xticks(xtickvals, xticklabs, rotation='vertical')\n",
    "plt.xlim([-1.0, 50])\n",
    "plt.ylim([-2.0, 80])\n",
    "plt.legend(loc='upper left')"
   ]
  },
  {
   "cell_type": "markdown",
   "metadata": {},
   "source": [
    "### 0.4. Annotations and drawing on a Subplot\n",
    "Annotations and text can be added using the `text`, `arrow`, and `annotate` functions. `text` draws text at given coordinates `(x, y)` on the plot with optional custom styling.\n",
    "```python\n",
    "ax.text(x, y, 'Hello world!', family='monospace', fontsize=10)\n",
    "```"
   ]
  },
  {
   "cell_type": "code",
   "execution_count": 14,
   "metadata": {},
   "outputs": [
    {
     "data": {
      "text/plain": [
       "(600, 1800)"
      ]
     },
     "execution_count": 14,
     "metadata": {},
     "output_type": "execute_result"
    },
    {
     "data": {
      "image/png": "[encoded data removed]",
      "text/plain": [
       "<Figure size 432x288 with 1 Axes>"
      ]
     },
     "metadata": {
      "needs_background": "light"
     },
     "output_type": "display_data"
    }
   ],
   "source": [
    "import pandas as pd\n",
    "from datetime import datetime\n",
    "\n",
    "fig = plt.figure()\n",
    "ax = fig.add_subplot(1, 1, 1)\n",
    "\n",
    "data = pd.read_csv('data/spx.csv', index_col=0, parse_dates=True)\n",
    "spx = data['SPX']\n",
    "spx.plot(ax=ax, style='k-')\n",
    "\n",
    "crisis_data = [\n",
    "    (datetime(2007, 10, 11), 'Peak of bull market'),\n",
    "    (datetime(2008, 3, 12), 'Bear Stearns Fails'),\n",
    "    (datetime(2008, 9, 15), 'Lehman Bankruptcy')\n",
    "]\n",
    "\n",
    "for date, label in crisis_data:\n",
    "    ax.annotate(label, xy=(date, spx.asof(date) + 50),\n",
    "                xytext=(date, spx.asof(date) + 200),\n",
    "                arrowprops=dict(facecolor='black'),\n",
    "                horizontalalignment='left', verticalalignment='top')\n",
    "\n",
    "# Zoom in on 2007-2010\n",
    "ax.set_xlim(['1/1/2007', '1/1/2011'])\n",
    "ax.set_ylim([600, 1800])"
   ]
  },
  {
   "cell_type": "markdown",
   "metadata": {},
   "source": [
    "### 0.4. Saving figures\n",
    "Good housekeeping in your file directories is an essential skill for any significant coding project. The directory of the main Python scripts can get cluttered with datafiles, scripts, modules, figure files, and other output files. It is good practice to save files to an \"images\" folder. I prefer to have that folder in the same directory as my calling Python scripts or modules. But in the following format, one can put the images folder anywhere to which the user's terminal can write. This code won't work in this Jupyter notebook.\n",
    "```python\n",
    "from matplotlib.ticker import MultipleLocator\n",
    "import os\n",
    "\n",
    "plot = True\n",
    "\n",
    "if plot:\n",
    "    '''\n",
    "    --------------------------------------------------------------------\n",
    "    cur_path    = string, path name of current directory\n",
    "    output_fldr = string, folder in current path to save files\n",
    "    output_dir  = string, total path of images folder\n",
    "    output_path = string, path of file name of figure to be saved\n",
    "    xx          = (45,) vector, values of xx\n",
    "    yy          = (45,) vector, values of yy\n",
    "    --------------------------------------------------------------------\n",
    "    '''\n",
    "    # Create directory if images directory does not already exist\n",
    "    cur_path = os.path.split(os.path.abspath(__file__))[0]\n",
    "    output_fldr = 'images'\n",
    "    output_dir = os.path.join(cur_path, output_fldr)\n",
    "    if not os.access(output_dir, os.F_OK):\n",
    "        os.makedirs(output_dir)\n",
    "\n",
    "    # Plot line plot of xx and yy\n",
    "    xx = np.arange(45)\n",
    "    yy = 0.5 * xx ** 2 - 3 * xx * np.random.randn(45)\n",
    "    plt.plot(xx, yy, 'go--')\n",
    "    # for the minor ticks, use no labels; default NullFormatter\n",
    "    minorLocator = MultipleLocator(1)\n",
    "    ax.xaxis.set_minor_locator(minorLocator)\n",
    "    plt.grid(b=True, which='major', color='0.65', linestyle='-')\n",
    "    plt.title('Line plot of X and Y', fontsize=20)\n",
    "    plt.xlabel(r'$X$')\n",
    "    plt.ylabel(r'$Y$')\n",
    "    output_path = os.path.join(output_dir, 'xyplot')\n",
    "    plt.savefig(output_path)\n",
    "    # plt.show()\n",
    "    plt.close()\n",
    "```"
   ]
  },
  {
   "cell_type": "markdown",
   "metadata": {},
   "source": [
    "This code won't work in this Jupyter notebook because of the line in which `cur_path` is set. This script is not being run from a traditional script and therefore cannot use that `os.path.split()` function. But lets go through some of the main principles in this code.\n",
    "* It is often wise to set a Boolean in your script (`plot` in this example) to allow yourself to easily turn the plotting on and off within your code. Sometimes your plotting is just a diagnostic that you don't need to run every time with your analysis.\n",
    "* Have your script intelligently choose the folder from which the plotting functionality is being called. This is the `cur_path = os.path.split()` line. Those lines check what the current directory is, check if a subdirectory named \"images/\" already exists, and makes that directory if it does not already exist. Then the `plt.savefig()` command saves the figure to that folder.\n",
    "* At the end of a script that creates a figure, make sure to include the plt.close() command. If you don't do that, the matplotlib objects can pile up in your computer's memory--regardless of whether the plots are open and visible on your screen--and crash your computer."
   ]
  },
  {
   "cell_type": "markdown",
   "metadata": {},
   "source": [
    "## 1. The Almighty Histogram and its Friends"
   ]
  },
  {
   "cell_type": "markdown",
   "metadata": {},
   "source": [
    "### 1.1. The cumulative distribution function\n",
    "All the standard univariate descriptive statistics (e.g., mean, standard deviation, quantiles, autocorrelation) are simply statistics derived from the cumulative distribution function (*cdf*). The CDF $F$ of a random variable $X$ is defined as fraction of the values of $X$ that are greater than some realization of the random variable $x$.\n",
    "$$F(x) \\equiv Pr(X\\leq x)$$\n",
    "The estimator for the CDF is the empirical cumulative distribution function (*ecdf*) defined as:\n",
    "$$F_n = \\frac{\\#\\{x_i\\leq x\\}}{n} = \\frac{\\#x_i\\in(-\\infty, x]}{n} = \\frac{1}{n}\\sum_{i=1}^n I_{(-\\infty, x]}(x_i)$$,\n",
    "where $\\{x_1,x_2,...x_n\\}$ is a random sample of $n$ draws from $F$ and ,\n",
    "$$I_A(x) = \\begin{cases}1\\quad\\text{if}\\quad x\\in A \\\\ 0 \\quad\\text{if}\\quad x\\notin A.\\end{cases}$$\n",
    "\n",
    "Because the data for the *ecdf* are discrete, the *ecdf* is a stepwise linear (staircase) function. The Figure below shows the *ecdf* of Old Faithful eruption durations lasting longer than 3 seconds. The smooth red dotted line is a fitted continuous *cdf*.\n",
    "![title](Images/OldFaithfulCDF.png)"
   ]
  },
  {
   "cell_type": "markdown",
   "metadata": {},
   "source": [
    "### 1.2. The univariate probability density function and the histogram\n",
    "The most visually instructive transformation of the *cdf* is the probability density function (*pdf*). The value of the *pdf* at a given point does not have an intuitive interpretation. The *pdf* is the derivative or slope or rate of change of the *cdf*. But the *pdf* is good for describing what percent of the distribution lies between two values. The *pdf* $f$ is a function of particular values $x$ from the support of the random variable $X$ defined in the following way,\n",
    "$$f(x)\\equiv \\frac{\\partial F(x)}{\\partial x}.$$\n",
    "\n",
    "Scott (2015, p. 39) states that \"the empirical probability density function *epdf* is always a discrete Uniform density over the data, that is, the probability mass $n^{-1}$ at each data point.\" This means that the *epdf* is not continuous, nor is it continuously differentiable. It is simply a one-dimensional scatter diagram with each marker lining up along $n^{-1}$ on the $y$ axis and at each data point on the $x$-axis.\n",
    "\n",
    "A much more instructive representation of the empirical content of a probability density function is the *histogram*. It is more analogous to the discrete *ecdf* from the previous section. A histogram is an empirical estimator for the probability density function. A histogram $h(x)$ for a random variable $X$ is a set of nonoverlapping, contiguous intervals that include the entire support of $X$ that gives the count or frequency of observations in each bin. As such, a histogram $h(x)$ with $B$ bins is completely characterized by bin cutoffs $\\{c_1,c_2,...c_B, c_{B+1}\\}$. Let $bin_b$ be characterized by $x\\in(c_b, c_{b+1}]$ The specification of the count version of the histogram is the following.\n",
    "$$h(x) = \\sum_{i=1}^N I_{bin_b}(x_i)$$\n",
    "The bins need not have equal width, but that is usually the default for most histogram programming and graphical functions."
   ]
  },
  {
   "cell_type": "markdown",
   "metadata": {},
   "source": [
    "Use the penny thickness dataset `penny.csv`. Read it in to pandas. Reformat it to a Series with 90 elements such that each observation is a penny thickness. Create a histogram with 10 equally spaced bins."
   ]
  },
  {
   "cell_type": "code",
   "execution_count": 15,
   "metadata": {},
   "outputs": [
    {
     "data": {
      "text/plain": [
       "year        \n",
       "1945  penny1    51.8\n",
       "      penny2    54.6\n",
       "1946  penny1    53.2\n",
       "      penny2    54.2\n",
       "1947  penny1    53.0\n",
       "                ... \n",
       "1987  penny2    54.0\n",
       "1988  penny1    54.0\n",
       "      penny2    55.6\n",
       "1989  penny1    56.2\n",
       "      penny2    54.0\n",
       "Length: 90, dtype: float64"
      ]
     },
     "execution_count": 15,
     "metadata": {},
     "output_type": "execute_result"
    }
   ],
   "source": [
    "import numpy as np\n",
    "import pandas as pd\n",
    "from pandas import DataFrame, Series\n",
    "\n",
    "pennies = pd.read_csv('data/penny.csv', names =['year', 'penny1', 'penny2'],\n",
    "                      index_col='year', skiprows=[0, 1, 2, 3, 4, 5])\n",
    "pennies_all = pennies.stack()\n",
    "pennies_all"
   ]
  },
  {
   "cell_type": "code",
   "execution_count": 16,
   "metadata": {},
   "outputs": [
    {
     "data": {
      "text/plain": [
       "(array([ 2.,  4.,  8., 16., 20., 11., 10., 11.,  5.,  3.]),\n",
       " array([50.6 , 51.44, 52.28, 53.12, 53.96, 54.8 , 55.64, 56.48, 57.32,\n",
       "        58.16, 59.  ]),\n",
       " <a list of 10 Patch objects>)"
      ]
     },
     "execution_count": 16,
     "metadata": {},
     "output_type": "execute_result"
    },
    {
     "data": {
      "image/png": "[encoded data removed]",
      "text/plain": [
       "<Figure size 432x288 with 1 Axes>"
      ]
     },
     "metadata": {
      "needs_background": "light"
     },
     "output_type": "display_data"
    }
   ],
   "source": [
    "plt.hist(pennies_all, 10)"
   ]
  },
  {
   "cell_type": "markdown",
   "metadata": {},
   "source": [
    "Note that `plt.hist()` outputs three objects. The first is a list of counts in each bin (`n`). The second is a list of bin endpoints (`bin_cuts`), and the third is a list of patch objects. I have no idea what the patch objects are, but the `n` and `bin_cuts` are straightforward."
   ]
  },
  {
   "cell_type": "markdown",
   "metadata": {},
   "source": [
    "Now try a histogram with four equally spaced bins. Let's make the bin color green."
   ]
  },
  {
   "cell_type": "code",
   "execution_count": 17,
   "metadata": {},
   "outputs": [
    {
     "data": {
      "image/png": "[encoded data removed]",
      "text/plain": [
       "<Figure size 432x288 with 1 Axes>"
      ]
     },
     "metadata": {
      "needs_background": "light"
     },
     "output_type": "display_data"
    }
   ],
   "source": [
    "n, bin_cuts, patches = plt.hist(pennies_all, 4, facecolor='green')"
   ]
  },
  {
   "cell_type": "markdown",
   "metadata": {},
   "source": [
    "Now try a histogram with 90 equally spaced bins. Note that there are only 90 observations in the `pennies_all` data."
   ]
  },
  {
   "cell_type": "code",
   "execution_count": 18,
   "metadata": {},
   "outputs": [
    {
     "data": {
      "image/png": "[encoded data removed]",
      "text/plain": [
       "<Figure size 432x288 with 1 Axes>"
      ]
     },
     "metadata": {
      "needs_background": "light"
     },
     "output_type": "display_data"
    }
   ],
   "source": [
    "n, bin_cuts, patches = plt.hist(pennies_all, 90)"
   ]
  },
  {
   "cell_type": "markdown",
   "metadata": {},
   "source": [
    "The cardinal sin of visualizations is not labeling your plot and your axes. We have so far committed that cardinal sin. We can label the plot and the axes by using the following additional matplotlib options."
   ]
  },
  {
   "cell_type": "code",
   "execution_count": 19,
   "metadata": {},
   "outputs": [
    {
     "data": {
      "text/plain": [
       "Text(0, 0.5, 'Number of observations')"
      ]
     },
     "execution_count": 19,
     "metadata": {},
     "output_type": "execute_result"
    },
    {
     "data": {
      "image/png": "[encoded data removed]",
      "text/plain": [
       "<Figure size 432x288 with 1 Axes>"
      ]
     },
     "metadata": {
      "needs_background": "light"
     },
     "output_type": "display_data"
    }
   ],
   "source": [
    "n, bin_cuts, patches = plt.hist(pennies_all, 10)\n",
    "plt.title('Histogram of penny thickness (mils): 1945-1989', fontsize=17)\n",
    "plt.xlabel(r'Thickness (mils)')\n",
    "plt.ylabel(r'Number of observations')"
   ]
  },
  {
   "cell_type": "markdown",
   "metadata": {},
   "source": [
    "Now what if we wanted our histogram to be in frequency form rather than count form. The frequency form of a histogram is more analogous to the probability density function. It is simply a normalized version of the count histogram in which each observation is weighted by $n^{-1}$. We can implement this by creating a weight vector of $N$ elements, each of which is $n^{-1}$, we can then feed this directly into the histogram function."
   ]
  },
  {
   "cell_type": "code",
   "execution_count": 20,
   "metadata": {},
   "outputs": [
    {
     "data": {
      "text/plain": [
       "Text(0, 0.5, 'Percent of observations in bin')"
      ]
     },
     "execution_count": 20,
     "metadata": {},
     "output_type": "execute_result"
    },
    {
     "data": {
      "image/png": "[encoded data removed]",
      "text/plain": [
       "<Figure size 432x288 with 1 Axes>"
      ]
     },
     "metadata": {
      "needs_background": "light"
     },
     "output_type": "display_data"
    }
   ],
   "source": [
    "num_bins = 10\n",
    "weights = (1 / pennies_all.shape[0]) * np.ones_like(pennies_all)\n",
    "n, bin_cuts, patches = plt.hist(pennies_all, num_bins, weights=weights)\n",
    "plt.title('Histogram of penny thickness (mils): 1945-1989', fontsize=17)\n",
    "plt.xlabel(r'Thickness (mils)')\n",
    "plt.ylabel(r'Percent of observations in bin')"
   ]
  },
  {
   "cell_type": "markdown",
   "metadata": {},
   "source": [
    "You can verify that the percents in each bin sum to one."
   ]
  },
  {
   "cell_type": "code",
   "execution_count": 21,
   "metadata": {},
   "outputs": [
    {
     "name": "stdout",
     "output_type": "stream",
     "text": [
      "0.9999999999999999\n"
     ]
    }
   ],
   "source": [
    "print(n.sum())"
   ]
  },
  {
   "cell_type": "markdown",
   "metadata": {},
   "source": [
    "It would probably be more instructive if the labels on the $x$ axis were closer to the boundaries."
   ]
  },
  {
   "cell_type": "code",
   "execution_count": 22,
   "metadata": {},
   "outputs": [
    {
     "data": {
      "text/plain": [
       "Text(0, 0.5, 'Percent of observations in bin')"
      ]
     },
     "execution_count": 22,
     "metadata": {},
     "output_type": "execute_result"
    },
    {
     "data": {
      "image/png": "[encoded data removed]",
      "text/plain": [
       "<Figure size 432x288 with 1 Axes>"
      ]
     },
     "metadata": {
      "needs_background": "light"
     },
     "output_type": "display_data"
    }
   ],
   "source": [
    "n, bin_cuts, patches = plt.hist(pennies_all, num_bins, weights=weights)\n",
    "plt.xticks(np.round_(bin_cuts, 1))\n",
    "plt.title('Histogram of penny thickness (mils): 1945-1989', fontsize=17)\n",
    "plt.xlabel(r'Thickness (mils)')\n",
    "plt.ylabel(r'Percent of observations in bin')"
   ]
  },
  {
   "cell_type": "markdown",
   "metadata": {},
   "source": [
    "There is no universal rule for what is the optimal number of bins and what are the optimal bin cutoff values. Some of the principles for making these decisions are based on minimizing error and asymptotic bias between the true probability density function $f(x)$ and the estimator of the *pdf* $h(x)$. A great reference for many optional rules is Scott (2015, chap. 3).\n",
    "\n",
    "One of the most common of these rules is Sturges' number of bins rule for equal width bins. Let $k$ be the number of equal-width bins,\n",
    "$$\\textbf{Sturges' rule}:\\quad k = \\log_2 N$$\n",
    "rounded to the nearest integer. This rule is based on the property that the observation counts in each bin of histogram $h(x)$ are themselvess binomial random variables. Sturges' rule gives a frequency histogram of normal density with mean $(k-1)/2$ and variance $(k-1)/4$. This rule is good for distributions that should be normal. In our penny thickness case, $k$ should equal 8."
   ]
  },
  {
   "cell_type": "code",
   "execution_count": 23,
   "metadata": {},
   "outputs": [
    {
     "data": {
      "text/plain": [
       "Text(0, 0.5, 'Percent of observations in bin')"
      ]
     },
     "execution_count": 23,
     "metadata": {},
     "output_type": "execute_result"
    },
    {
     "data": {
      "image/png": "[encoded data removed]",
      "text/plain": [
       "<Figure size 432x288 with 1 Axes>"
      ]
     },
     "metadata": {
      "needs_background": "light"
     },
     "output_type": "display_data"
    }
   ],
   "source": [
    "num_bins = int(np.ceil(1 + np.log2(90)))\n",
    "n, bin_cuts, patches = plt.hist(pennies_all, num_bins, weights=weights)\n",
    "plt.xticks(np.round_(bin_cuts, 1))\n",
    "plt.title('Histogram of penny thickness (mils): 1945-1989', fontsize=17)\n",
    "plt.xlabel(r'Thickness (mils)')\n",
    "plt.ylabel(r'Percent of observations in bin')"
   ]
  },
  {
   "cell_type": "markdown",
   "metadata": {},
   "source": [
    "However, from previous versions of this histogram, it is clear that the distribution is not normal. In this case, Sturges' rule oversmoothes the distribution and we don't see the richness between thicknesses 52.0 and 55.0. A histogram with the correct thickness takes a little exploration."
   ]
  },
  {
   "cell_type": "markdown",
   "metadata": {},
   "source": [
    "### 1.3. The 3D histogram\n",
    "A 3D histogram can be used as an estimator for a bivariate probability density function. Load in Old Faithful geyser duration data file `geyser.csv`. Make a 3D frequency histogram with geyser durations in the current period `duration(t)` on the $x$ axis and geyser durations in the next period `duration(t+1)` on the $y$ axis."
   ]
  },
  {
   "cell_type": "code",
   "execution_count": 24,
   "metadata": {},
   "outputs": [
    {
     "data": {
      "text/html": [
       "<div>\n",
       "<style scoped>\n",
       "    .dataframe tbody tr th:only-of-type {\n",
       "        vertical-align: middle;\n",
       "    }\n",
       "\n",
       "    .dataframe tbody tr th {\n",
       "        vertical-align: top;\n",
       "    }\n",
       "\n",
       "    .dataframe thead th {\n",
       "        text-align: right;\n",
       "    }\n",
       "</style>\n",
       "<table border=\"1\" class=\"dataframe\">\n",
       "  <thead>\n",
       "    <tr style=\"text-align: right;\">\n",
       "      <th></th>\n",
       "      <th>duration</th>\n",
       "    </tr>\n",
       "  </thead>\n",
       "  <tbody>\n",
       "    <tr>\n",
       "      <th>0</th>\n",
       "      <td>4.37</td>\n",
       "    </tr>\n",
       "    <tr>\n",
       "      <th>1</th>\n",
       "      <td>3.87</td>\n",
       "    </tr>\n",
       "    <tr>\n",
       "      <th>2</th>\n",
       "      <td>4.00</td>\n",
       "    </tr>\n",
       "    <tr>\n",
       "      <th>3</th>\n",
       "      <td>4.03</td>\n",
       "    </tr>\n",
       "    <tr>\n",
       "      <th>4</th>\n",
       "      <td>3.50</td>\n",
       "    </tr>\n",
       "    <tr>\n",
       "      <th>5</th>\n",
       "      <td>4.08</td>\n",
       "    </tr>\n",
       "    <tr>\n",
       "      <th>6</th>\n",
       "      <td>2.25</td>\n",
       "    </tr>\n",
       "    <tr>\n",
       "      <th>7</th>\n",
       "      <td>4.70</td>\n",
       "    </tr>\n",
       "    <tr>\n",
       "      <th>8</th>\n",
       "      <td>1.73</td>\n",
       "    </tr>\n",
       "    <tr>\n",
       "      <th>9</th>\n",
       "      <td>4.93</td>\n",
       "    </tr>\n",
       "    <tr>\n",
       "      <th>10</th>\n",
       "      <td>1.73</td>\n",
       "    </tr>\n",
       "    <tr>\n",
       "      <th>11</th>\n",
       "      <td>4.62</td>\n",
       "    </tr>\n",
       "    <tr>\n",
       "      <th>12</th>\n",
       "      <td>3.43</td>\n",
       "    </tr>\n",
       "    <tr>\n",
       "      <th>13</th>\n",
       "      <td>4.25</td>\n",
       "    </tr>\n",
       "    <tr>\n",
       "      <th>14</th>\n",
       "      <td>1.68</td>\n",
       "    </tr>\n",
       "    <tr>\n",
       "      <th>15</th>\n",
       "      <td>3.92</td>\n",
       "    </tr>\n",
       "    <tr>\n",
       "      <th>16</th>\n",
       "      <td>3.68</td>\n",
       "    </tr>\n",
       "    <tr>\n",
       "      <th>17</th>\n",
       "      <td>3.10</td>\n",
       "    </tr>\n",
       "    <tr>\n",
       "      <th>18</th>\n",
       "      <td>4.03</td>\n",
       "    </tr>\n",
       "    <tr>\n",
       "      <th>19</th>\n",
       "      <td>1.77</td>\n",
       "    </tr>\n",
       "    <tr>\n",
       "      <th>20</th>\n",
       "      <td>4.08</td>\n",
       "    </tr>\n",
       "    <tr>\n",
       "      <th>21</th>\n",
       "      <td>1.75</td>\n",
       "    </tr>\n",
       "    <tr>\n",
       "      <th>22</th>\n",
       "      <td>3.20</td>\n",
       "    </tr>\n",
       "    <tr>\n",
       "      <th>23</th>\n",
       "      <td>1.85</td>\n",
       "    </tr>\n",
       "    <tr>\n",
       "      <th>24</th>\n",
       "      <td>4.62</td>\n",
       "    </tr>\n",
       "    <tr>\n",
       "      <th>25</th>\n",
       "      <td>1.97</td>\n",
       "    </tr>\n",
       "    <tr>\n",
       "      <th>26</th>\n",
       "      <td>4.50</td>\n",
       "    </tr>\n",
       "    <tr>\n",
       "      <th>27</th>\n",
       "      <td>3.92</td>\n",
       "    </tr>\n",
       "    <tr>\n",
       "      <th>28</th>\n",
       "      <td>4.35</td>\n",
       "    </tr>\n",
       "    <tr>\n",
       "      <th>29</th>\n",
       "      <td>2.33</td>\n",
       "    </tr>\n",
       "    <tr>\n",
       "      <th>...</th>\n",
       "      <td>...</td>\n",
       "    </tr>\n",
       "    <tr>\n",
       "      <th>77</th>\n",
       "      <td>4.42</td>\n",
       "    </tr>\n",
       "    <tr>\n",
       "      <th>78</th>\n",
       "      <td>1.90</td>\n",
       "    </tr>\n",
       "    <tr>\n",
       "      <th>79</th>\n",
       "      <td>4.63</td>\n",
       "    </tr>\n",
       "    <tr>\n",
       "      <th>80</th>\n",
       "      <td>2.93</td>\n",
       "    </tr>\n",
       "    <tr>\n",
       "      <th>81</th>\n",
       "      <td>3.50</td>\n",
       "    </tr>\n",
       "    <tr>\n",
       "      <th>82</th>\n",
       "      <td>1.97</td>\n",
       "    </tr>\n",
       "    <tr>\n",
       "      <th>83</th>\n",
       "      <td>4.28</td>\n",
       "    </tr>\n",
       "    <tr>\n",
       "      <th>84</th>\n",
       "      <td>1.83</td>\n",
       "    </tr>\n",
       "    <tr>\n",
       "      <th>85</th>\n",
       "      <td>4.13</td>\n",
       "    </tr>\n",
       "    <tr>\n",
       "      <th>86</th>\n",
       "      <td>1.83</td>\n",
       "    </tr>\n",
       "    <tr>\n",
       "      <th>87</th>\n",
       "      <td>4.65</td>\n",
       "    </tr>\n",
       "    <tr>\n",
       "      <th>88</th>\n",
       "      <td>4.20</td>\n",
       "    </tr>\n",
       "    <tr>\n",
       "      <th>89</th>\n",
       "      <td>3.93</td>\n",
       "    </tr>\n",
       "    <tr>\n",
       "      <th>90</th>\n",
       "      <td>4.33</td>\n",
       "    </tr>\n",
       "    <tr>\n",
       "      <th>91</th>\n",
       "      <td>1.83</td>\n",
       "    </tr>\n",
       "    <tr>\n",
       "      <th>92</th>\n",
       "      <td>4.53</td>\n",
       "    </tr>\n",
       "    <tr>\n",
       "      <th>93</th>\n",
       "      <td>2.03</td>\n",
       "    </tr>\n",
       "    <tr>\n",
       "      <th>94</th>\n",
       "      <td>4.18</td>\n",
       "    </tr>\n",
       "    <tr>\n",
       "      <th>95</th>\n",
       "      <td>4.43</td>\n",
       "    </tr>\n",
       "    <tr>\n",
       "      <th>96</th>\n",
       "      <td>4.07</td>\n",
       "    </tr>\n",
       "    <tr>\n",
       "      <th>97</th>\n",
       "      <td>4.13</td>\n",
       "    </tr>\n",
       "    <tr>\n",
       "      <th>98</th>\n",
       "      <td>3.95</td>\n",
       "    </tr>\n",
       "    <tr>\n",
       "      <th>99</th>\n",
       "      <td>4.10</td>\n",
       "    </tr>\n",
       "    <tr>\n",
       "      <th>100</th>\n",
       "      <td>2.72</td>\n",
       "    </tr>\n",
       "    <tr>\n",
       "      <th>101</th>\n",
       "      <td>4.58</td>\n",
       "    </tr>\n",
       "    <tr>\n",
       "      <th>102</th>\n",
       "      <td>1.90</td>\n",
       "    </tr>\n",
       "    <tr>\n",
       "      <th>103</th>\n",
       "      <td>4.50</td>\n",
       "    </tr>\n",
       "    <tr>\n",
       "      <th>104</th>\n",
       "      <td>1.95</td>\n",
       "    </tr>\n",
       "    <tr>\n",
       "      <th>105</th>\n",
       "      <td>4.83</td>\n",
       "    </tr>\n",
       "    <tr>\n",
       "      <th>106</th>\n",
       "      <td>4.12</td>\n",
       "    </tr>\n",
       "  </tbody>\n",
       "</table>\n",
       "<p>107 rows × 1 columns</p>\n",
       "</div>"
      ],
      "text/plain": [
       "     duration\n",
       "0        4.37\n",
       "1        3.87\n",
       "2        4.00\n",
       "3        4.03\n",
       "4        3.50\n",
       "..        ...\n",
       "102      1.90\n",
       "103      4.50\n",
       "104      1.95\n",
       "105      4.83\n",
       "106      4.12\n",
       "\n",
       "[107 rows x 1 columns]"
      ]
     },
     "execution_count": 24,
     "metadata": {},
     "output_type": "execute_result"
    }
   ],
   "source": [
    "geyser_dur = pd.read_csv('data/geyser.csv', names =['duration'])\n",
    "geyser_dur"
   ]
  },
  {
   "cell_type": "code",
   "execution_count": 25,
   "metadata": {},
   "outputs": [],
   "source": [
    "dur_t = geyser_dur['duration'][:-1]\n",
    "dur_tp1 = geyser_dur['duration'][1:]"
   ]
  },
  {
   "cell_type": "markdown",
   "metadata": {},
   "source": [
    "To make a 3D histogram using matplotlib, you have to use the NumPy function `histogram2d()` and then port the objects into a 3D bar chart using matplotlib's `bar3D()` function."
   ]
  },
  {
   "cell_type": "code",
   "execution_count": 31,
   "metadata": {},
   "outputs": [
    {
     "data": {
      "application/javascript": [
       "/* Put everything inside the global mpl namespace */\n",
       "window.mpl = {};\n",
       "\n",
       "\n",
       "mpl.get_websocket_type = function() {\n",
       "    if (typeof(WebSocket) !== 'undefined') {\n",
       "        return WebSocket;\n",
       "    } else if (typeof(MozWebSocket) !== 'undefined') {\n",
       "        return MozWebSocket;\n",
       "    } else {\n",
       "        alert('Your browser does not have WebSocket support. ' +\n",
       "              'Please try Chrome, Safari or Firefox ≥ 6. ' +\n",
       "              'Firefox 4 and 5 are also supported but you ' +\n",
       "              'have to enable WebSockets in about:config.');\n",
       "    };\n",
       "}\n",
       "\n",
       "mpl.figure = function(figure_id, websocket, ondownload, parent_element) {\n",
       "    this.id = figure_id;\n",
       "\n",
       "    this.ws = websocket;\n",
       "\n",
       "    this.supports_binary = (this.ws.binaryType != undefined);\n",
       "\n",
       "    if (!this.supports_binary) {\n",
       "        var warnings = document.getElementById(\"mpl-warnings\");\n",
       "        if (warnings) {\n",
       "            warnings.style.display = 'block';\n",
       "            warnings.textContent = (\n",
       "                \"This browser does not support binary websocket messages. \" +\n",
       "                    \"Performance may be slow.\");\n",
       "        }\n",
       "    }\n",
       "\n",
       "    this.imageObj = new Image();\n",
       "\n",
       "    this.context = undefined;\n",
       "    this.message = undefined;\n",
       "    this.canvas = undefined;\n",
       "    this.rubberband_canvas = undefined;\n",
       "    this.rubberband_context = undefined;\n",
       "    this.format_dropdown = undefined;\n",
       "\n",
       "    this.image_mode = 'full';\n",
       "\n",
       "    this.root = $('<div/>');\n",
       "    this._root_extra_style(this.root)\n",
       "    this.root.attr('style', 'display: inline-block');\n",
       "\n",
       "    $(parent_element).append(this.root);\n",
       "\n",
       "    this._init_header(this);\n",
       "    this._init_canvas(this);\n",
       "    this._init_toolbar(this);\n",
       "\n",
       "    var fig = this;\n",
       "\n",
       "    this.waiting = false;\n",
       "\n",
       "    this.ws.onopen =  function () {\n",
       "            fig.send_message(\"supports_binary\", {value: fig.supports_binary});\n",
       "            fig.send_message(\"send_image_mode\", {});\n",
       "            if (mpl.ratio != 1) {\n",
       "                fig.send_message(\"set_dpi_ratio\", {'dpi_ratio': mpl.ratio});\n",
       "            }\n",
       "            fig.send_message(\"refresh\", {});\n",
       "        }\n",
       "\n",
       "    this.imageObj.onload = function() {\n",
       "            if (fig.image_mode == 'full') {\n",
       "                // Full images could contain transparency (where diff images\n",
       "                // almost always do), so we need to clear the canvas so that\n",
       "                // there is no ghosting.\n",
       "                fig.context.clearRect(0, 0, fig.canvas.width, fig.canvas.height);\n",
       "            }\n",
       "            fig.context.drawImage(fig.imageObj, 0, 0);\n",
       "        };\n",
       "\n",
       "    this.imageObj.onunload = function() {\n",
       "        fig.ws.close();\n",
       "    }\n",
       "\n",
       "    this.ws.onmessage = this._make_on_message_function(this);\n",
       "\n",
       "    this.ondownload = ondownload;\n",
       "}\n",
       "\n",
       "mpl.figure.prototype._init_header = function() {\n",
       "    var titlebar = $(\n",
       "        '<div class=\"ui-dialog-titlebar ui-widget-header ui-corner-all ' +\n",
       "        'ui-helper-clearfix\"/>');\n",
       "    var titletext = $(\n",
       "        '<div class=\"ui-dialog-title\" style=\"width: 100%; ' +\n",
       "        'text-align: center; padding: 3px;\"/>');\n",
       "    titlebar.append(titletext)\n",
       "    this.root.append(titlebar);\n",
       "    this.header = titletext[0];\n",
       "}\n",
       "\n",
       "\n",
       "\n",
       "mpl.figure.prototype._canvas_extra_style = function(canvas_div) {\n",
       "\n",
       "}\n",
       "\n",
       "\n",
       "mpl.figure.prototype._root_extra_style = function(canvas_div) {\n",
       "\n",
       "}\n",
       "\n",
       "mpl.figure.prototype._init_canvas = function() {\n",
       "    var fig = this;\n",
       "\n",
       "    var canvas_div = $('<div/>');\n",
       "\n",
       "    canvas_div.attr('style', 'position: relative; clear: both; outline: 0');\n",
       "\n",
       "    function canvas_keyboard_event(event) {\n",
       "        return fig.key_event(event, event['data']);\n",
       "    }\n",
       "\n",
       "    canvas_div.keydown('key_press', canvas_keyboard_event);\n",
       "    canvas_div.keyup('key_release', canvas_keyboard_event);\n",
       "    this.canvas_div = canvas_div\n",
       "    this._canvas_extra_style(canvas_div)\n",
       "    this.root.append(canvas_div);\n",
       "\n",
       "    var canvas = $('<canvas/>');\n",
       "    canvas.addClass('mpl-canvas');\n",
       "    canvas.attr('style', \"left: 0; top: 0; z-index: 0; outline: 0\")\n",
       "\n",
       "    this.canvas = canvas[0];\n",
       "    this.context = canvas[0].getContext(\"2d\");\n",
       "\n",
       "    var backingStore = this.context.backingStorePixelRatio ||\n",
       "\tthis.context.webkitBackingStorePixelRatio ||\n",
       "\tthis.context.mozBackingStorePixelRatio ||\n",
       "\tthis.context.msBackingStorePixelRatio ||\n",
       "\tthis.context.oBackingStorePixelRatio ||\n",
       "\tthis.context.backingStorePixelRatio || 1;\n",
       "\n",
       "    mpl.ratio = (window.devicePixelRatio || 1) / backingStore;\n",
       "\n",
       "    var rubberband = $('<canvas/>');\n",
       "    rubberband.attr('style', \"position: absolute; left: 0; top: 0; z-index: 1;\")\n",
       "\n",
       "    var pass_mouse_events = true;\n",
       "\n",
       "    canvas_div.resizable({\n",
       "        start: function(event, ui) {\n",
       "            pass_mouse_events = false;\n",
       "        },\n",
       "        resize: function(event, ui) {\n",
       "            fig.request_resize(ui.size.width, ui.size.height);\n",
       "        },\n",
       "        stop: function(event, ui) {\n",
       "            pass_mouse_events = true;\n",
       "            fig.request_resize(ui.size.width, ui.size.height);\n",
       "        },\n",
       "    });\n",
       "\n",
       "    function mouse_event_fn(event) {\n",
       "        if (pass_mouse_events)\n",
       "            return fig.mouse_event(event, event['data']);\n",
       "    }\n",
       "\n",
       "    rubberband.mousedown('button_press', mouse_event_fn);\n",
       "    rubberband.mouseup('button_release', mouse_event_fn);\n",
       "    // Throttle sequential mouse events to 1 every 20ms.\n",
       "    rubberband.mousemove('motion_notify', mouse_event_fn);\n",
       "\n",
       "    rubberband.mouseenter('figure_enter', mouse_event_fn);\n",
       "    rubberband.mouseleave('figure_leave', mouse_event_fn);\n",
       "\n",
       "    canvas_div.on(\"wheel\", function (event) {\n",
       "        event = event.originalEvent;\n",
       "        event['data'] = 'scroll'\n",
       "        if (event.deltaY < 0) {\n",
       "            event.step = 1;\n",
       "        } else {\n",
       "            event.step = -1;\n",
       "        }\n",
       "        mouse_event_fn(event);\n",
       "    });\n",
       "\n",
       "    canvas_div.append(canvas);\n",
       "    canvas_div.append(rubberband);\n",
       "\n",
       "    this.rubberband = rubberband;\n",
       "    this.rubberband_canvas = rubberband[0];\n",
       "    this.rubberband_context = rubberband[0].getContext(\"2d\");\n",
       "    this.rubberband_context.strokeStyle = \"#000000\";\n",
       "\n",
       "    this._resize_canvas = function(width, height) {\n",
       "        // Keep the size of the canvas, canvas container, and rubber band\n",
       "        // canvas in synch.\n",
       "        canvas_div.css('width', width)\n",
       "        canvas_div.css('height', height)\n",
       "\n",
       "        canvas.attr('width', width * mpl.ratio);\n",
       "        canvas.attr('height', height * mpl.ratio);\n",
       "        canvas.attr('style', 'width: ' + width + 'px; height: ' + height + 'px;');\n",
       "\n",
       "        rubberband.attr('width', width);\n",
       "        rubberband.attr('height', height);\n",
       "    }\n",
       "\n",
       "    // Set the figure to an initial 600x600px, this will subsequently be updated\n",
       "    // upon first draw.\n",
       "    this._resize_canvas(600, 600);\n",
       "\n",
       "    // Disable right mouse context menu.\n",
       "    $(this.rubberband_canvas).bind(\"contextmenu\",function(e){\n",
       "        return false;\n",
       "    });\n",
       "\n",
       "    function set_focus () {\n",
       "        canvas.focus();\n",
       "        canvas_div.focus();\n",
       "    }\n",
       "\n",
       "    window.setTimeout(set_focus, 100);\n",
       "}\n",
       "\n",
       "mpl.figure.prototype._init_toolbar = function() {\n",
       "    var fig = this;\n",
       "\n",
       "    var nav_element = $('<div/>');\n",
       "    nav_element.attr('style', 'width: 100%');\n",
       "    this.root.append(nav_element);\n",
       "\n",
       "    // Define a callback function for later on.\n",
       "    function toolbar_event(event) {\n",
       "        return fig.toolbar_button_onclick(event['data']);\n",
       "    }\n",
       "    function toolbar_mouse_event(event) {\n",
       "        return fig.toolbar_button_onmouseover(event['data']);\n",
       "    }\n",
       "\n",
       "    for(var toolbar_ind in mpl.toolbar_items) {\n",
       "        var name = mpl.toolbar_items[toolbar_ind][0];\n",
       "        var tooltip = mpl.toolbar_items[toolbar_ind][1];\n",
       "        var image = mpl.toolbar_items[toolbar_ind][2];\n",
       "        var method_name = mpl.toolbar_items[toolbar_ind][3];\n",
       "\n",
       "        if (!name) {\n",
       "            // put a spacer in here.\n",
       "            continue;\n",
       "        }\n",
       "        var button = $('<button/>');\n",
       "        button.addClass('ui-button ui-widget ui-state-default ui-corner-all ' +\n",
       "                        'ui-button-icon-only');\n",
       "        button.attr('role', 'button');\n",
       "        button.attr('aria-disabled', 'false');\n",
       "        button.click(method_name, toolbar_event);\n",
       "        button.mouseover(tooltip, toolbar_mouse_event);\n",
       "\n",
       "        var icon_img = $('<span/>');\n",
       "        icon_img.addClass('ui-button-icon-primary ui-icon');\n",
       "        icon_img.addClass(image);\n",
       "        icon_img.addClass('ui-corner-all');\n",
       "\n",
       "        var tooltip_span = $('<span/>');\n",
       "        tooltip_span.addClass('ui-button-text');\n",
       "        tooltip_span.html(tooltip);\n",
       "\n",
       "        button.append(icon_img);\n",
       "        button.append(tooltip_span);\n",
       "\n",
       "        nav_element.append(button);\n",
       "    }\n",
       "\n",
       "    var fmt_picker_span = $('<span/>');\n",
       "\n",
       "    var fmt_picker = $('<select/>');\n",
       "    fmt_picker.addClass('mpl-toolbar-option ui-widget ui-widget-content');\n",
       "    fmt_picker_span.append(fmt_picker);\n",
       "    nav_element.append(fmt_picker_span);\n",
       "    this.format_dropdown = fmt_picker[0];\n",
       "\n",
       "    for (var ind in mpl.extensions) {\n",
       "        var fmt = mpl.extensions[ind];\n",
       "        var option = $(\n",
       "            '<option/>', {selected: fmt === mpl.default_extension}).html(fmt);\n",
       "        fmt_picker.append(option);\n",
       "    }\n",
       "\n",
       "    // Add hover states to the ui-buttons\n",
       "    $( \".ui-button\" ).hover(\n",
       "        function() { $(this).addClass(\"ui-state-hover\");},\n",
       "        function() { $(this).removeClass(\"ui-state-hover\");}\n",
       "    );\n",
       "\n",
       "    var status_bar = $('<span class=\"mpl-message\"/>');\n",
       "    nav_element.append(status_bar);\n",
       "    this.message = status_bar[0];\n",
       "}\n",
       "\n",
       "mpl.figure.prototype.request_resize = function(x_pixels, y_pixels) {\n",
       "    // Request matplotlib to resize the figure. Matplotlib will then trigger a resize in the client,\n",
       "    // which will in turn request a refresh of the image.\n",
       "    this.send_message('resize', {'width': x_pixels, 'height': y_pixels});\n",
       "}\n",
       "\n",
       "mpl.figure.prototype.send_message = function(type, properties) {\n",
       "    properties['type'] = type;\n",
       "    properties['figure_id'] = this.id;\n",
       "    this.ws.send(JSON.stringify(properties));\n",
       "}\n",
       "\n",
       "mpl.figure.prototype.send_draw_message = function() {\n",
       "    if (!this.waiting) {\n",
       "        this.waiting = true;\n",
       "        this.ws.send(JSON.stringify({type: \"draw\", figure_id: this.id}));\n",
       "    }\n",
       "}\n",
       "\n",
       "\n",
       "mpl.figure.prototype.handle_save = function(fig, msg) {\n",
       "    var format_dropdown = fig.format_dropdown;\n",
       "    var format = format_dropdown.options[format_dropdown.selectedIndex].value;\n",
       "    fig.ondownload(fig, format);\n",
       "}\n",
       "\n",
       "\n",
       "mpl.figure.prototype.handle_resize = function(fig, msg) {\n",
       "    var size = msg['size'];\n",
       "    if (size[0] != fig.canvas.width || size[1] != fig.canvas.height) {\n",
       "        fig._resize_canvas(size[0], size[1]);\n",
       "        fig.send_message(\"refresh\", {});\n",
       "    };\n",
       "}\n",
       "\n",
       "mpl.figure.prototype.handle_rubberband = function(fig, msg) {\n",
       "    var x0 = msg['x0'] / mpl.ratio;\n",
       "    var y0 = (fig.canvas.height - msg['y0']) / mpl.ratio;\n",
       "    var x1 = msg['x1'] / mpl.ratio;\n",
       "    var y1 = (fig.canvas.height - msg['y1']) / mpl.ratio;\n",
       "    x0 = Math.floor(x0) + 0.5;\n",
       "    y0 = Math.floor(y0) + 0.5;\n",
       "    x1 = Math.floor(x1) + 0.5;\n",
       "    y1 = Math.floor(y1) + 0.5;\n",
       "    var min_x = Math.min(x0, x1);\n",
       "    var min_y = Math.min(y0, y1);\n",
       "    var width = Math.abs(x1 - x0);\n",
       "    var height = Math.abs(y1 - y0);\n",
       "\n",
       "    fig.rubberband_context.clearRect(\n",
       "        0, 0, fig.canvas.width / mpl.ratio, fig.canvas.height / mpl.ratio);\n",
       "\n",
       "    fig.rubberband_context.strokeRect(min_x, min_y, width, height);\n",
       "}\n",
       "\n",
       "mpl.figure.prototype.handle_figure_label = function(fig, msg) {\n",
       "    // Updates the figure title.\n",
       "    fig.header.textContent = msg['label'];\n",
       "}\n",
       "\n",
       "mpl.figure.prototype.handle_cursor = function(fig, msg) {\n",
       "    var cursor = msg['cursor'];\n",
       "    switch(cursor)\n",
       "    {\n",
       "    case 0:\n",
       "        cursor = 'pointer';\n",
       "        break;\n",
       "    case 1:\n",
       "        cursor = 'default';\n",
       "        break;\n",
       "    case 2:\n",
       "        cursor = 'crosshair';\n",
       "        break;\n",
       "    case 3:\n",
       "        cursor = 'move';\n",
       "        break;\n",
       "    }\n",
       "    fig.rubberband_canvas.style.cursor = cursor;\n",
       "}\n",
       "\n",
       "mpl.figure.prototype.handle_message = function(fig, msg) {\n",
       "    fig.message.textContent = msg['message'];\n",
       "}\n",
       "\n",
       "mpl.figure.prototype.handle_draw = function(fig, msg) {\n",
       "    // Request the server to send over a new figure.\n",
       "    fig.send_draw_message();\n",
       "}\n",
       "\n",
       "mpl.figure.prototype.handle_image_mode = function(fig, msg) {\n",
       "    fig.image_mode = msg['mode'];\n",
       "}\n",
       "\n",
       "mpl.figure.prototype.updated_canvas_event = function() {\n",
       "    // Called whenever the canvas gets updated.\n",
       "    this.send_message(\"ack\", {});\n",
       "}\n",
       "\n",
       "// A function to construct a web socket function for onmessage handling.\n",
       "// Called in the figure constructor.\n",
       "mpl.figure.prototype._make_on_message_function = function(fig) {\n",
       "    return function socket_on_message(evt) {\n",
       "        if (evt.data instanceof Blob) {\n",
       "            /* FIXME: We get \"Resource interpreted as Image but\n",
       "             * transferred with MIME type text/plain:\" errors on\n",
       "             * Chrome.  But how to set the MIME type?  It doesn't seem\n",
       "             * to be part of the websocket stream */\n",
       "            evt.data.type = \"image/png\";\n",
       "\n",
       "            /* Free the memory for the previous frames */\n",
       "            if (fig.imageObj.src) {\n",
       "                (window.URL || window.webkitURL).revokeObjectURL(\n",
       "                    fig.imageObj.src);\n",
       "            }\n",
       "\n",
       "            fig.imageObj.src = (window.URL || window.webkitURL).createObjectURL(\n",
       "                evt.data);\n",
       "            fig.updated_canvas_event();\n",
       "            fig.waiting = false;\n",
       "            return;\n",
       "        }\n",
       "        else if (typeof evt.data === 'string' && evt.data.slice(0, 21) == \"data:image/png;base64\") {\n",
       "            fig.imageObj.src = evt.data;\n",
       "            fig.updated_canvas_event();\n",
       "            fig.waiting = false;\n",
       "            return;\n",
       "        }\n",
       "\n",
       "        var msg = JSON.parse(evt.data);\n",
       "        var msg_type = msg['type'];\n",
       "\n",
       "        // Call the  \"handle_{type}\" callback, which takes\n",
       "        // the figure and JSON message as its only arguments.\n",
       "        try {\n",
       "            var callback = fig[\"handle_\" + msg_type];\n",
       "        } catch (e) {\n",
       "            console.log(\"No handler for the '\" + msg_type + \"' message type: \", msg);\n",
       "            return;\n",
       "        }\n",
       "\n",
       "        if (callback) {\n",
       "            try {\n",
       "                // console.log(\"Handling '\" + msg_type + \"' message: \", msg);\n",
       "                callback(fig, msg);\n",
       "            } catch (e) {\n",
       "                console.log(\"Exception inside the 'handler_\" + msg_type + \"' callback:\", e, e.stack, msg);\n",
       "            }\n",
       "        }\n",
       "    };\n",
       "}\n",
       "\n",
       "// from http://stackoverflow.com/questions/1114465/getting-mouse-location-in-canvas\n",
       "mpl.findpos = function(e) {\n",
       "    //this section is from http://www.quirksmode.org/js/events_properties.html\n",
       "    var targ;\n",
       "    if (!e)\n",
       "        e = window.event;\n",
       "    if (e.target)\n",
       "        targ = e.target;\n",
       "    else if (e.srcElement)\n",
       "        targ = e.srcElement;\n",
       "    if (targ.nodeType == 3) // defeat Safari bug\n",
       "        targ = targ.parentNode;\n",
       "\n",
       "    // jQuery normalizes the pageX and pageY\n",
       "    // pageX,Y are the mouse positions relative to the document\n",
       "    // offset() returns the position of the element relative to the document\n",
       "    var x = e.pageX - $(targ).offset().left;\n",
       "    var y = e.pageY - $(targ).offset().top;\n",
       "\n",
       "    return {\"x\": x, \"y\": y};\n",
       "};\n",
       "\n",
       "/*\n",
       " * return a copy of an object with only non-object keys\n",
       " * we need this to avoid circular references\n",
       " * http://stackoverflow.com/a/24161582/3208463\n",
       " */\n",
       "function simpleKeys (original) {\n",
       "  return Object.keys(original).reduce(function (obj, key) {\n",
       "    if (typeof original[key] !== 'object')\n",
       "        obj[key] = original[key]\n",
       "    return obj;\n",
       "  }, {});\n",
       "}\n",
       "\n",
       "mpl.figure.prototype.mouse_event = function(event, name) {\n",
       "    var canvas_pos = mpl.findpos(event)\n",
       "\n",
       "    if (name === 'button_press')\n",
       "    {\n",
       "        this.canvas.focus();\n",
       "        this.canvas_div.focus();\n",
       "    }\n",
       "\n",
       "    var x = canvas_pos.x * mpl.ratio;\n",
       "    var y = canvas_pos.y * mpl.ratio;\n",
       "\n",
       "    this.send_message(name, {x: x, y: y, button: event.button,\n",
       "                             step: event.step,\n",
       "                             guiEvent: simpleKeys(event)});\n",
       "\n",
       "    /* This prevents the web browser from automatically changing to\n",
       "     * the text insertion cursor when the button is pressed.  We want\n",
       "     * to control all of the cursor setting manually through the\n",
       "     * 'cursor' event from matplotlib */\n",
       "    event.preventDefault();\n",
       "    return false;\n",
       "}\n",
       "\n",
       "mpl.figure.prototype._key_event_extra = function(event, name) {\n",
       "    // Handle any extra behaviour associated with a key event\n",
       "}\n",
       "\n",
       "mpl.figure.prototype.key_event = function(event, name) {\n",
       "\n",
       "    // Prevent repeat events\n",
       "    if (name == 'key_press')\n",
       "    {\n",
       "        if (event.which === this._key)\n",
       "            return;\n",
       "        else\n",
       "            this._key = event.which;\n",
       "    }\n",
       "    if (name == 'key_release')\n",
       "        this._key = null;\n",
       "\n",
       "    var value = '';\n",
       "    if (event.ctrlKey && event.which != 17)\n",
       "        value += \"ctrl+\";\n",
       "    if (event.altKey && event.which != 18)\n",
       "        value += \"alt+\";\n",
       "    if (event.shiftKey && event.which != 16)\n",
       "        value += \"shift+\";\n",
       "\n",
       "    value += 'k';\n",
       "    value += event.which.toString();\n",
       "\n",
       "    this._key_event_extra(event, name);\n",
       "\n",
       "    this.send_message(name, {key: value,\n",
       "                             guiEvent: simpleKeys(event)});\n",
       "    return false;\n",
       "}\n",
       "\n",
       "mpl.figure.prototype.toolbar_button_onclick = function(name) {\n",
       "    if (name == 'download') {\n",
       "        this.handle_save(this, null);\n",
       "    } else {\n",
       "        this.send_message(\"toolbar_button\", {name: name});\n",
       "    }\n",
       "};\n",
       "\n",
       "mpl.figure.prototype.toolbar_button_onmouseover = function(tooltip) {\n",
       "    this.message.textContent = tooltip;\n",
       "};\n",
       "mpl.toolbar_items = [[\"Home\", \"Reset original view\", \"fa fa-home icon-home\", \"home\"], [\"Back\", \"Back to previous view\", \"fa fa-arrow-left icon-arrow-left\", \"back\"], [\"Forward\", \"Forward to next view\", \"fa fa-arrow-right icon-arrow-right\", \"forward\"], [\"\", \"\", \"\", \"\"], [\"Pan\", \"Pan axes with left mouse, zoom with right\", \"fa fa-arrows icon-move\", \"pan\"], [\"Zoom\", \"Zoom to rectangle\", \"fa fa-square-o icon-check-empty\", \"zoom\"], [\"\", \"\", \"\", \"\"], [\"Download\", \"Download plot\", \"fa fa-floppy-o icon-save\", \"download\"]];\n",
       "\n",
       "mpl.extensions = [\"eps\", \"jpeg\", \"pdf\", \"png\", \"ps\", \"raw\", \"svg\", \"tif\"];\n",
       "\n",
       "mpl.default_extension = \"png\";var comm_websocket_adapter = function(comm) {\n",
       "    // Create a \"websocket\"-like object which calls the given IPython comm\n",
       "    // object with the appropriate methods. Currently this is a non binary\n",
       "    // socket, so there is still some room for performance tuning.\n",
       "    var ws = {};\n",
       "\n",
       "    ws.close = function() {\n",
       "        comm.close()\n",
       "    };\n",
       "    ws.send = function(m) {\n",
       "        //console.log('sending', m);\n",
       "        comm.send(m);\n",
       "    };\n",
       "    // Register the callback with on_msg.\n",
       "    comm.on_msg(function(msg) {\n",
       "        //console.log('receiving', msg['content']['data'], msg);\n",
       "        // Pass the mpl event to the overridden (by mpl) onmessage function.\n",
       "        ws.onmessage(msg['content']['data'])\n",
       "    });\n",
       "    return ws;\n",
       "}\n",
       "\n",
       "mpl.mpl_figure_comm = function(comm, msg) {\n",
       "    // This is the function which gets called when the mpl process\n",
       "    // starts-up an IPython Comm through the \"matplotlib\" channel.\n",
       "\n",
       "    var id = msg.content.data.id;\n",
       "    // Get hold of the div created by the display call when the Comm\n",
       "    // socket was opened in Python.\n",
       "    var element = $(\"#\" + id);\n",
       "    var ws_proxy = comm_websocket_adapter(comm)\n",
       "\n",
       "    function ondownload(figure, format) {\n",
       "        window.open(figure.imageObj.src);\n",
       "    }\n",
       "\n",
       "    var fig = new mpl.figure(id, ws_proxy,\n",
       "                           ondownload,\n",
       "                           element.get(0));\n",
       "\n",
       "    // Call onopen now - mpl needs it, as it is assuming we've passed it a real\n",
       "    // web socket which is closed, not our websocket->open comm proxy.\n",
       "    ws_proxy.onopen();\n",
       "\n",
       "    fig.parent_element = element.get(0);\n",
       "    fig.cell_info = mpl.find_output_cell(\"<div id='\" + id + \"'></div>\");\n",
       "    if (!fig.cell_info) {\n",
       "        console.error(\"Failed to find cell for figure\", id, fig);\n",
       "        return;\n",
       "    }\n",
       "\n",
       "    var output_index = fig.cell_info[2]\n",
       "    var cell = fig.cell_info[0];\n",
       "\n",
       "};\n",
       "\n",
       "mpl.figure.prototype.handle_close = function(fig, msg) {\n",
       "    var width = fig.canvas.width/mpl.ratio\n",
       "    fig.root.unbind('remove')\n",
       "\n",
       "    // Update the output cell to use the data from the current canvas.\n",
       "    fig.push_to_output();\n",
       "    var dataURL = fig.canvas.toDataURL();\n",
       "    // Re-enable the keyboard manager in IPython - without this line, in FF,\n",
       "    // the notebook keyboard shortcuts fail.\n",
       "    IPython.keyboard_manager.enable()\n",
       "    $(fig.parent_element).html('<img src=\"' + dataURL + '\" width=\"' + width + '\">');\n",
       "    fig.close_ws(fig, msg);\n",
       "}\n",
       "\n",
       "mpl.figure.prototype.close_ws = function(fig, msg){\n",
       "    fig.send_message('closing', msg);\n",
       "    // fig.ws.close()\n",
       "}\n",
       "\n",
       "mpl.figure.prototype.push_to_output = function(remove_interactive) {\n",
       "    // Turn the data on the canvas into data in the output cell.\n",
       "    var width = this.canvas.width/mpl.ratio\n",
       "    var dataURL = this.canvas.toDataURL();\n",
       "    this.cell_info[1]['text/html'] = '<img src=\"' + dataURL + '\" width=\"' + width + '\">';\n",
       "}\n",
       "\n",
       "mpl.figure.prototype.updated_canvas_event = function() {\n",
       "    // Tell IPython that the notebook contents must change.\n",
       "    IPython.notebook.set_dirty(true);\n",
       "    this.send_message(\"ack\", {});\n",
       "    var fig = this;\n",
       "    // Wait a second, then push the new image to the DOM so\n",
       "    // that it is saved nicely (might be nice to debounce this).\n",
       "    setTimeout(function () { fig.push_to_output() }, 1000);\n",
       "}\n",
       "\n",
       "mpl.figure.prototype._init_toolbar = function() {\n",
       "    var fig = this;\n",
       "\n",
       "    var nav_element = $('<div/>');\n",
       "    nav_element.attr('style', 'width: 100%');\n",
       "    this.root.append(nav_element);\n",
       "\n",
       "    // Define a callback function for later on.\n",
       "    function toolbar_event(event) {\n",
       "        return fig.toolbar_button_onclick(event['data']);\n",
       "    }\n",
       "    function toolbar_mouse_event(event) {\n",
       "        return fig.toolbar_button_onmouseover(event['data']);\n",
       "    }\n",
       "\n",
       "    for(var toolbar_ind in mpl.toolbar_items){\n",
       "        var name = mpl.toolbar_items[toolbar_ind][0];\n",
       "        var tooltip = mpl.toolbar_items[toolbar_ind][1];\n",
       "        var image = mpl.toolbar_items[toolbar_ind][2];\n",
       "        var method_name = mpl.toolbar_items[toolbar_ind][3];\n",
       "\n",
       "        if (!name) { continue; };\n",
       "\n",
       "        var button = $('<button class=\"btn btn-default\" href=\"#\" title=\"' + name + '\"><i class=\"fa ' + image + ' fa-lg\"></i></button>');\n",
       "        button.click(method_name, toolbar_event);\n",
       "        button.mouseover(tooltip, toolbar_mouse_event);\n",
       "        nav_element.append(button);\n",
       "    }\n",
       "\n",
       "    // Add the status bar.\n",
       "    var status_bar = $('<span class=\"mpl-message\" style=\"text-align:right; float: right;\"/>');\n",
       "    nav_element.append(status_bar);\n",
       "    this.message = status_bar[0];\n",
       "\n",
       "    // Add the close button to the window.\n",
       "    var buttongrp = $('<div class=\"btn-group inline pull-right\"></div>');\n",
       "    var button = $('<button class=\"btn btn-mini btn-primary\" href=\"#\" title=\"Stop Interaction\"><i class=\"fa fa-power-off icon-remove icon-large\"></i></button>');\n",
       "    button.click(function (evt) { fig.handle_close(fig, {}); } );\n",
       "    button.mouseover('Stop Interaction', toolbar_mouse_event);\n",
       "    buttongrp.append(button);\n",
       "    var titlebar = this.root.find($('.ui-dialog-titlebar'));\n",
       "    titlebar.prepend(buttongrp);\n",
       "}\n",
       "\n",
       "mpl.figure.prototype._root_extra_style = function(el){\n",
       "    var fig = this\n",
       "    el.on(\"remove\", function(){\n",
       "\tfig.close_ws(fig, {});\n",
       "    });\n",
       "}\n",
       "\n",
       "mpl.figure.prototype._canvas_extra_style = function(el){\n",
       "    // this is important to make the div 'focusable\n",
       "    el.attr('tabindex', 0)\n",
       "    // reach out to IPython and tell the keyboard manager to turn it's self\n",
       "    // off when our div gets focus\n",
       "\n",
       "    // location in version 3\n",
       "    if (IPython.notebook.keyboard_manager) {\n",
       "        IPython.notebook.keyboard_manager.register_events(el);\n",
       "    }\n",
       "    else {\n",
       "        // location in version 2\n",
       "        IPython.keyboard_manager.register_events(el);\n",
       "    }\n",
       "\n",
       "}\n",
       "\n",
       "mpl.figure.prototype._key_event_extra = function(event, name) {\n",
       "    var manager = IPython.notebook.keyboard_manager;\n",
       "    if (!manager)\n",
       "        manager = IPython.keyboard_manager;\n",
       "\n",
       "    // Check for shift+enter\n",
       "    if (event.shiftKey && event.which == 13) {\n",
       "        this.canvas_div.blur();\n",
       "        event.shiftKey = false;\n",
       "        // Send a \"J\" for go to next cell\n",
       "        event.which = 74;\n",
       "        event.keyCode = 74;\n",
       "        manager.command_mode();\n",
       "        manager.handle_keydown(event);\n",
       "    }\n",
       "}\n",
       "\n",
       "mpl.figure.prototype.handle_save = function(fig, msg) {\n",
       "    fig.ondownload(fig, null);\n",
       "}\n",
       "\n",
       "\n",
       "mpl.find_output_cell = function(html_output) {\n",
       "    // Return the cell and output element which can be found *uniquely* in the notebook.\n",
       "    // Note - this is a bit hacky, but it is done because the \"notebook_saving.Notebook\"\n",
       "    // IPython event is triggered only after the cells have been serialised, which for\n",
       "    // our purposes (turning an active figure into a static one), is too late.\n",
       "    var cells = IPython.notebook.get_cells();\n",
       "    var ncells = cells.length;\n",
       "    for (var i=0; i<ncells; i++) {\n",
       "        var cell = cells[i];\n",
       "        if (cell.cell_type === 'code'){\n",
       "            for (var j=0; j<cell.output_area.outputs.length; j++) {\n",
       "                var data = cell.output_area.outputs[j];\n",
       "                if (data.data) {\n",
       "                    // IPython >= 3 moved mimebundle to data attribute of output\n",
       "                    data = data.data;\n",
       "                }\n",
       "                if (data['text/html'] == html_output) {\n",
       "                    return [cell, data, j];\n",
       "                }\n",
       "            }\n",
       "        }\n",
       "    }\n",
       "}\n",
       "\n",
       "// Register the function which deals with the matplotlib target/channel.\n",
       "// The kernel may be null if the page has been refreshed.\n",
       "if (IPython.notebook.kernel != null) {\n",
       "    IPython.notebook.kernel.comm_manager.register_target('matplotlib', mpl.mpl_figure_comm);\n",
       "}\n"
      ],
      "text/plain": [
       "<IPython.core.display.Javascript object>"
      ]
     },
     "metadata": {},
     "output_type": "display_data"
    },
    {
     "data": {
      "text/html": [
       "<img src=\"data:image/png;base64,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\" width=\"640\">"
      ],
      "text/plain": [
       "<IPython.core.display.HTML object>"
      ]
     },
     "metadata": {},
     "output_type": "display_data"
    },
    {
     "data": {
      "text/plain": [
       "Text(0.5, 0.92, 'Histogram by Old Faithful duration(t) and duration(t-1)')"
      ]
     },
     "execution_count": 31,
     "metadata": {},
     "output_type": "execute_result"
    }
   ],
   "source": [
    "from mpl_toolkits.mplot3d import Axes3D\n",
    "\n",
    "'''\n",
    "--------------------------------------------------------------------\n",
    "bin_num  = integer > 2, number of bins along each axis\n",
    "hist     = (bin_num, bin_num) matrix, bin percentages\n",
    "xedges   = (bin_num+1,) vector, bin edge values in x-dimension\n",
    "yedges   = (bin_num+1,) vector, bin edge values in y-dimension\n",
    "x_midp   = (bin_num,) vector, midpoints of bins in x-dimension\n",
    "y_midp   = (bin_num,) vector, midpoints of bins in y-dimension\n",
    "elements = integer, total number of 3D histogram bins\n",
    "xpos     = (bin_num * bin_num) vector, x-coordinates of each bin\n",
    "ypos     = (bin_num * bin_num) vector, y-coordinates of each bin\n",
    "zpos     = (bin_num * bin_num) vector, zeros or z-coordinates of\n",
    "            origin of each bin\n",
    "dx       = (bin_num,) vector, x-width of each bin\n",
    "dy       = (bin_num,) vector, y-width of each bin\n",
    "dz       = (bin_num * bin_num) vector, height of each bin\n",
    "--------------------------------------------------------------------\n",
    "'''\n",
    "%matplotlib notebook\n",
    "fig = plt.figure()\n",
    "ax = fig.add_subplot(111, projection ='3d')\n",
    "bin_num = int(9)\n",
    "hist, xedges, yedges = np.histogram2d(dur_t, dur_tp1, bins=bin_num)\n",
    "hist = hist / hist.sum()\n",
    "x_midp = xedges[:-1] + 0.5 * (xedges[1] - xedges[0])\n",
    "y_midp = yedges[:-1] + 0.5 * (yedges[1] - yedges[0])\n",
    "elements = (len(xedges) - 1) * (len(yedges) - 1)\n",
    "ypos, xpos = np.meshgrid(y_midp, x_midp)\n",
    "xpos = xpos.flatten()\n",
    "ypos = ypos.flatten()\n",
    "zpos = np.zeros(elements)\n",
    "dx = (xedges[1] - xedges[0]) * np.ones_like(bin_num)\n",
    "dy = (yedges[1] - yedges[0]) * np.ones_like(bin_num)\n",
    "dz = hist.flatten()\n",
    "ax.bar3d(xpos, ypos, zpos, dx, dy, dz, color='g', zsort='average')\n",
    "ax.set_xlabel('duration(t) (mins.)')\n",
    "ax.set_ylabel('duration(t+1) (mins.)')\n",
    "ax.set_zlabel('Percent of obs.')\n",
    "plt.title('Histogram by Old Faithful duration(t) and duration(t-1)')"
   ]
  },
  {
   "cell_type": "markdown",
   "metadata": {},
   "source": [
    "### 1.4. The countour plot\n",
    "A contour plot is a 2D version of the 3D histogram. It is like a topographical map. The contour plot fits smooth level curves to the density data. Contour plots can also include color scale for monotonically increasing levels of the variables. [TODO: Add material here.]"
   ]
  },
  {
   "cell_type": "markdown",
   "metadata": {},
   "source": [
    "## 2. The scatter plot\n",
    "The scatter plot is usually first in line among visualization tools for 2D data. Let the $i$th observation of the two dimensional data be represented by $(x_i, y_i)$. A scatter plot places markers at each point $(x_i, y_i)$ in a two-dimensional plot."
   ]
  },
  {
   "cell_type": "markdown",
   "metadata": {},
   "source": [
    "The famous Fisher-Anderson Iris data is a canonical dataset of three species of Iris with five variables on each of the observations (sepal length, sepal width, petal length, petal width, species). We can creat a scatter plot of two of these variables."
   ]
  },
  {
   "cell_type": "code",
   "execution_count": 27,
   "metadata": {},
   "outputs": [
    {
     "data": {
      "text/plain": [
       "Text(0, 0.5, 'sepal width (mm)')"
      ]
     },
     "execution_count": 27,
     "metadata": {},
     "output_type": "execute_result"
    },
    {
     "data": {
      "image/png": "[encoded data removed]",
      "text/plain": [
       "<Figure size 432x288 with 1 Axes>"
      ]
     },
     "metadata": {
      "needs_background": "light"
     },
     "output_type": "display_data"
    }
   ],
   "source": [
    "import pandas as pd\n",
    "from pandas import Series, DataFrame\n",
    "\n",
    "iris_data = pd.read_csv(\n",
    "    'data/iris.csv',\n",
    "    names=['length_sep', 'width_sep', 'length_pet', 'width_pet', 'species'], skiprows=[0])\n",
    "length_sep = iris_data['length_sep']\n",
    "width_sep = iris_data['width_sep']\n",
    "fig, axes = plt.subplots(1, 1)\n",
    "plt.scatter(length_sep, width_sep)\n",
    "# plt.xticks(np.round_(bin_cuts, 1))\n",
    "plt.title('Sepal length vs. sepal width', fontsize=17)\n",
    "plt.xlabel(r'sepal length (mm)')\n",
    "plt.ylabel(r'sepal width (mm)')"
   ]
  },
  {
   "cell_type": "markdown",
   "metadata": {},
   "source": [
    "We could color the markers associated with different species with different colors. Note below that, with the colors, we are plotting three dimensions of data (sepal length, width, and species)."
   ]
  },
  {
   "cell_type": "code",
   "execution_count": 28,
   "metadata": {},
   "outputs": [
    {
     "data": {
      "text/plain": [
       "<matplotlib.legend.Legend at 0x11bbb3748>"
      ]
     },
     "execution_count": 28,
     "metadata": {},
     "output_type": "execute_result"
    },
    {
     "data": {
      "image/png": "[encoded data removed]",
      "text/plain": [
       "<Figure size 432x288 with 1 Axes>"
      ]
     },
     "metadata": {
      "needs_background": "light"
     },
     "output_type": "display_data"
    }
   ],
   "source": [
    "length_sep_set = iris_data[iris_data['species']=='setosa']['length_sep']\n",
    "width_sep_set = iris_data[iris_data['species']=='setosa']['width_sep']\n",
    "length_sep_ver = iris_data[iris_data['species']=='versicolor']['length_sep']\n",
    "width_sep_ver = iris_data[iris_data['species']=='versicolor']['width_sep']\n",
    "length_sep_vrg = iris_data[iris_data['species']=='virginica']['length_sep']\n",
    "width_sep_vrg = iris_data[iris_data['species']=='virginica']['width_sep']\n",
    "\n",
    "fig, axes = plt.subplots(1, 1)\n",
    "plt.scatter(length_sep_set, width_sep_set, color='k', label='setosa')\n",
    "plt.scatter(length_sep_ver, width_sep_ver, color='r', label='versicolor')\n",
    "plt.scatter(length_sep_vrg, width_sep_vrg, color='y', label='virginica')\n",
    "\n",
    "# plt.xticks(np.round_(bin_cuts, 1))\n",
    "plt.title('Sepal length vs. sepal width by species', fontsize=15)\n",
    "plt.xlabel(r'sepal length (mm)')\n",
    "plt.ylabel(r'sepal width (mm)')\n",
    "plt.legend(loc='upper right')"
   ]
  },
  {
   "cell_type": "markdown",
   "metadata": {},
   "source": [
    "We could plot four dimensions by doing a three dimensional scatter plot (sepal length, sepal width, and petal length) with colors for each species."
   ]
  },
  {
   "cell_type": "code",
   "execution_count": 29,
   "metadata": {},
   "outputs": [
    {
     "data": {
      "text/plain": [
       "<matplotlib.legend.Legend at 0x11ba372e8>"
      ]
     },
     "execution_count": 29,
     "metadata": {},
     "output_type": "execute_result"
    },
    {
     "data": {
      "image/png": "[encoded data removed]",
      "text/plain": [
       "<Figure size 432x288 with 1 Axes>"
      ]
     },
     "metadata": {
      "needs_background": "light"
     },
     "output_type": "display_data"
    }
   ],
   "source": [
    "from mpl_toolkits.mplot3d import Axes3D\n",
    "\n",
    "length_sep_set = iris_data[iris_data['species']=='setosa']['length_sep']\n",
    "width_sep_set = iris_data[iris_data['species']=='setosa']['width_sep']\n",
    "length_pet_set = iris_data[iris_data['species']=='setosa']['length_pet']\n",
    "length_sep_ver = iris_data[iris_data['species']=='versicolor']['length_sep']\n",
    "width_sep_ver = iris_data[iris_data['species']=='versicolor']['width_sep']\n",
    "length_pet_ver = iris_data[iris_data['species']=='versicolor']['length_pet']\n",
    "length_sep_vrg = iris_data[iris_data['species']=='virginica']['length_sep']\n",
    "width_sep_vrg = iris_data[iris_data['species']=='virginica']['width_sep']\n",
    "length_pet_vrg = iris_data[iris_data['species']=='virginica']['length_pet']\n",
    "\n",
    "fig = plt.figure()\n",
    "ax = fig.add_subplot(111, projection ='3d')\n",
    "ax.scatter(length_sep_set, width_sep_set, length_pet_set,\n",
    "           color='k', label='setosa')\n",
    "ax.scatter(length_sep_ver, width_sep_ver, length_pet_ver,\n",
    "           color='r', label='versicolor')\n",
    "ax.scatter(length_sep_vrg, width_sep_vrg, length_pet_vrg,\n",
    "           color='y', label='virginica')\n",
    "\n",
    "# plt.xticks(np.round_(bin_cuts, 1))\n",
    "plt.title('Sepal length, sepal width, and petal length by species', fontsize=15)\n",
    "ax.set_xlabel(r'sepal length (mm)')\n",
    "ax.set_ylabel(r'sepal width (mm)')\n",
    "ax.set_zlabel(r'petal length (mm)')\n",
    "plt.legend(loc=6)"
   ]
  },
  {
   "cell_type": "markdown",
   "metadata": {},
   "source": [
    "One way to visualize all five dimensions of the Iris data is to use pairwise scatter plots. This method shows the scatterplot of each possible pair of variables. Pandas has a nice prepackaged graphical function that does this. Note in the figure below that there are only  6 unique scatter plots (either the lower triangle or the upper triangle)."
   ]
  },
  {
   "cell_type": "code",
   "execution_count": 30,
   "metadata": {},
   "outputs": [
    {
     "ename": "AttributeError",
     "evalue": "module 'pandas' has no attribute 'tools'",
     "output_type": "error",
     "traceback": [
      "\u001b[0;31m---------------------------------------------------------------------------\u001b[0m",
      "\u001b[0;31mAttributeError\u001b[0m                            Traceback (most recent call last)",
      "\u001b[0;32m<ipython-input-30-b3b113de6aa1>\u001b[0m in \u001b[0;36m<module>\u001b[0;34m\u001b[0m\n\u001b[0;32m----> 1\u001b[0;31m \u001b[0maxes\u001b[0m \u001b[0;34m=\u001b[0m \u001b[0mpd\u001b[0m\u001b[0;34m.\u001b[0m\u001b[0mtools\u001b[0m\u001b[0;34m.\u001b[0m\u001b[0mplotting\u001b[0m\u001b[0;34m.\u001b[0m\u001b[0mscatter_matrix\u001b[0m\u001b[0;34m(\u001b[0m\u001b[0miris_data\u001b[0m\u001b[0;34m,\u001b[0m \u001b[0malpha\u001b[0m\u001b[0;34m=\u001b[0m\u001b[0;36m0.2\u001b[0m\u001b[0;34m)\u001b[0m\u001b[0;34m\u001b[0m\u001b[0;34m\u001b[0m\u001b[0m\n\u001b[0m\u001b[1;32m      2\u001b[0m \u001b[0mplt\u001b[0m\u001b[0;34m.\u001b[0m\u001b[0mtight_layout\u001b[0m\u001b[0;34m(\u001b[0m\u001b[0;34m)\u001b[0m  \u001b[0;31m# adjust the spacing between the plots\u001b[0m\u001b[0;34m\u001b[0m\u001b[0;34m\u001b[0m\u001b[0m\n",
      "\u001b[0;32m/anaconda3/lib/python3.7/site-packages/pandas/__init__.py\u001b[0m in \u001b[0;36m__getattr__\u001b[0;34m(name)\u001b[0m\n\u001b[1;32m    212\u001b[0m \u001b[0;34m\u001b[0m\u001b[0m\n\u001b[1;32m    213\u001b[0m             \u001b[0;32mreturn\u001b[0m \u001b[0mPanel\u001b[0m\u001b[0;34m\u001b[0m\u001b[0;34m\u001b[0m\u001b[0m\n\u001b[0;32m--> 214\u001b[0;31m         \u001b[0;32mraise\u001b[0m \u001b[0mAttributeError\u001b[0m\u001b[0;34m(\u001b[0m\u001b[0;34m\"module 'pandas' has no attribute '{}'\"\u001b[0m\u001b[0;34m.\u001b[0m\u001b[0mformat\u001b[0m\u001b[0;34m(\u001b[0m\u001b[0mname\u001b[0m\u001b[0;34m)\u001b[0m\u001b[0;34m)\u001b[0m\u001b[0;34m\u001b[0m\u001b[0;34m\u001b[0m\u001b[0m\n\u001b[0m\u001b[1;32m    215\u001b[0m \u001b[0;34m\u001b[0m\u001b[0m\n\u001b[1;32m    216\u001b[0m \u001b[0;34m\u001b[0m\u001b[0m\n",
      "\u001b[0;31mAttributeError\u001b[0m: module 'pandas' has no attribute 'tools'"
     ]
    }
   ],
   "source": [
    "axes = pd.tools.plotting.scatter_matrix(iris_data, alpha=0.2)\n",
    "plt.tight_layout()  # adjust the spacing between the plots"
   ]
  },
  {
   "cell_type": "markdown",
   "metadata": {},
   "source": [
    "If we wanted to customize our figure, we would simply use matplotlib's `add_subplot()` command. This matrix of scatterplots allows us, in a restricted way, to look at more than three dimensions at a time."
   ]
  },
  {
   "cell_type": "code",
   "execution_count": null,
   "metadata": {},
   "outputs": [],
   "source": [
    "fig = plt.figure()\n",
    "\n",
    "width_pet_set = iris_data[iris_data['species']=='setosa']['width_pet']\n",
    "width_pet_ver = iris_data[iris_data['species']=='versicolor']['width_pet']\n",
    "width_pet_vrg = iris_data[iris_data['species']=='virginica']['width_pet']\n",
    "\n",
    "ax1 = fig.add_subplot(3, 3, 1)\n",
    "ax4 = fig.add_subplot(3, 3, 4)\n",
    "ax5 = fig.add_subplot(3, 3, 5)\n",
    "ax7 = fig.add_subplot(3, 3, 7)\n",
    "ax8 = fig.add_subplot(3, 3, 8)\n",
    "ax9 = fig.add_subplot(3, 3, 9)\n",
    "\n",
    "ax1.scatter(length_sep_set, width_sep_set, color='k', label='setosa')\n",
    "ax1.scatter(length_sep_ver, width_sep_ver, color='r', label='versicolor')\n",
    "ax1.scatter(length_sep_vrg, width_sep_vrg, color='y', label='virginica')\n",
    "ax1.set_xlabel('sepal length (mm)')\n",
    "ax1.set_ylabel('sepal width (mm)')\n",
    "ax1.set_xticks([4, 5, 6, 7, 8])\n",
    "\n",
    "ax4.scatter(length_sep_set, length_pet_set, color='k', label='setosa')\n",
    "ax4.scatter(length_sep_ver, length_pet_ver, color='r', label='versicolor')\n",
    "ax4.scatter(length_sep_vrg, length_pet_vrg, color='y', label='virginica')\n",
    "ax4.set_xlabel('sepal length (mm)')\n",
    "ax4.set_ylabel('petal length (mm)')\n",
    "ax4.set_xticks([4, 5, 6, 7, 8])\n",
    "\n",
    "ax5.scatter(width_sep_set, length_pet_set, color='k', label='setosa')\n",
    "ax5.scatter(width_sep_ver, length_pet_ver, color='r', label='versicolor')\n",
    "ax5.scatter(width_sep_vrg, length_pet_vrg, color='y', label='virginica')\n",
    "ax5.set_xlabel('sepal width (mm)')\n",
    "ax5.set_ylabel('petal length (mm)')\n",
    "ax5.set_xticks([1, 2, 3, 4, 5])\n",
    "\n",
    "ax7.scatter(length_sep_set, width_pet_set, color='k', label='setosa')\n",
    "ax7.scatter(length_sep_ver, width_pet_ver, color='r', label='versicolor')\n",
    "ax7.scatter(length_sep_vrg, width_pet_vrg, color='y', label='virginica')\n",
    "ax7.set_xlabel('sepal length (mm)')\n",
    "ax7.set_ylabel('petal width (mm)')\n",
    "ax7.set_xticks([4, 5, 6, 7, 8])\n",
    "\n",
    "ax8.scatter(width_sep_set, width_pet_set, color='k', label='setosa')\n",
    "ax8.scatter(width_sep_ver, width_pet_ver, color='r', label='versicolor')\n",
    "ax8.scatter(width_sep_vrg, width_pet_vrg, color='y', label='virginica')\n",
    "ax8.set_xlabel('sepal width (mm)')\n",
    "ax8.set_ylabel('petal width (mm)')\n",
    "ax8.set_xticks([1, 2, 3, 4, 5])\n",
    "\n",
    "ax9.scatter(length_pet_set, width_pet_set, color='k', label='setosa')\n",
    "ax9.scatter(length_pet_ver, width_pet_ver, color='r', label='versicolor')\n",
    "ax9.scatter(length_pet_vrg, width_pet_vrg, color='y', label='virginica')\n",
    "ax9.set_xlabel('petal length (mm)')\n",
    "ax9.set_ylabel('petal width (mm)')\n",
    "\n",
    "plt.tight_layout()  # Adjust the spacing between the plots"
   ]
  },
  {
   "cell_type": "markdown",
   "metadata": {},
   "source": [
    "These pairwise scatter plots allow you to start to see how the multiple dimensions (more than three) might work together. The plot above shows 5 dimensions of the data."
   ]
  },
  {
   "cell_type": "markdown",
   "metadata": {},
   "source": [
    "*Linked brushing* or *painting* is the use of a pointing device such as a mouse to highlight certain markers in one plot and have them automatically also be highlighted in the other plots.\n",
    "* A python library that only works with Python 2.7 to 3.4 is the `mpld3` package. An example of a linked brushing pairwise system of scatter plots using the Iris data is [here](https://mpld3.github.io/examples/linked_brush.html).\n",
    "* A page showing Bokeh's capability for linked brushing is [here](http://bokeh.pydata.org/en/0.10.0/docs/user_guide/interaction.html)."
   ]
  },
  {
   "cell_type": "markdown",
   "metadata": {},
   "source": [
    "## 3. The line plot\n",
    "The two-way line plot is the staple for visualizing time series data. It is also an alternative to a scatterplot when there is a clear order to the points in the data. The line plot connects the points."
   ]
  },
  {
   "cell_type": "markdown",
   "metadata": {},
   "source": [
    "### 3.1. Line plot\n",
    "We did some examples of the line plot in the Section 0 on Python preliminaries. The `matplotlib.pyplot` package has a function `plot` for making two-way line plots. And you can stack them on top of each other in the same figure by simply calling one after another. "
   ]
  },
  {
   "cell_type": "code",
   "execution_count": null,
   "metadata": {},
   "outputs": [],
   "source": [
    "fig, ax = plt.subplots()\n",
    "my_age = np.arange(3, 45)\n",
    "knees_hurt = 0.03 * np.arange(50) ** 2\n",
    "all_ages = np.arange(50)\n",
    "plt.plot(all_ages[4:46], my_age, marker='D', label='My age')\n",
    "plt.plot(all_ages, knees_hurt, marker='o',\n",
    "         label='How much my knees hurt')\n",
    "# for the minor ticks, use no labels; default NullFormatter\n",
    "minorLocator = MultipleLocator(1)\n",
    "ax.xaxis.set_minor_locator(minorLocator)\n",
    "plt.grid(b=True, which='major', color='0.65', linestyle='-')\n",
    "plt.title('My knee pain and my age', fontsize=20)\n",
    "plt.xlabel(r'Age')\n",
    "plt.ylabel(r'Pain units')\n",
    "plt.xlim([-1.0, 50])\n",
    "plt.ylim([-2.0, 80])\n",
    "plt.legend(loc='upper left')"
   ]
  },
  {
   "cell_type": "markdown",
   "metadata": {},
   "source": [
    "### 3.2. 3D surface plots vs. 2D level plots\n",
    "You can productively plot 3D surface visualizations in matplotlib. If you are working from the terminal on your computer or creating a D3 web manipulatable graphic, a 3D image is a productive summary of data. However, in print, a 3D image is often not ideal. If the image must remain static, level curves are often more instructive."
   ]
  },
  {
   "cell_type": "markdown",
   "metadata": {},
   "source": [
    "As we did with the 3D scatter plot, we will use matplotlib's `mpl_toolkits.mplot3d` toolkit. Read in as a NumPy array the `emat.csv` file. This 80 x 7 NumPy array contains relative estimates of hourly compensation by age (21 to 100) and income percentile (0-24%, 25-49%, 50-69%, 70-79%, 80-89%, 90-98%, 99-100%)"
   ]
  },
  {
   "cell_type": "code",
   "execution_count": null,
   "metadata": {},
   "outputs": [],
   "source": [
    "emat = np.loadtxt('data/emat.csv', delimiter=',')\n",
    "emat"
   ]
  },
  {
   "cell_type": "code",
   "execution_count": null,
   "metadata": {},
   "outputs": [],
   "source": [
    "import matplotlib\n",
    "from matplotlib import cm\n",
    "cmap1 = matplotlib.cm.get_cmap('summer')\n",
    "\n",
    "ages = np.arange(21, 101)\n",
    "abil_midp = np.array([12.5, 37.5, 60, 75, 85, 94, 99.5])\n",
    "abil_mesh, age_mesh = np.meshgrid(abil_midp, ages)\n",
    "\n",
    "fig = plt.figure()\n",
    "ax = fig.gca(projection='3d')\n",
    "ax.plot_surface(age_mesh, abil_mesh, emat, rstride=8,\n",
    "                cstride=1, cmap=cmap1)\n",
    "ax.set_xlabel(r'age-$s$')\n",
    "ax.set_ylabel(r'ability type -$j$')\n",
    "ax.set_zlabel(r'ability $e_{j,s}$')"
   ]
  },
  {
   "cell_type": "markdown",
   "metadata": {},
   "source": [
    "If we can't manipulate this graphic, then we might want to just plot the level curves."
   ]
  },
  {
   "cell_type": "code",
   "execution_count": null,
   "metadata": {},
   "outputs": [],
   "source": [
    "abil_pcts = np.array([0.0, 0.25, 0.50, 0.70, 0.80, 0.90, 0.99, 1.0])\n",
    "J = 7\n",
    "\n",
    "fig = plt.figure()\n",
    "ax = plt.subplot(111)\n",
    "linestyles = np.array([\"-\", \"--\", \"-.\", \":\",])\n",
    "markers = np.array([\"x\", \"v\", \"o\", \"d\", \">\", \"|\"])\n",
    "pct_lb = 0\n",
    "for j in range(J):\n",
    "    this_label = (str(int(np.rint(pct_lb))) + \" - \" +\n",
    "        str(int(np.rint(pct_lb + 100*abil_pcts[j]))) + \"%\")\n",
    "    pct_lb += 100*abil_pcts[j]\n",
    "    if j <= 3:\n",
    "        ax.plot(ages, np.log(emat[:, j]), label=this_label,\n",
    "            linestyle=linestyles[j], color='black')\n",
    "    elif j > 3:\n",
    "        ax.plot(ages, np.log(emat[:, j]), label=this_label,\n",
    "            marker=markers[j-4], color='black')\n",
    "ax.axvline(x=80, color='black', linestyle='--')\n",
    "box = ax.get_position()\n",
    "ax.set_position([box.x0, box.y0, box.width * 0.8, box.height])\n",
    "ax.legend(loc='center left', bbox_to_anchor=(1, 0.5))\n",
    "ax.set_xlabel(r'age-$s$')\n",
    "ax.set_ylabel(r'log ability $log(e_{j,s})$')"
   ]
  },
  {
   "cell_type": "markdown",
   "metadata": {},
   "source": [
    "## 4. More than 3 dimensions"
   ]
  },
  {
   "cell_type": "markdown",
   "metadata": {},
   "source": [
    "### 4.1. Plotting a time component with dynamic graphics\n",
    "[Here](https://sites.google.com/site/evanjmagnusson/) is an example of a gif that a researcher made of the time series of a three-dimensional object. Python's `PIL` package has the functionality to do this (e.g., `from PIL import Image, ImageDraw`). See examples [here](http://stackoverflow.com/questions/13041893/generating-an-animated-gif-in-python) and [here](http://stackoverflow.com/questions/34126016/trying-to-create-a-gif-from-a-set-of-images)."
   ]
  },
  {
   "cell_type": "markdown",
   "metadata": {},
   "source": [
    "### 4.2. Brushing\n",
    "*Linked brushing* or *painting* is the use of a pointing device such as a mouse to highlight certain markers in one plot and have them automatically also be highlighted in the other plots.\n",
    "* A python library that only works with Python 2.7 to 3.4 is the `mpld3` package. An example of a linked brushing pairwise system of scatter plots using the Iris data is [here](https://mpld3.github.io/examples/linked_brush.html).\n",
    "* A page showing Bokeh's capability for linked brushing is [here](http://bokeh.pydata.org/en/0.10.0/docs/user_guide/interaction.html)."
   ]
  },
  {
   "cell_type": "markdown",
   "metadata": {},
   "source": [
    "### 4.3. Using glyphs\n",
    "Glyphs, or images with many characteristics, can be used as scatter plot markers in order to incorporate more than two dimensions of data. You can use marker color, marker length, marker shape, marker size to encapsulate more dimensions of the data. Below is a rich example.\n",
    "![title](Images/glyphexamp.png)"
   ]
  },
  {
   "cell_type": "markdown",
   "metadata": {},
   "source": [
    "### 4.4. Chernoff faces\n",
    "The Chernoff face is an interesting way to compare data visually in a way that simultaneously presents as many dimensions of the data as you want. Chernoff (1973) proposed using an image that associates different attributes of the image to variables in the data. For example, the size of the nose might represent the variable \"wind speed\", the color of the skin might represent \"temperature\", the openness of the eyes might represents \"time of day\", and the length of the hair might represent \"age\". The only limit to the dimensionality is how many characteristics you can put on the face. Also note that it is valuable that there be some intuitive association between the variable and the characteristic of the glyph. And, of course, the image could be anything besides a face."
   ]
  },
  {
   "cell_type": "markdown",
   "metadata": {},
   "source": [
    "![title](Images/ChernoffFaces.png)\n",
    "The above image represents data for lawyers' ratings of twelve judges. Each facial feature represents a dimension of the ratings. Because the features of the faces vary in perceived importance, the way in which variables are mapped to the features should be carefully chosen (e.g. eye size and eyebrow-slant have been found to carry significant weight)."
   ]
  },
  {
   "cell_type": "markdown",
   "metadata": {},
   "source": [
    "### 4.5. D3 javascript visualizations\n",
    "D3.js or D3 or Data Driven Documents is a Javascript library for producing dynamic, interactive data visualizations in web browsers. D3 graphics are the future of visualization. These techniques have not yet become mainstream among researchers. The features available in D3 visualizations include slider bars, toggle buttons, flyover info, and dynamic time advancement.\n",
    "\n",
    "The *New York Times* graphics and data department have been the best at producing D3 graphical representations. My favorit example is [this graphic](http://www.nytimes.com/interactive/2015/03/19/upshot/3d-yield-curve-economic-growth.html?_r=0) that shows the user the ins and outs of U.S., German, and Japanese yield curve data (interest rates across different maturities at different points in time).\n",
    "\n",
    "D3 visualizations allow us to use objects like slider bars to envision more than three dimensions of data at a time. The [Bokeh package](http://bokeh.pydata.org/en/latest/) is Python's library for D3 visualizations. Below is a screenshot of an example. This [*Wall Street Journal* article](http://blogs.wsj.com/economics/2016/08/18/why-its-so-hard-to-get-rid-of-tax-loopholes/) has an example that my group at the Open Source Policy Center built using Bokeh.\n",
    "![title](Images/BokehSlide.png)"
   ]
  },
  {
   "cell_type": "markdown",
   "metadata": {},
   "source": [
    "## References\n",
    "\n",
    "* Chernoff, H., \"The Use of Faces to Represent Points in $k$-dimensional Space Graphically,\" _Journal of the American Statistical Association_, 94, pp. 807-823 (1973).\n",
    "* McKinney, Wes, Python for Data Analysis, O'Reilly Media, Inc. (2013).\n",
    "* [Python labs](http://www.acme.byu.edu/?page_id=2067), Applied and Computational Mathematics Emphasis (ACME), Brigham Young University.\n",
    "* Scott, D.W., Gotto, A.M., Cole, J.S., and Gorry, G.A., \"Plasma Lipids as Collateral Risk Factors in Coronary Artery Disease: A Study of 371 Males with Chest Pain,\" *Journal of Chronic Diseases*, 31, pp. 337-345.\n",
    "* Scott, David W., *Multivariate Density Estimation: Theory, Practice, and Visualization*, 2nd edition, John Wiley & Sons, Inc. (2015)."
   ]
  }
 ],
 "metadata": {
  "anaconda-cloud": {},
  "kernelspec": {
   "display_name": "Python 3",
   "language": "python",
   "name": "python3"
  },
  "language_info": {
   "codemirror_mode": {
    "name": "ipython",
    "version": 3
   },
   "file_extension": ".py",
   "mimetype": "text/x-python",
   "name": "python",
   "nbconvert_exporter": "python",
   "pygments_lexer": "ipython3",
   "version": "3.7.3"
  }
 },
 "nbformat": 4,
 "nbformat_minor": 1
}
