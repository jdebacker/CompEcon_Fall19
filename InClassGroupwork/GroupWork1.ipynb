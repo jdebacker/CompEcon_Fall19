{
 "cells": [
  {
   "cell_type": "markdown",
   "metadata": {},
   "source": [
    "# In-Class Exercise (Cake Eating Problem)"
   ]
  },
  {
   "cell_type": "code",
   "execution_count": 1,
   "metadata": {},
   "outputs": [],
   "source": [
    "import scipy.optimize as opt\n",
    "import numpy as np\n",
    "import matplotlib.pyplot as plt\n",
    "%matplotlib notebook\n",
    "\n",
    "#set parameter (initial) values: Do not forget to define the values as integers (0.0)\n",
    "beta = 0.95\n",
    "ro = 1.1\n",
    "sigma = 2.0 \n",
    "w1 = 8.0"
   ]
  },
  {
   "cell_type": "code",
   "execution_count": 2,
   "metadata": {},
   "outputs": [],
   "source": [
    "def uprime(c, sigma):\n",
    "    '''\n",
    "    This function is used to define marginal utility function.\n",
    "    Utility function:\n",
    "        u = (c**(1-sigma)-1)/(1-sigma) if sigma!=1 & sigma>0\n",
    "        u = ln(c) if sigma=1\n",
    "    Arguments:\n",
    "consumption (c) and risk aversity (sigma)\n",
    "    '''\n",
    "    mu = (c**(-sigma))\n",
    "    return mu\n",
    "\n",
    "def upp(c, sigma):\n",
    "    '''\n",
    "    This function is used to determine second derivitive of the utility function (u double prime).\n",
    "    Arguments: Consumption (c) and risk aversity (sigma)\n",
    "    '''\n",
    "    dmu = -sigma*c**(-sigma-1)\n",
    "    return dmu\n",
    "\n",
    "def foc(s, ro, sigma, beta, w1):\n",
    "    '''\n",
    "    This function defines the first order condition, used to find s(w1).\n",
    "    '''\n",
    "    error = uprime(w1-s, sigma) - beta*ro*uprime(ro*s, sigma)\n",
    "    return error"
   ]
  },
  {
   "cell_type": "code",
   "execution_count": 3,
   "metadata": {},
   "outputs": [
    {
     "data": {
      "text/plain": [
       "    fjac: array([[-1.]])\n",
       "     fun: array([0.])\n",
       " message: 'The solution converged.'\n",
       "    nfev: 20\n",
       "     qtf: array([1.53823343e-11])\n",
       "       r: array([-0.05823875])\n",
       "  status: 1\n",
       " success: True\n",
       "       x: array([3.85346213])"
      ]
     },
     "execution_count": 3,
     "metadata": {},
     "output_type": "execute_result"
    }
   ],
   "source": [
    "s0 = 0.1\n",
    "# documents for rootfinder: https://docs.scipy.org/doc/scipy/reference/generated/scipy.optimize.root.html#scipy.optimize.root\n",
    "results = opt.root(foc, s0, args = (ro, sigma, beta, w1), method='hybr', jac=None, tol=None, callback=None, options=None)\n",
    "results"
   ]
  },
  {
   "cell_type": "code",
   "execution_count": 4,
   "metadata": {},
   "outputs": [
    {
     "data": {
      "text/plain": [
       "3.8974358974358974"
      ]
     },
     "execution_count": 4,
     "metadata": {},
     "output_type": "execute_result"
    }
   ],
   "source": [
    "# To test the accuracy of the results\n",
    "(beta*w1)/(1+beta)"
   ]
  },
  {
   "cell_type": "code",
   "execution_count": 13,
   "metadata": {},
   "outputs": [
    {
     "data": {
      "text/plain": [
       "    fjac: array([[-1.]])\n",
       "     fun: array([-6.9388939e-18])\n",
       " message: 'The solution converged.'\n",
       "    nfev: 20\n",
       "     qtf: array([2.2803974e-11])\n",
       "       r: array([-0.05599024])\n",
       "  status: 1\n",
       " success: True\n",
       "       x: array([3.76665041])"
      ]
     },
     "execution_count": 13,
     "metadata": {},
     "output_type": "execute_result"
    }
   ],
   "source": [
    "# Plot ds/(p+dp) \n",
    "beta = 0.95\n",
    "ro = 1.1\n",
    "epsilon = 0.1\n",
    "sigma = 2.0 \n",
    "w1 = 8.0\n",
    "s0 = 0.1\n",
    "# documents for rootfinder: https://docs.scipy.org/doc/scipy/reference/generated/scipy.optimize.root.html#scipy.optimize.root\n",
    "results = opt.root(foc, s0, args = (ro+epsilon, sigma, beta, w1), method='hybr', jac=None, tol=None, callback=None, options=None)\n",
    "results"
   ]
  },
  {
   "cell_type": "markdown",
   "metadata": {},
   "source": [
    "#### Comparing the results: lower as expected"
   ]
  },
  {
   "cell_type": "code",
   "execution_count": 14,
   "metadata": {},
   "outputs": [
    {
     "data": {
      "text/plain": [
       "    fjac: array([[-1.]])\n",
       "     fun: array([0.])\n",
       " message: 'The solution converged.'\n",
       "    nfev: 20\n",
       "     qtf: array([1.54800062e-11])\n",
       "       r: array([-0.05821424])\n",
       "  status: 1\n",
       " success: True\n",
       "       x: array([3.85255468])"
      ]
     },
     "execution_count": 14,
     "metadata": {},
     "output_type": "execute_result"
    }
   ],
   "source": [
    "# Change the value of epsilon\n",
    "beta = 0.95\n",
    "ro = 1.1\n",
    "epsilon = 0.001\n",
    "sigma = 2.0 \n",
    "w1 = 8.0\n",
    "s0 = 0.1\n",
    "# documents for rootfinder: https://docs.scipy.org/doc/scipy/reference/generated/scipy.optimize.root.html#scipy.optimize.root\n",
    "results = opt.root(foc, s0, args = (ro+epsilon, sigma, beta, w1), method='hybr', jac=None, tol=None, callback=None, options=None)\n",
    "results"
   ]
  },
  {
   "cell_type": "code",
   "execution_count": 15,
   "metadata": {},
   "outputs": [
    {
     "name": "stdout",
     "output_type": "stream",
     "text": [
      "[array([1.8173347]), array([1.76704462]), array([1.71812619]), array([1.67052412]), array([1.62418609]), array([1.57906249]), array([1.53510629]), array([1.49227282]), array([1.45051968]), array([1.40980658]), array([1.37009518]), array([1.33134903]), array([1.29353341]), array([1.25661523]), array([1.22056297]), array([1.18534656]), array([1.1509373]), array([1.11730779]), array([1.08443186]), array([1.05228448]), array([1.02084174]), array([0.99008074]), array([0.95997958]), array([0.93051727]), array([0.90167372]), array([0.87342964]), array([0.84576658]), array([0.81866679]), array([0.79211326]), array([0.76608967]), array([0.74058031]), array([0.71557011]), array([0.69104457]), array([0.66698976]), array([0.64339226]), array([0.62023917]), array([0.59751805]), array([0.57521695]), array([0.55332432]), array([0.53182907]), array([0.51072048]), array([0.4899882]), array([0.46962229]), array([0.44961312]), array([0.4299514]), array([0.41062818]), array([0.39163478]), array([0.37296284]), array([0.35460428]), array([0.33655128]), array([0.31879627]), array([0.30133195]), array([0.28415123]), array([0.26724727]), array([0.25061345]), array([0.23424333]), array([0.2181307]), array([0.20226955]), array([0.18665402]), array([0.17127846]), array([0.15613739]), array([0.14122548]), array([0.12653758]), array([0.11206867]), array([0.0978139]), array([0.08376856]), array([0.06992805]), array([0.05628794]), array([0.04284391]), array([0.02959176]), array([0.01652742]), array([0.00364692]), array([-0.00905359]), array([-0.02157786]), array([-0.03392952]), array([-0.04611211]), array([-0.05812909]), array([-0.06998381]), array([-0.08167953]), array([-0.09321942]), array([-0.10460658]), array([-0.11584401]), array([-0.12693466]), array([-0.13788138]), array([-0.14868694]), array([-0.15935407]), array([-0.1698854]), array([-0.18028351]), array([-0.19055091]), array([-0.20069004]), array([-0.21070331]), array([-0.22059303]), array([-0.23036147]), array([-0.24001086]), array([-0.24954336]), array([-0.25896106]), array([-0.26826605]), array([-0.27746032]), array([-0.28654585]), array([-0.29552454]), array([-0.30439827]), array([-0.31316887]), array([-0.32183813]), array([-0.33040779]), array([-0.33887956]), array([-0.3472551]), array([-0.35553605]), array([-0.363724]), array([-0.37182051]), array([-0.37982709]), array([-0.38774524]), array([-0.39557642]), array([-0.40332205]), array([-0.41098352]), array([-0.41856219]), array([-0.42605941]), array([-0.43347648]), array([-0.44081467]), array([-0.44807524]), array([-0.4552594]), array([-0.46236838]), array([-0.46940332]), array([-0.47636539]), array([-0.48325571]), array([-0.49007539]), array([-0.4968255]), array([-0.5035071]), array([-0.51012124]), array([-0.51666892]), array([-0.52315115]), array([-0.5295689]), array([-0.53592312]), array([-0.54221476]), array([-0.54844474]), array([-0.55461395]), array([-0.56072329]), array([-0.56677361]), array([-0.57276578]), array([-0.57870061]), array([-0.58457895]), array([-0.59040157]), array([-0.59616928]), array([-0.60188285]), array([-0.60754303]), array([-0.61315058]), array([-0.61870621]), array([-0.62421065]), array([-0.62966461]), array([-0.63506876]), array([-0.6404238]), array([-0.64573039]), array([-0.65098919]), array([-0.65620082]), array([-0.66136594]), array([-0.66648515]), array([-0.67155907]), array([-0.67658829]), array([-0.68157341]), array([-0.686515]), array([-0.69141362]), array([-0.69626984]), array([-0.70108421]), array([-0.70585725]), array([-0.71058951]), array([-0.7152815]), array([-0.71993374]), array([-0.72454672]), array([-0.72912094]), array([-0.73365689]), array([-0.73815505]), array([-0.74261589]), array([-0.74703986]), array([-0.75142743]), array([-0.75577904]), array([-0.76009513]), array([-0.76437614]), array([-0.76862248]), array([-0.77283459]), array([-0.77701287]), array([-0.78115773]), array([-0.78526956]), array([-0.78934877]), array([-0.79339573]), array([-0.79741083]), array([-0.80139444]), array([-0.80534694]), array([-0.80926868]), array([-0.81316002]), array([-0.81702132]), array([-0.82085292]), array([-0.82465516]), array([-0.82842838]), array([-0.8321729]), array([-0.83588907]), array([-0.83957718]), array([-0.84323758]), array([-0.84687055]), array([-0.85047642]), array([-0.85405548]), array([-0.85760803]), array([-0.86113436]), array([-0.86463477]), array([-0.86810953]), array([-0.87155894]), array([-0.87498326]), array([-0.87838277]), array([-0.88175773]), array([-0.88510842]), array([-0.88843508]), array([-0.89173799]), array([-0.89501739]), array([-0.89827354]), array([-0.90150667]), array([-0.90471704]), array([-0.90790488]), array([-0.91107043]), array([-0.91421392]), array([-0.91733558]), array([-0.92043564]), array([-0.92351433]), array([-0.92657185]), array([-0.92960843]), array([-0.93262429]), array([-0.93561963]), array([-0.93859467]), array([-0.9415496]), array([-0.94448464]), array([-0.94739998]), array([-0.95029582]), array([-0.95317235]), array([-0.95602977]), array([-0.95886827]), array([-0.96168804]), array([-0.96448925]), array([-0.9672721]), array([-0.97003676]), array([-0.9727834]), array([-0.97551222]), array([-0.97822337]), array([-0.98091703]), array([-0.98359337]), array([-0.98625255]), array([-0.98889474]), array([-0.99152011]), array([-0.9941288]), array([-0.99672099]), array([-0.99929682]), array([-1.00185645]), array([-1.00440003]), array([-1.00692772]), array([-1.00943965]), array([-1.01193599]), array([-1.01441687]), array([-1.01688243]), array([-1.01933282]), array([-1.02176818]), array([-1.02418865]), array([-1.02659435]), array([-1.02898543]), array([-1.03136203]), array([-1.03372426]), array([-1.03607226]), array([-1.03840615]), array([-1.04072608]), array([-1.04303215]), array([-1.0453245]), array([-1.04760324]), array([-1.0498685]), array([-1.05212039]), array([-1.05435904]), array([-1.05658455]), array([-1.05879706]), array([-1.06099666]), array([-1.06318347]), array([-1.06535761]), array([-1.06751918]), array([-1.06966829]), array([-1.07180505]), array([-1.07392956]), array([-1.07604193]), array([-1.07814227]), array([-1.08023068]), array([-1.08230725]), array([-1.08437209]), array([-1.08642529]), array([-1.08846696]), array([-1.0904972]), array([-1.09251609]), array([-1.09452373]), array([-1.09652022]), array([-1.09850565]), array([-1.10048011]), array([-1.10244369]), array([-1.10439648]), array([-1.10633857]), array([-1.10827005]), array([-1.110191]), array([-1.11210152]), array([-1.11400167]), array([-1.11589156]), array([-1.11777126]), array([-1.11964085]), array([-1.12150042]), array([-1.12335004]), array([-1.1251898]), array([-1.12701977]), array([-1.12884003]), array([-1.13065066]), array([-1.13245174]), array([-1.13424334]), array([-1.13602553]), array([-1.13779839]), array([-1.13956199]), array([-1.14131641]), array([-1.14306172]), array([-1.14479798]), array([-1.14652526]), array([-1.14824365]), array([-1.14995319]), array([-1.15165398]), array([-1.15334606]), array([-1.1550295]), array([-1.15670439]), array([-1.15837076]), array([-1.1600287]), array([-1.16167827]), array([-1.16331953]), array([-1.16495254]), array([-1.16657736]), array([-1.16819406]), array([-1.16980269]), array([-1.17140333]), array([-1.17299601]), array([-1.17458082]), array([-1.17615779]), array([-1.177727]), array([-1.1792885]), array([-1.18084234]), array([-1.18238858]), array([-1.18392728]), array([-1.1854585]), array([-1.18698228]), array([-1.18849868]), array([-1.19000775]), array([-1.19150955]), array([-1.19300413]), array([-1.19449154]), array([-1.19597184]), array([-1.19744507]), array([-1.19891128]), array([-1.20037053]), array([-1.20182286]), array([-1.20326832]), array([-1.20470697]), array([-1.20613885]), array([-1.207564]), array([-1.20898248]), array([-1.21039433]), array([-1.21179959]), array([-1.21319832]), array([-1.21459056]), array([-1.21597635]), array([-1.21735575]), array([-1.21872878]), array([-1.2200955]), array([-1.22145596]), array([-1.22281018]), array([-1.22415822]), array([-1.22550012]), array([-1.22683592]), array([-1.22816567]), array([-1.22948939]), array([-1.23080714]), array([-1.23211895]), array([-1.23342487]), array([-1.23472493]), array([-1.23601917]), array([-1.23730764]), array([-1.23859036]), array([-1.23986739]), array([-1.24113875]), array([-1.24240448]), array([-1.24366463]), array([-1.24491922]), array([-1.2461683]), array([-1.2474119]), array([-1.24865006]), array([-1.24988281]), array([-1.25111019]), array([-1.25233224]), array([-1.25354898]), array([-1.25476045]), array([-1.25596669]), array([-1.25716773]), array([-1.2583636]), array([-1.25955435]), array([-1.26073999]), array([-1.26192056]), array([-1.2630961]), array([-1.26426664]), array([-1.26543221]), array([-1.26659284]), array([-1.26774855]), array([-1.2688994]), array([-1.2700454]), array([-1.27118658]), array([-1.27232297]), array([-1.27345462]), array([-1.27458153]), array([-1.27570375]), array([-1.27682131]), array([-1.27793423]), array([-1.27904253]), array([-1.28014626]), array([-1.28124544]), array([-1.28234009]), array([-1.28343025]), array([-1.28451594]), array([-1.28559719]), array([-1.28667402]), array([-1.28774647]), array([-1.28881456]), array([-1.28987831]), array([-1.29093776]), array([-1.29199293]), array([-1.29304384]), array([-1.29409053]), array([-1.29513301]), array([-1.29617131]), array([-1.29720546]), array([-1.29823547]), array([-1.29926139]), array([-1.30028323]), array([-1.30130101]), array([-1.30231476]), array([-1.3033245]), array([-1.30433026]), array([-1.30533206]), array([-1.30632992]), array([-1.30732387]), array([-1.30831393]), array([-1.30930012]), array([-1.31028247]), array([-1.31126099]), array([-1.31223571]), array([-1.31320666]), array([-1.31417385]), array([-1.3151373]), array([-1.31609704]), array([-1.31705309]), array([-1.31800547]), array([-1.3189542]), array([-1.3198993]), array([-1.3208408]), array([-1.32177871]), array([-1.32271305]), array([-1.32364384]), array([-1.32457111]), array([-1.32549488]), array([-1.32641515]), array([-1.32733196]), array([-1.32824533]), array([-1.32915526]), array([-1.33006179]), array([-1.33096493]), array([-1.3318647]), array([-1.33276112]), array([-1.3336542]), array([-1.33454398]), array([-1.33543045]), array([-1.33631365]), array([-1.33719359]), array([-1.33807029]), array([-1.33894376]), array([-1.33981403]), array([-1.34068111]), array([-1.34154502]), array([-1.34240578]), array([-1.3432634]), array([-1.3441179]), array([-1.3449693]), array([-1.34581762]), array([-1.34666286]), array([-1.34750506]), array([-1.34834422]), array([-1.34918036]), array([-1.3500135]), array([-1.35084365]), array([-1.35167084]), array([-1.35249507]), array([-1.35331636]), array([-1.35413472]), array([-1.35495018]), array([-1.35576275]), array([-1.35657244]), array([-1.35737927]), array([-1.35818325]), array([-1.35898441]), array([-1.35978274]), array([-1.36057828])]\n"
     ]
    }
   ],
   "source": [
    "sigma_list = list(np.linspace(0.5, 4, 500)) \n",
    "d=[] \n",
    "#d = np.zeros[len(sigma-list)] #An alternative way to define d\n",
    "for i,v in enumerate(sigma_list):\n",
    "    results1 = opt.root(foc, s0, args = (ro, v, beta, w1), method='hybr', jac=None, tol=None, callback=None, options=None)\n",
    "    results2 = opt.root(foc, s0, args = (ro+epsilon, v, beta, w1), method='hybr', jac=None, tol=None, callback=None, options=None)\n",
    "    s1 = results1[\"x\"]\n",
    "    s2 = results2[\"x\"]\n",
    "    d.append((s2 - s1)/epsilon)\n",
    "    \n",
    "print(d)"
   ]
  },
  {
   "cell_type": "code",
   "execution_count": 16,
   "metadata": {},
   "outputs": [
    {
     "data": {
      "text/plain": [
       "[<matplotlib.lines.Line2D at 0x21b2fc2bc50>]"
      ]
     },
     "execution_count": 16,
     "metadata": {},
     "output_type": "execute_result"
    },
    {
     "data": {
      "image/png": "[encoded data removed]",
      "text/plain": [
       "<Figure size 432x288 with 1 Axes>"
      ]
     },
     "metadata": {
      "needs_background": "light"
     },
     "output_type": "display_data"
    }
   ],
   "source": [
    "plt.plot(sigma_list, d)"
   ]
  },
  {
   "cell_type": "code",
   "execution_count": null,
   "metadata": {},
   "outputs": [],
   "source": []
  }
 ],
 "metadata": {
  "kernelspec": {
   "display_name": "Python 3",
   "language": "python",
   "name": "python3"
  },
  "language_info": {
   "codemirror_mode": {
    "name": "ipython",
    "version": 3
   },
   "file_extension": ".py",
   "mimetype": "text/x-python",
   "name": "python",
   "nbconvert_exporter": "python",
   "pygments_lexer": "ipython3",
   "version": "3.7.3"
  }
 },
 "nbformat": 4,
 "nbformat_minor": 2
}
