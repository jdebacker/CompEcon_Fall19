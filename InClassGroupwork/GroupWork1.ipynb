{
 "cells": [
  {
   "cell_type": "markdown",
   "metadata": {},
   "source": [
    "This notebook is in progress as a group work in class. "
   ]
  },
  {
   "cell_type": "code",
   "execution_count": 1,
   "metadata": {},
   "outputs": [],
   "source": [
    "import scipy.optimize as opt\n",
    "import numpy as np\n",
    "#set parameter values: Do not forget to define the values as integers (0.0)\n",
    "beta = 0.95\n",
    "ro = 1.1\n",
    "sigma = 1.0 \n",
    "w1 = 8.0"
   ]
  },
  {
   "cell_type": "code",
   "execution_count": 2,
   "metadata": {},
   "outputs": [],
   "source": [
    "def uprime(c, sigma):\n",
    "    '''\n",
    "    This function is used to define marginal utility function.\n",
    "    Utility function:\n",
    "        u = (c**(1-sigma)-1)/(1-sigma) if sigma!=1 & sigma>0\n",
    "        u = ln(c) if sigma=1\n",
    "    Arguments = consumption (c) and risk aversity (sigma)\n",
    "    '''\n",
    "    mu = (c**(-sigma))\n",
    "    return mu\n",
    "\n",
    "def upp(c, sigma):\n",
    "    '''\n",
    "    This function is used to determine second derivitive of the utility function (u double prime).\n",
    "    Arguments = Consumption (c) and risk aversity (sigma)\n",
    "    '''\n",
    "    dmu = -sigma*c**(-sigma-1)\n",
    "    return dmu\n",
    "\n",
    "def foc(s, ro, sigma, beta, w1):\n",
    "    '''\n",
    "    This function defines the first order condition, used to find s(w1).\n",
    "    '''\n",
    "    error = uprime(w1-s, sigma) - beta*ro*uprime(ro*s, sigma)\n",
    "    return error"
   ]
  },
  {
   "cell_type": "code",
   "execution_count": 3,
   "metadata": {},
   "outputs": [
    {
     "data": {
      "text/plain": [
       "    fjac: array([[-1.]])\n",
       "     fun: array([5.55111512e-17])\n",
       " message: 'The solution converged.'\n",
       "    nfev: 15\n",
       "     qtf: array([1.33908162e-11])\n",
       "       r: array([-0.12195519])\n",
       "  status: 1\n",
       " success: True\n",
       "       x: array([3.8974359])"
      ]
     },
     "execution_count": 3,
     "metadata": {},
     "output_type": "execute_result"
    }
   ],
   "source": [
    "s0 = 0.1\n",
    "# documents for rootfinder: https://docs.scipy.org/doc/scipy/reference/generated/scipy.optimize.root.html#scipy.optimize.root\n",
    "results = opt.root(foc, s0, args = (ro, sigma, beta, w1), method='hybr', jac=None, tol=None, callback=None, options=None)\n",
    "results"
   ]
  },
  {
   "cell_type": "code",
   "execution_count": 4,
   "metadata": {},
   "outputs": [
    {
     "data": {
      "text/plain": [
       "3.8974358974358974"
      ]
     },
     "execution_count": 4,
     "metadata": {},
     "output_type": "execute_result"
    }
   ],
   "source": [
    "# To test the accuracy of the results\n",
    "(beta*w1)/(1+beta)"
   ]
  },
  {
   "cell_type": "code",
   "execution_count": null,
   "metadata": {},
   "outputs": [],
   "source": []
  }
 ],
 "metadata": {
  "kernelspec": {
   "display_name": "Python 3",
   "language": "python",
   "name": "python3"
  },
  "language_info": {
   "codemirror_mode": {
    "name": "ipython",
    "version": 3
   },
   "file_extension": ".py",
   "mimetype": "text/x-python",
   "name": "python",
   "nbconvert_exporter": "python",
   "pygments_lexer": "ipython3",
   "version": "3.7.3"
  }
 },
 "nbformat": 4,
 "nbformat_minor": 2
}
