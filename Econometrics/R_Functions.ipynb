{
 "cells": [
  {
   "cell_type": "markdown",
   "metadata": {},
   "source": [
    "# Writing Functions in R\n",
    "### by [Jason DeBacker](http://jasondebacker.com), October 2019\n",
    "\n",
    "This notebook will introduce writing functions in R.\n",
    "\n",
    "\n",
    "## Defining custom functions\n",
    "Recall the function we wrote in the first week to return the Fibonacci series up to n in Python:\n",
    "\n",
    "```\n",
    "def fib2(n):   # return Fibonacci series up to n\n",
    "    result = []\n",
    "    a, b = 0, 1\n",
    "    while b < n:\n",
    "        result.append(b)\n",
    "        a, b = b, a+b\n",
    "    return result\n",
    "```\n",
    "\n",
    "Now we'll reproduce this function in R to see difference in syntax between the two languages."
   ]
  },
  {
   "cell_type": "code",
   "execution_count": 1,
   "metadata": {},
   "outputs": [],
   "source": [
    "# Define function to return Fibonacci series up to n\n",
    "fib2 <- function(n) { # use R assignment for function name, put function statements in curly braces\n",
    "    result <- vector()\n",
    "    a <- 0\n",
    "    b <- 1\n",
    "    while (b < n){ # put statements inside loop in curly braces\n",
    "        result <- c(result, b) # append b to vector\n",
    "        b <- a + b\n",
    "        a <- b - a # note difference in these assignment lines vs Python where \n",
    "                   # can make multiple assignments in one line \n",
    "    }\n",
    "    return(result)\n",
    "}"
   ]
  },
  {
   "cell_type": "code",
   "execution_count": 2,
   "metadata": {},
   "outputs": [
    {
     "data": {
      "text/html": [
       "<ol class=list-inline>\n",
       "\t<li>1</li>\n",
       "\t<li>1</li>\n",
       "\t<li>2</li>\n",
       "\t<li>3</li>\n",
       "\t<li>5</li>\n",
       "\t<li>8</li>\n",
       "\t<li>13</li>\n",
       "\t<li>21</li>\n",
       "\t<li>34</li>\n",
       "\t<li>55</li>\n",
       "\t<li>89</li>\n",
       "\t<li>144</li>\n",
       "\t<li>233</li>\n",
       "\t<li>377</li>\n",
       "\t<li>610</li>\n",
       "\t<li>987</li>\n",
       "</ol>\n"
      ],
      "text/latex": [
       "\\begin{enumerate*}\n",
       "\\item 1\n",
       "\\item 1\n",
       "\\item 2\n",
       "\\item 3\n",
       "\\item 5\n",
       "\\item 8\n",
       "\\item 13\n",
       "\\item 21\n",
       "\\item 34\n",
       "\\item 55\n",
       "\\item 89\n",
       "\\item 144\n",
       "\\item 233\n",
       "\\item 377\n",
       "\\item 610\n",
       "\\item 987\n",
       "\\end{enumerate*}\n"
      ],
      "text/markdown": [
       "1. 1\n",
       "2. 1\n",
       "3. 2\n",
       "4. 3\n",
       "5. 5\n",
       "6. 8\n",
       "7. 13\n",
       "8. 21\n",
       "9. 34\n",
       "10. 55\n",
       "11. 89\n",
       "12. 144\n",
       "13. 233\n",
       "14. 377\n",
       "15. 610\n",
       "16. 987\n",
       "\n",
       "\n"
      ],
      "text/plain": [
       " [1]   1   1   2   3   5   8  13  21  34  55  89 144 233 377 610 987"
      ]
     },
     "metadata": {},
     "output_type": "display_data"
    }
   ],
   "source": [
    "x <- fib2(1000)\n",
    "x"
   ]
  },
  {
   "cell_type": "markdown",
   "metadata": {},
   "source": [
    "## Numerical optimization (called a custom function)\n",
    "\n",
    "Recall the problem of minimizing average cost."
   ]
  },
  {
   "cell_type": "code",
   "execution_count": 3,
   "metadata": {},
   "outputs": [],
   "source": [
    "# Define the average cost function\n",
    "avg_cost <- function(x, params){\n",
    "    ac <- params[1] * (x ** -1) + params[2] + params[3] * x\n",
    "    \n",
    "    return(ac)\n",
    "}"
   ]
  },
  {
   "cell_type": "markdown",
   "metadata": {},
   "source": [
    "We'll need to import an R pacakge for optimization.  We'll use `optimx`, which is a general purpose, nonlinear optimizer. Like `scipy.optimize.minimize` we'll be able to call number of different optimization methods from this pacakge.  You can read more about it [here](https://cran.r-project.org/web/packages/optimx/optimx.pdf)."
   ]
  },
  {
   "cell_type": "code",
   "execution_count": 4,
   "metadata": {},
   "outputs": [
    {
     "name": "stderr",
     "output_type": "stream",
     "text": [
      "also installing the dependency ‘numDeriv’\n",
      "\n",
      "\n"
     ]
    },
    {
     "name": "stdout",
     "output_type": "stream",
     "text": [
      "\n",
      "The downloaded binary packages are in\n",
      "\t/var/folders/b0/wwxd0byd1hx0y_rqrnqhmc0m0000gn/T//RtmppmCrT9/downloaded_packages\n"
     ]
    }
   ],
   "source": [
    "# import optimx package\n",
    "install.packages(\"optimx\") # need to install if not done already\n",
    "library(optimx)"
   ]
  },
  {
   "cell_type": "code",
   "execution_count": 5,
   "metadata": {},
   "outputs": [
    {
     "name": "stdout",
     "output_type": "stream",
     "text": [
      "[1] \"The numerical optimizer finds: 0.577351141746748\"\n",
      "[1] \"The min of f(x) found analytically is 0.577350269189626\"\n"
     ]
    }
   ],
   "source": [
    "# minimize our average cost function using Brent's method\n",
    "x0 <- 0.65 # initial guess at min -- Note: BFGS here seems to be quite senstive to starting values (not sure why)\n",
    "params <- c(1, 2, 3)\n",
    "answer <- optimx(x0, avg_cost, method=c(\"BFGS\"), params=params)\n",
    "print(paste0('The numerical optimizer finds: ', answer[[1]]))\n",
    "print(paste0('The min of f(x) found analytically is ', (params[1] / params[3]) ** (1 / 2)))\n",
    "# answer"
   ]
  },
  {
   "cell_type": "code",
   "execution_count": null,
   "metadata": {},
   "outputs": [],
   "source": []
  }
 ],
 "metadata": {
  "kernelspec": {
   "display_name": "R",
   "language": "R",
   "name": "ir"
  },
  "language_info": {
   "codemirror_mode": "r",
   "file_extension": ".r",
   "mimetype": "text/x-r-source",
   "name": "R",
   "pygments_lexer": "r",
   "version": "3.6.1"
  }
 },
 "nbformat": 4,
 "nbformat_minor": 2
}
