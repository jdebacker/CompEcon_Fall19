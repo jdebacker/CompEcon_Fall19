{
 "cells": [
  {
   "cell_type": "markdown",
   "metadata": {},
   "source": [
    "# R Basics\n",
    "### by [Jason DeBacker](http://jasondebacker.com), October 2019\n",
    "\n",
    "This notebook will introduce you to R, explaining the syntax, data structures that are available in R.\n",
    "\n",
    "R is not a full programming language like Python, but it excels for statistical analysis and offers much more versatility than Stata.\n",
    "\n",
    "## Assignment operators\n",
    "\n",
    "The first obvious difference you'll notice with R is the syntax to assign a value to a variable.  Most R code you'll come across will use `<-` as the assignment operator.  There are actually several ways to assign variables in R:\n",
    "\n",
    "* `x <- value`\n",
    "* `x <<- value`\n",
    "* `value -> x`\n",
    "* `value ->> x`\n",
    "\n",
    "In these the \"arrow\" points towards the object that is being assigned the value.  The double arrow operators are typically only used in functions (and will look outside the function to see if the variable was assigned a value previously).  \n",
    "\n",
    "In addition, one can often (but not always) interchange `x <- value` with `x = value`.  However, one needs to be careful because:\n",
    "* `<-` is given precedence over `=` (which can matter if both are used.  E.g., `x <- y <- 5` is not the same as `x <- y = 5`)\n",
    "* `=` only works to assign a value to a variable in the top-level environment.  E.g., if you use `x = value` in a function `x` won't be available outside the function.\n",
    "\n",
    "*In short*, although more difficult to type (use your keyboard shortcuts!), use `<-` rather than `=`.  But be careful about using appropriate white space.  E.g., don't write `x< -3` (\"x is less than -3\") when you want `x <- 3`.\n",
    "\n",
    "\n",
    "## Data Structures\n",
    "\n",
    "The most often used data structures in R are:\n",
    "* Vectors\n",
    "* Matrices\n",
    "* Arrays\n",
    "* Lists\n",
    "* Factors\n",
    "* Dataframes\n",
    "\n",
    "### Vectors\n",
    "\n",
    "Vectors can be numeric, strings or logicals.  Scalar values are simply vectors of length 1."
   ]
  },
  {
   "cell_type": "code",
   "execution_count": 1,
   "metadata": {},
   "outputs": [
    {
     "name": "stdout",
     "output_type": "stream",
     "text": [
      "[1] \"numeric\"\n",
      "[1] \"logical\"\n",
      "[1] \"character\"\n",
      "[1] 20\n"
     ]
    }
   ],
   "source": [
    "# a pound sign comments out the rest of the line\n",
    "# no analogue to the docstring block comments in Python\n",
    "\n",
    "# Assign \n",
    "x <- 4\n",
    "y <- 5\n",
    "xx <- TRUE  # use all caps for TRUE/FALSE for logical variables\n",
    "yy <- \"True\"  # put strings in quotes\n",
    "\n",
    "print(class(x)) # to print what type of object x is\n",
    "print(class(xx))\n",
    "print(class(yy))\n",
    "print(x * y)"
   ]
  },
  {
   "cell_type": "markdown",
   "metadata": {},
   "source": [
    "#### Useful vector operations:\n",
    "\n",
    "* `c()` concatenates elements in a vector. Note that elements of the vector have to be of the same mode (numeric, logical, character, etc.). If you try to mix modes, `c()` will recast the variables to be the same modes.  See:\n"
   ]
  },
  {
   "cell_type": "code",
   "execution_count": 4,
   "metadata": {},
   "outputs": [
    {
     "name": "stdout",
     "output_type": "stream",
     "text": [
      "[1] \"numeric\"\n",
      "[1] 1 2\n"
     ]
    }
   ],
   "source": [
    "mixed_type <- c(TRUE, 2)\n",
    "print(class(mixed_type))\n",
    "print(mixed_type)"
   ]
  },
  {
   "cell_type": "markdown",
   "metadata": {},
   "source": [
    "* Mathematical operations:\n",
    "    * Are element by element as a standard, but can use matrix operations with need for additonal packages (just different syntax\n",
    "    * `^`  or `**` both used for powers\n",
    "    * Division of integers does not use integer division\n",
    "    * Logical variables are treated as 0/1 when used in mathematical operations"
   ]
  },
  {
   "cell_type": "code",
   "execution_count": 5,
   "metadata": {},
   "outputs": [
    {
     "data": {
      "text/html": [
       "<ol class=list-inline>\n",
       "\t<li>2</li>\n",
       "\t<li>4</li>\n",
       "\t<li>6</li>\n",
       "</ol>\n"
      ],
      "text/latex": [
       "\\begin{enumerate*}\n",
       "\\item 2\n",
       "\\item 4\n",
       "\\item 6\n",
       "\\end{enumerate*}\n"
      ],
      "text/markdown": [
       "1. 2\n",
       "2. 4\n",
       "3. 6\n",
       "\n",
       "\n"
      ],
      "text/plain": [
       "[1] 2 4 6"
      ]
     },
     "metadata": {},
     "output_type": "display_data"
    }
   ],
   "source": [
    "a = c(1, 2, 3)\n",
    "b = c(2, 2, 2)\n",
    "# element by element multiplication of vectors\n",
    "a * b"
   ]
  },
  {
   "cell_type": "code",
   "execution_count": 6,
   "metadata": {},
   "outputs": [
    {
     "data": {
      "text/html": [
       "<table>\n",
       "<caption>A matrix: 1 × 1 of type dbl</caption>\n",
       "<tbody>\n",
       "\t<tr><td>12</td></tr>\n",
       "</tbody>\n",
       "</table>\n"
      ],
      "text/latex": [
       "A matrix: 1 × 1 of type dbl\n",
       "\\begin{tabular}{l}\n",
       "\t 12\\\\\n",
       "\\end{tabular}\n"
      ],
      "text/markdown": [
       "\n",
       "A matrix: 1 × 1 of type dbl\n",
       "\n",
       "| 12 |\n",
       "\n"
      ],
      "text/plain": [
       "     [,1]\n",
       "[1,] 12  "
      ]
     },
     "metadata": {},
     "output_type": "display_data"
    }
   ],
   "source": [
    "# matrix multiplication of vectors\n",
    "a %*% b"
   ]
  },
  {
   "cell_type": "code",
   "execution_count": 8,
   "metadata": {},
   "outputs": [
    {
     "data": {
      "text/html": [
       "<ol class=list-inline>\n",
       "\t<li>1</li>\n",
       "\t<li>4</li>\n",
       "\t<li>9</li>\n",
       "</ol>\n"
      ],
      "text/latex": [
       "\\begin{enumerate*}\n",
       "\\item 1\n",
       "\\item 4\n",
       "\\item 9\n",
       "\\end{enumerate*}\n"
      ],
      "text/markdown": [
       "1. 1\n",
       "2. 4\n",
       "3. 9\n",
       "\n",
       "\n"
      ],
      "text/plain": [
       "[1] 1 4 9"
      ]
     },
     "metadata": {},
     "output_type": "display_data"
    }
   ],
   "source": [
    "# element by element powers (** also works - try it)\n",
    "a ** b"
   ]
  },
  {
   "cell_type": "code",
   "execution_count": 9,
   "metadata": {},
   "outputs": [
    {
     "data": {
      "text/html": [
       "<ol class=list-inline>\n",
       "\t<li>0.5</li>\n",
       "\t<li>1</li>\n",
       "\t<li>1.5</li>\n",
       "</ol>\n"
      ],
      "text/latex": [
       "\\begin{enumerate*}\n",
       "\\item 0.5\n",
       "\\item 1\n",
       "\\item 1.5\n",
       "\\end{enumerate*}\n"
      ],
      "text/markdown": [
       "1. 0.5\n",
       "2. 1\n",
       "3. 1.5\n",
       "\n",
       "\n"
      ],
      "text/plain": [
       "[1] 0.5 1.0 1.5"
      ]
     },
     "metadata": {},
     "output_type": "display_data"
    }
   ],
   "source": [
    "# division\n",
    "a / b"
   ]
  },
  {
   "cell_type": "code",
   "execution_count": 10,
   "metadata": {},
   "outputs": [
    {
     "data": {
      "text/html": [
       "<ol class=list-inline>\n",
       "\t<li>1</li>\n",
       "\t<li>0</li>\n",
       "\t<li>3</li>\n",
       "</ol>\n"
      ],
      "text/latex": [
       "\\begin{enumerate*}\n",
       "\\item 1\n",
       "\\item 0\n",
       "\\item 3\n",
       "\\end{enumerate*}\n"
      ],
      "text/markdown": [
       "1. 1\n",
       "2. 0\n",
       "3. 3\n",
       "\n",
       "\n"
      ],
      "text/plain": [
       "[1] 1 0 3"
      ]
     },
     "metadata": {},
     "output_type": "display_data"
    }
   ],
   "source": [
    "# operation between numeric and logical vectors\n",
    "a * c(TRUE, FALSE, TRUE)"
   ]
  },
  {
   "cell_type": "markdown",
   "metadata": {},
   "source": [
    "* Slicing vectors is done in a similar manner as in Python BUT:\n",
    "     * Indexing start with 1 (not 0)\n",
    "     * You always need values on both sides of a `:` when slicing\n",
    "         * to take from a given element to the end of a vector (or to take from the start to a given place in the vector, you need to use the `head()` or `tail()` functions"
   ]
  },
  {
   "cell_type": "code",
   "execution_count": 13,
   "metadata": {},
   "outputs": [
    {
     "name": "stdout",
     "output_type": "stream",
     "text": [
      "[1] 1\n",
      "[1] 1 2 3\n",
      "[1] 2 3\n",
      "[1] 1 2\n"
     ]
    }
   ],
   "source": [
    "print(a[1])\n",
    "print(a[1:3])\n",
    "print(tail(a, 2)) # take elements from the second to the end\n",
    "print(head(a, 2)) # take elements up to and including the second"
   ]
  },
  {
   "cell_type": "markdown",
   "metadata": {},
   "source": [
    "### Matrices\n",
    "\n",
    "Matrices are 2-dimensional objects.  The have rows and columns.  Each column much have the same data type (just as with vectors).\n",
    "\n",
    "To create a matrix:\n",
    "\n",
    "```\n",
    "mymatrix <- matrix(vector, nrow=r, ncol=c, byrow=FALSE, \n",
    "  \tdimnames=list(char_vector_rownames, char_vector_colnames))\n",
    "```  \n",
    "\n",
    "`byrow=TRUE` indicates that the matrix should be filled by rows. `byrow=FALSE` indicates that the matrix should be filled by columns (the default). `dimnames` provides optional labels for the columns and rows."
   ]
  },
  {
   "cell_type": "code",
   "execution_count": 14,
   "metadata": {},
   "outputs": [
    {
     "name": "stdout",
     "output_type": "stream",
     "text": [
      "     [,1] [,2] [,3] [,4]\n",
      "[1,]    1    6   11   16\n",
      "[2,]    2    7   12   17\n",
      "[3,]    3    8   13   18\n",
      "[4,]    4    9   14   19\n",
      "[5,]    5   10   15   20\n"
     ]
    },
    {
     "data": {
      "text/html": [
       "<table>\n",
       "<caption>A matrix: 2 × 2 of type dbl</caption>\n",
       "<thead>\n",
       "\t<tr><th></th><th scope=col>C1</th><th scope=col>C2</th></tr>\n",
       "</thead>\n",
       "<tbody>\n",
       "\t<tr><th scope=row>R1</th><td> 1</td><td>26</td></tr>\n",
       "\t<tr><th scope=row>R2</th><td>24</td><td>68</td></tr>\n",
       "</tbody>\n",
       "</table>\n"
      ],
      "text/latex": [
       "A matrix: 2 × 2 of type dbl\n",
       "\\begin{tabular}{r|ll}\n",
       "  & C1 & C2\\\\\n",
       "\\hline\n",
       "\tR1 &  1 & 26\\\\\n",
       "\tR2 & 24 & 68\\\\\n",
       "\\end{tabular}\n"
      ],
      "text/markdown": [
       "\n",
       "A matrix: 2 × 2 of type dbl\n",
       "\n",
       "| <!--/--> | C1 | C2 |\n",
       "|---|---|---|\n",
       "| R1 |  1 | 26 |\n",
       "| R2 | 24 | 68 |\n",
       "\n"
      ],
      "text/plain": [
       "   C1 C2\n",
       "R1  1 26\n",
       "R2 24 68"
      ]
     },
     "metadata": {},
     "output_type": "display_data"
    }
   ],
   "source": [
    "# generates 5 x 4 numeric matrix \n",
    "y <- matrix(1:20, nrow=5,ncol=4)\n",
    "print(y)\n",
    "\n",
    "# another example - where label rows and columns\n",
    "cells <- c(1,26,24,68)\n",
    "rnames <- c(\"R1\", \"R2\")\n",
    "cnames <- c(\"C1\", \"C2\") \n",
    "mymatrix <- matrix(cells, nrow=2, ncol=2, byrow=TRUE,\n",
    "  dimnames=list(rnames, cnames))\n",
    "# mymatrix <- matrix(cells, nrow=2, ncol=2, byrow=TRUE)\n",
    "mymatrix"
   ]
  },
  {
   "cell_type": "code",
   "execution_count": 15,
   "metadata": {},
   "outputs": [
    {
     "data": {
      "text/html": [
       "<ol class=list-inline>\n",
       "\t<li>16</li>\n",
       "\t<li>17</li>\n",
       "\t<li>18</li>\n",
       "\t<li>19</li>\n",
       "\t<li>20</li>\n",
       "</ol>\n"
      ],
      "text/latex": [
       "\\begin{enumerate*}\n",
       "\\item 16\n",
       "\\item 17\n",
       "\\item 18\n",
       "\\item 19\n",
       "\\item 20\n",
       "\\end{enumerate*}\n"
      ],
      "text/markdown": [
       "1. 16\n",
       "2. 17\n",
       "3. 18\n",
       "4. 19\n",
       "5. 20\n",
       "\n",
       "\n"
      ],
      "text/plain": [
       "[1] 16 17 18 19 20"
      ]
     },
     "metadata": {},
     "output_type": "display_data"
    },
    {
     "data": {
      "text/html": [
       "<ol class=list-inline>\n",
       "\t<li>3</li>\n",
       "\t<li>8</li>\n",
       "\t<li>13</li>\n",
       "\t<li>18</li>\n",
       "</ol>\n"
      ],
      "text/latex": [
       "\\begin{enumerate*}\n",
       "\\item 3\n",
       "\\item 8\n",
       "\\item 13\n",
       "\\item 18\n",
       "\\end{enumerate*}\n"
      ],
      "text/markdown": [
       "1. 3\n",
       "2. 8\n",
       "3. 13\n",
       "4. 18\n",
       "\n",
       "\n"
      ],
      "text/plain": [
       "[1]  3  8 13 18"
      ]
     },
     "metadata": {},
     "output_type": "display_data"
    },
    {
     "data": {
      "text/html": [
       "<table>\n",
       "<caption>A matrix: 3 × 3 of type int</caption>\n",
       "<tbody>\n",
       "\t<tr><td>2</td><td>7</td><td>12</td></tr>\n",
       "\t<tr><td>3</td><td>8</td><td>13</td></tr>\n",
       "\t<tr><td>4</td><td>9</td><td>14</td></tr>\n",
       "</tbody>\n",
       "</table>\n"
      ],
      "text/latex": [
       "A matrix: 3 × 3 of type int\n",
       "\\begin{tabular}{lll}\n",
       "\t 2 & 7 & 12\\\\\n",
       "\t 3 & 8 & 13\\\\\n",
       "\t 4 & 9 & 14\\\\\n",
       "\\end{tabular}\n"
      ],
      "text/markdown": [
       "\n",
       "A matrix: 3 × 3 of type int\n",
       "\n",
       "| 2 | 7 | 12 |\n",
       "| 3 | 8 | 13 |\n",
       "| 4 | 9 | 14 |\n",
       "\n"
      ],
      "text/plain": [
       "     [,1] [,2] [,3]\n",
       "[1,] 2    7    12  \n",
       "[2,] 3    8    13  \n",
       "[3,] 4    9    14  "
      ]
     },
     "metadata": {},
     "output_type": "display_data"
    },
    {
     "data": {
      "text/html": [
       "<dl class=dl-horizontal>\n",
       "\t<dt>C1</dt>\n",
       "\t\t<dd>1</dd>\n",
       "\t<dt>C2</dt>\n",
       "\t\t<dd>26</dd>\n",
       "</dl>\n"
      ],
      "text/latex": [
       "\\begin{description*}\n",
       "\\item[C1] 1\n",
       "\\item[C2] 26\n",
       "\\end{description*}\n"
      ],
      "text/markdown": [
       "C1\n",
       ":   1C2\n",
       ":   26\n",
       "\n"
      ],
      "text/plain": [
       "C1 C2 \n",
       " 1 26 "
      ]
     },
     "metadata": {},
     "output_type": "display_data"
    }
   ],
   "source": [
    "# to identify rows, columns, separate by commas\n",
    "y[,4] # 4th column of matrix\n",
    "y[3,] # 3rd row of matrix \n",
    "y[2:4,1:3] # rows 2,3,4 of columns 1,2,3\n",
    "\n",
    "# can also reference by labels if have them\n",
    "mymatrix['R1',]"
   ]
  },
  {
   "cell_type": "markdown",
   "metadata": {},
   "source": [
    " ### Arrays\n",
    "\n",
    "Arrays are like matrices, but can be more than 2-dimensions.  Assign and array by:\n",
    "\n",
    "```\n",
    "A = array(data = NA, dim = length(data), dimnames = NULL)\n",
    "```"
   ]
  },
  {
   "cell_type": "markdown",
   "metadata": {},
   "source": [
    "### Lists\n",
    "\n",
    "Lists can contain different type of elements.  E.g., a list can contain vectors, functions, or other lists inside it.  Lists are ordered, so you reference an element with it's index.  Though you can assign labels to elements in a list and reference an element by a label."
   ]
  },
  {
   "cell_type": "code",
   "execution_count": 16,
   "metadata": {},
   "outputs": [
    {
     "data": {
      "text/html": [
       "<ol>\n",
       "\t<li><ol class=list-inline>\n",
       "\t<li>1</li>\n",
       "\t<li>2</li>\n",
       "\t<li>3</li>\n",
       "</ol>\n",
       "</li>\n",
       "\t<li>99</li>\n",
       "\t<li><table>\n",
       "<caption>A matrix: 5 × 4 of type int</caption>\n",
       "<tbody>\n",
       "\t<tr><td>1</td><td> 6</td><td>11</td><td>16</td></tr>\n",
       "\t<tr><td>2</td><td> 7</td><td>12</td><td>17</td></tr>\n",
       "\t<tr><td>3</td><td> 8</td><td>13</td><td>18</td></tr>\n",
       "\t<tr><td>4</td><td> 9</td><td>14</td><td>19</td></tr>\n",
       "\t<tr><td>5</td><td>10</td><td>15</td><td>20</td></tr>\n",
       "</tbody>\n",
       "</table>\n",
       "</li>\n",
       "</ol>\n"
      ],
      "text/latex": [
       "\\begin{enumerate}\n",
       "\\item \\begin{enumerate*}\n",
       "\\item 1\n",
       "\\item 2\n",
       "\\item 3\n",
       "\\end{enumerate*}\n",
       "\n",
       "\\item 99\n",
       "\\item A matrix: 5 × 4 of type int\n",
       "\\begin{tabular}{llll}\n",
       "\t 1 &  6 & 11 & 16\\\\\n",
       "\t 2 &  7 & 12 & 17\\\\\n",
       "\t 3 &  8 & 13 & 18\\\\\n",
       "\t 4 &  9 & 14 & 19\\\\\n",
       "\t 5 & 10 & 15 & 20\\\\\n",
       "\\end{tabular}\n",
       "\n",
       "\\end{enumerate}\n"
      ],
      "text/markdown": [
       "1. 1. 1\n",
       "2. 2\n",
       "3. 3\n",
       "\n",
       "\n",
       "\n",
       "2. 99\n",
       "3. \n",
       "A matrix: 5 × 4 of type int\n",
       "\n",
       "| 1 |  6 | 11 | 16 |\n",
       "| 2 |  7 | 12 | 17 |\n",
       "| 3 |  8 | 13 | 18 |\n",
       "| 4 |  9 | 14 | 19 |\n",
       "| 5 | 10 | 15 | 20 |\n",
       "\n",
       "\n",
       "\n",
       "\n"
      ],
      "text/plain": [
       "[[1]]\n",
       "[1] 1 2 3\n",
       "\n",
       "[[2]]\n",
       "[1] 99\n",
       "\n",
       "[[3]]\n",
       "     [,1] [,2] [,3] [,4]\n",
       "[1,]    1    6   11   16\n",
       "[2,]    2    7   12   17\n",
       "[3,]    3    8   13   18\n",
       "[4,]    4    9   14   19\n",
       "[5,]    5   10   15   20\n"
      ]
     },
     "metadata": {},
     "output_type": "display_data"
    }
   ],
   "source": [
    "# create a list\n",
    "a_list <- list(a, 99, y)\n",
    "a_list"
   ]
  },
  {
   "cell_type": "code",
   "execution_count": 19,
   "metadata": {},
   "outputs": [
    {
     "data": {
      "text/html": [
       "<ol class=list-inline>\n",
       "\t<li>1</li>\n",
       "\t<li>2</li>\n",
       "\t<li>3</li>\n",
       "</ol>\n"
      ],
      "text/latex": [
       "\\begin{enumerate*}\n",
       "\\item 1\n",
       "\\item 2\n",
       "\\item 3\n",
       "\\end{enumerate*}\n"
      ],
      "text/markdown": [
       "1. 1\n",
       "2. 2\n",
       "3. 3\n",
       "\n",
       "\n"
      ],
      "text/plain": [
       "[1] 1 2 3"
      ]
     },
     "metadata": {},
     "output_type": "display_data"
    }
   ],
   "source": [
    "# Reference an element of a list by it's position\n",
    "a_list[[1]]"
   ]
  },
  {
   "cell_type": "code",
   "execution_count": 20,
   "metadata": {},
   "outputs": [
    {
     "data": {
      "text/html": [
       "<table>\n",
       "<caption>A matrix: 5 × 4 of type int</caption>\n",
       "<tbody>\n",
       "\t<tr><td>1</td><td> 6</td><td>11</td><td>16</td></tr>\n",
       "\t<tr><td>2</td><td> 7</td><td>12</td><td>17</td></tr>\n",
       "\t<tr><td>3</td><td> 8</td><td>13</td><td>18</td></tr>\n",
       "\t<tr><td>4</td><td> 9</td><td>14</td><td>19</td></tr>\n",
       "\t<tr><td>5</td><td>10</td><td>15</td><td>20</td></tr>\n",
       "</tbody>\n",
       "</table>\n"
      ],
      "text/latex": [
       "A matrix: 5 × 4 of type int\n",
       "\\begin{tabular}{llll}\n",
       "\t 1 &  6 & 11 & 16\\\\\n",
       "\t 2 &  7 & 12 & 17\\\\\n",
       "\t 3 &  8 & 13 & 18\\\\\n",
       "\t 4 &  9 & 14 & 19\\\\\n",
       "\t 5 & 10 & 15 & 20\\\\\n",
       "\\end{tabular}\n"
      ],
      "text/markdown": [
       "\n",
       "A matrix: 5 × 4 of type int\n",
       "\n",
       "| 1 |  6 | 11 | 16 |\n",
       "| 2 |  7 | 12 | 17 |\n",
       "| 3 |  8 | 13 | 18 |\n",
       "| 4 |  9 | 14 | 19 |\n",
       "| 5 | 10 | 15 | 20 |\n",
       "\n"
      ],
      "text/plain": [
       "     [,1] [,2] [,3] [,4]\n",
       "[1,] 1     6   11   16  \n",
       "[2,] 2     7   12   17  \n",
       "[3,] 3     8   13   18  \n",
       "[4,] 4     9   14   19  \n",
       "[5,] 5    10   15   20  "
      ]
     },
     "metadata": {},
     "output_type": "display_data"
    }
   ],
   "source": [
    "a_list[[3]]"
   ]
  },
  {
   "cell_type": "code",
   "execution_count": 21,
   "metadata": {},
   "outputs": [
    {
     "name": "stdout",
     "output_type": "stream",
     "text": [
      "$first\n",
      "[1] 1 2 3\n",
      "\n",
      "$second\n",
      "[1] 99\n",
      "\n",
      "$third\n",
      "     [,1] [,2] [,3] [,4]\n",
      "[1,]    1    6   11   16\n",
      "[2,]    2    7   12   17\n",
      "[3,]    3    8   13   18\n",
      "[4,]    4    9   14   19\n",
      "[5,]    5   10   15   20\n",
      "\n"
     ]
    },
    {
     "data": {
      "text/html": [
       "<ol class=list-inline>\n",
       "\t<li>1</li>\n",
       "\t<li>2</li>\n",
       "\t<li>3</li>\n",
       "</ol>\n"
      ],
      "text/latex": [
       "\\begin{enumerate*}\n",
       "\\item 1\n",
       "\\item 2\n",
       "\\item 3\n",
       "\\end{enumerate*}\n"
      ],
      "text/markdown": [
       "1. 1\n",
       "2. 2\n",
       "3. 3\n",
       "\n",
       "\n"
      ],
      "text/plain": [
       "[1] 1 2 3"
      ]
     },
     "metadata": {},
     "output_type": "display_data"
    }
   ],
   "source": [
    "# assign labels to elements\n",
    "b_list <- list(first = a,second = 99, third = y)\n",
    "print(b_list)\n",
    "# reference the element labeled \"first\"\n",
    "# b_list[['first']]\n",
    "b_list$first # an alternative way to get the element labeled 'first'"
   ]
  },
  {
   "cell_type": "markdown",
   "metadata": {},
   "source": [
    "### Factors\n",
    "\n",
    "Factors are the R-objects created using vectors.  They are somewhat like a set in Python in that they store  unique values of the vector, but they also store the number of times each value is repeated.  So factor objects have two parts - a vector of the unique values (which are always stored as label that are strings, regardless their mode in the vector the factor came from) and a vector of counts of the number of occurances for each unique value.\n",
    "\n",
    "Factors are created using the `factor()` function.   The `nlevels` functions gives the count of levels."
   ]
  },
  {
   "cell_type": "code",
   "execution_count": 23,
   "metadata": {},
   "outputs": [
    {
     "data": {
      "text/html": [
       "<dl class=dl-horizontal>\n",
       "\t<dt>MA</dt>\n",
       "\t\t<dd>5</dd>\n",
       "\t<dt>PhD</dt>\n",
       "\t\t<dd>10</dd>\n",
       "</dl>\n"
      ],
      "text/latex": [
       "\\begin{description*}\n",
       "\\item[MA] 5\n",
       "\\item[PhD] 10\n",
       "\\end{description*}\n"
      ],
      "text/markdown": [
       "MA\n",
       ":   5PhD\n",
       ":   10\n",
       "\n"
      ],
      "text/plain": [
       " MA PhD \n",
       "  5  10 "
      ]
     },
     "metadata": {},
     "output_type": "display_data"
    }
   ],
   "source": [
    "# create a factor and inspect it\n",
    "degree <- c(rep(\"PhD\",10), rep(\"MA\", 5)) # vector with PhD repeated 10 times and MA repeated five time\n",
    "degree <- factor(degree) # turn vector into factor with factor()\n",
    "summary(degree) # summary function on factors\n",
    "# degree"
   ]
  },
  {
   "cell_type": "code",
   "execution_count": 24,
   "metadata": {},
   "outputs": [
    {
     "name": "stdout",
     "output_type": "stream",
     "text": [
      " [1] PhD PhD PhD PhD PhD PhD PhD PhD PhD PhD MA  MA  MA  MA  MA \n",
      "Levels: MA PhD\n",
      "[1] 2\n"
     ]
    }
   ],
   "source": [
    "print(degree)\n",
    "print(nlevels(degree))"
   ]
  },
  {
   "cell_type": "markdown",
   "metadata": {},
   "source": [
    "An ordered factor is used to represent an ordinal variable.\n",
    "\n",
    "R will treat factors as nominal variables and ordered factors as ordinal variables in statistical procedures and graphical analyses. You can use options in the factor( ) and ordered( ) functions to control the mapping of integers to strings (overiding the alphabetical ordering). You can also use factors to create value labels."
   ]
  },
  {
   "cell_type": "code",
   "execution_count": 25,
   "metadata": {},
   "outputs": [
    {
     "name": "stdout",
     "output_type": "stream",
     "text": [
      " [1] PhD PhD PhD PhD PhD PhD PhD PhD PhD PhD MA  MA  MA  MA  MA \n",
      "Levels: MA < PhD\n"
     ]
    }
   ],
   "source": [
    "# creating an ordered factor\n",
    "ordered_degree <- ordered(degree)\n",
    "print(ordered_degree)"
   ]
  },
  {
   "cell_type": "markdown",
   "metadata": {},
   "source": [
    "### Data Frames\n",
    "\n",
    "R data frames are similar to Pandas DataFrames (and to tables of data in Stata, SAS, etc.).  They are 2-dimensional objects, but unlike a matrix in R, they can have columns that contain differnt modes of data.  Eeach column has a label and the rows are indexed.  Like Pandas DataFrames, R data frames can have non-integer indexes for the rows.\n",
    "\n",
    "Data Frames are created using the `data.frame()` function."
   ]
  },
  {
   "cell_type": "code",
   "execution_count": 26,
   "metadata": {},
   "outputs": [
    {
     "name": "stdout",
     "output_type": "stream",
     "text": [
      "  gender height weight Age\n",
      "1   Male  152.0     81  42\n",
      "2   Male  171.5     93  38\n",
      "3 Female  165.0     78  26\n"
     ]
    }
   ],
   "source": [
    "# Create the data frame.\n",
    "BMI <- \tdata.frame(\n",
    "   gender = c(\"Male\", \"Male\",\"Female\"), \n",
    "   height = c(152, 171.5, 165), \n",
    "   weight = c(81,93, 78),\n",
    "   Age = c(42,38,26)\n",
    ")\n",
    "print(BMI)"
   ]
  },
  {
   "cell_type": "markdown",
   "metadata": {},
   "source": [
    "There are several ways to slice a data frame:"
   ]
  },
  {
   "cell_type": "code",
   "execution_count": 27,
   "metadata": {},
   "outputs": [
    {
     "data": {
      "text/html": [
       "<table>\n",
       "<caption>A data.frame: 3 × 2</caption>\n",
       "<thead>\n",
       "\t<tr><th scope=col>height</th><th scope=col>weight</th></tr>\n",
       "\t<tr><th scope=col>&lt;dbl&gt;</th><th scope=col>&lt;dbl&gt;</th></tr>\n",
       "</thead>\n",
       "<tbody>\n",
       "\t<tr><td>152.0</td><td>81</td></tr>\n",
       "\t<tr><td>171.5</td><td>93</td></tr>\n",
       "\t<tr><td>165.0</td><td>78</td></tr>\n",
       "</tbody>\n",
       "</table>\n"
      ],
      "text/latex": [
       "A data.frame: 3 × 2\n",
       "\\begin{tabular}{r|ll}\n",
       " height & weight\\\\\n",
       " <dbl> & <dbl>\\\\\n",
       "\\hline\n",
       "\t 152.0 & 81\\\\\n",
       "\t 171.5 & 93\\\\\n",
       "\t 165.0 & 78\\\\\n",
       "\\end{tabular}\n"
      ],
      "text/markdown": [
       "\n",
       "A data.frame: 3 × 2\n",
       "\n",
       "| height &lt;dbl&gt; | weight &lt;dbl&gt; |\n",
       "|---|---|\n",
       "| 152.0 | 81 |\n",
       "| 171.5 | 93 |\n",
       "| 165.0 | 78 |\n",
       "\n"
      ],
      "text/plain": [
       "  height weight\n",
       "1 152.0  81    \n",
       "2 171.5  93    \n",
       "3 165.0  78    "
      ]
     },
     "metadata": {},
     "output_type": "display_data"
    },
    {
     "data": {
      "text/html": [
       "<table>\n",
       "<caption>A data.frame: 3 × 2</caption>\n",
       "<thead>\n",
       "\t<tr><th scope=col>height</th><th scope=col>weight</th></tr>\n",
       "\t<tr><th scope=col>&lt;dbl&gt;</th><th scope=col>&lt;dbl&gt;</th></tr>\n",
       "</thead>\n",
       "<tbody>\n",
       "\t<tr><td>152.0</td><td>81</td></tr>\n",
       "\t<tr><td>171.5</td><td>93</td></tr>\n",
       "\t<tr><td>165.0</td><td>78</td></tr>\n",
       "</tbody>\n",
       "</table>\n"
      ],
      "text/latex": [
       "A data.frame: 3 × 2\n",
       "\\begin{tabular}{r|ll}\n",
       " height & weight\\\\\n",
       " <dbl> & <dbl>\\\\\n",
       "\\hline\n",
       "\t 152.0 & 81\\\\\n",
       "\t 171.5 & 93\\\\\n",
       "\t 165.0 & 78\\\\\n",
       "\\end{tabular}\n"
      ],
      "text/markdown": [
       "\n",
       "A data.frame: 3 × 2\n",
       "\n",
       "| height &lt;dbl&gt; | weight &lt;dbl&gt; |\n",
       "|---|---|\n",
       "| 152.0 | 81 |\n",
       "| 171.5 | 93 |\n",
       "| 165.0 | 78 |\n",
       "\n"
      ],
      "text/plain": [
       "  height weight\n",
       "1 152.0  81    \n",
       "2 171.5  93    \n",
       "3 165.0  78    "
      ]
     },
     "metadata": {},
     "output_type": "display_data"
    },
    {
     "data": {
      "text/html": [
       "<ol class=list-inline>\n",
       "\t<li>152</li>\n",
       "\t<li>171.5</li>\n",
       "\t<li>165</li>\n",
       "</ol>\n"
      ],
      "text/latex": [
       "\\begin{enumerate*}\n",
       "\\item 152\n",
       "\\item 171.5\n",
       "\\item 165\n",
       "\\end{enumerate*}\n"
      ],
      "text/markdown": [
       "1. 152\n",
       "2. 171.5\n",
       "3. 165\n",
       "\n",
       "\n"
      ],
      "text/plain": [
       "[1] 152.0 171.5 165.0"
      ]
     },
     "metadata": {},
     "output_type": "display_data"
    },
    {
     "data": {
      "text/html": [
       "<table>\n",
       "<caption>A data.frame: 1 × 4</caption>\n",
       "<thead>\n",
       "\t<tr><th scope=col>gender</th><th scope=col>height</th><th scope=col>weight</th><th scope=col>Age</th></tr>\n",
       "\t<tr><th scope=col>&lt;fct&gt;</th><th scope=col>&lt;dbl&gt;</th><th scope=col>&lt;dbl&gt;</th><th scope=col>&lt;dbl&gt;</th></tr>\n",
       "</thead>\n",
       "<tbody>\n",
       "\t<tr><td>Male</td><td>152</td><td>81</td><td>42</td></tr>\n",
       "</tbody>\n",
       "</table>\n"
      ],
      "text/latex": [
       "A data.frame: 1 × 4\n",
       "\\begin{tabular}{r|llll}\n",
       " gender & height & weight & Age\\\\\n",
       " <fct> & <dbl> & <dbl> & <dbl>\\\\\n",
       "\\hline\n",
       "\t Male & 152 & 81 & 42\\\\\n",
       "\\end{tabular}\n"
      ],
      "text/markdown": [
       "\n",
       "A data.frame: 1 × 4\n",
       "\n",
       "| gender &lt;fct&gt; | height &lt;dbl&gt; | weight &lt;dbl&gt; | Age &lt;dbl&gt; |\n",
       "|---|---|---|---|\n",
       "| Male | 152 | 81 | 42 |\n",
       "\n"
      ],
      "text/plain": [
       "  gender height weight Age\n",
       "1 Male   152    81     42 "
      ]
     },
     "metadata": {},
     "output_type": "display_data"
    },
    {
     "data": {
      "text/html": [
       "Male\n",
       "<details>\n",
       "\t<summary style=display:list-item;cursor:pointer>\n",
       "\t\t<strong>Levels</strong>:\n",
       "\t</summary>\n",
       "\t<ol class=list-inline>\n",
       "\t\t<li>'Female'</li>\n",
       "\t\t<li>'Male'</li>\n",
       "\t</ol>\n",
       "</details>"
      ],
      "text/latex": [
       "Male\n",
       "\\emph{Levels}: \\begin{enumerate*}\n",
       "\\item 'Female'\n",
       "\\item 'Male'\n",
       "\\end{enumerate*}\n"
      ],
      "text/markdown": [
       "Male\n",
       "**Levels**: 1. 'Female'\n",
       "2. 'Male'\n",
       "\n",
       "\n"
      ],
      "text/plain": [
       "[1] Male\n",
       "Levels: Female Male"
      ]
     },
     "metadata": {},
     "output_type": "display_data"
    }
   ],
   "source": [
    "BMI[2:3] # columns 2 and 3 of data frame\n",
    "BMI[c(\"height\",\"weight\")] # columns height and weight from data frame\n",
    "BMI$height # variable height in the data frame\n",
    "BMI[1,] # first row of data frame\n",
    "BMI[1, 'gender'] # element in the first row and the gender column"
   ]
  },
  {
   "cell_type": "markdown",
   "metadata": {},
   "source": [
    "## Useful Functions\n",
    "\n",
    "* `length(object)` # number of elements or components\n",
    "* `str(object)`    # structure of an object \n",
    "* `class(object)`  # class or type of an object\n",
    "* `names(object)`  # names\n",
    "\n",
    "* `c(object,object,...)`       # combine objects into a vector\n",
    "* `cbind(object, object, ...)` # combine objects as columns\n",
    "* `rbind(object, object, ...)` # combine objects as rows \n",
    "\n",
    "* `object`     # prints the object\n",
    "\n",
    "* `ls()`       # list current objects\n",
    "* `rm(object)` # delete an object\n",
    "\n",
    "* `newobject <- edit(object)` # edit copy and save as `newobject`\n",
    "* `fix(object)`               # edit in place"
   ]
  },
  {
   "cell_type": "code",
   "execution_count": null,
   "metadata": {},
   "outputs": [],
   "source": [
    "# List all the objects we created in this notebook\n",
    "str(BMI)"
   ]
  },
  {
   "cell_type": "code",
   "execution_count": null,
   "metadata": {},
   "outputs": [],
   "source": [
    "ls()"
   ]
  },
  {
   "cell_type": "code",
   "execution_count": null,
   "metadata": {},
   "outputs": [],
   "source": [
    "rm(BMI)"
   ]
  },
  {
   "cell_type": "code",
   "execution_count": null,
   "metadata": {},
   "outputs": [],
   "source": [
    "ls()"
   ]
  },
  {
   "cell_type": "code",
   "execution_count": null,
   "metadata": {},
   "outputs": [],
   "source": []
  }
 ],
 "metadata": {
  "kernelspec": {
   "display_name": "R",
   "language": "R",
   "name": "ir"
  },
  "language_info": {
   "codemirror_mode": "r",
   "file_extension": ".r",
   "mimetype": "text/x-r-source",
   "name": "R",
   "pygments_lexer": "r",
   "version": "3.6.1"
  }
 },
 "nbformat": 4,
 "nbformat_minor": 2
}
