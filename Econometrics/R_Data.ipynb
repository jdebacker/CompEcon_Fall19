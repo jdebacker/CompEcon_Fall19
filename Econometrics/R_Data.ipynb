{
 "cells": [
  {
   "cell_type": "markdown",
   "metadata": {
    "collapsed": true
   },
   "source": [
    "# Reading and Writing Data in R\n",
    "### by [Jason DeBacker](http://jasondebacker.com), October 2019\n",
    "\n",
    "This notebook illustrates how to read and write data in R.\n",
    "\n",
    "## Reading Data\n",
    "\n",
    "### CSV Files"
   ]
  },
  {
   "cell_type": "code",
   "execution_count": 1,
   "metadata": {},
   "outputs": [
    {
     "data": {
      "text/html": [
       "'/Users/jason.debacker/repos/CompEcon_Fall19/Econometrics'"
      ],
      "text/latex": [
       "'/Users/jason.debacker/repos/CompEcon\\_Fall19/Econometrics'"
      ],
      "text/markdown": [
       "'/Users/jason.debacker/repos/CompEcon_Fall19/Econometrics'"
      ],
      "text/plain": [
       "[1] \"/Users/jason.debacker/repos/CompEcon_Fall19/Econometrics\""
      ]
     },
     "metadata": {},
     "output_type": "display_data"
    },
    {
     "data": {
      "text/html": [
       "<table>\n",
       "<caption>A data.frame: 5 × 37</caption>\n",
       "<thead>\n",
       "\t<tr><th scope=col>month</th><th scope=col>grdatn</th><th scope=col>marstat</th><th scope=col>age</th><th scope=col>class</th><th scope=col>region</th><th scope=col>state</th><th scope=col>hours</th><th scope=col>mlr</th><th scope=col>natvty</th><th scope=col>⋯</th><th scope=col>homeown</th><th scope=col>hoursu1b</th><th scope=col>hoursu1b_t1</th><th scope=col>se15u</th><th scope=col>se15u_t1</th><th scope=col>ent015u</th><th scope=col>ent015ua</th><th scope=col>vet</th><th scope=col>wgtat</th><th scope=col>wgtat1</th></tr>\n",
       "\t<tr><th scope=col>&lt;int&gt;</th><th scope=col>&lt;int&gt;</th><th scope=col>&lt;int&gt;</th><th scope=col>&lt;int&gt;</th><th scope=col>&lt;int&gt;</th><th scope=col>&lt;int&gt;</th><th scope=col>&lt;int&gt;</th><th scope=col>&lt;int&gt;</th><th scope=col>&lt;int&gt;</th><th scope=col>&lt;int&gt;</th><th scope=col>⋯</th><th scope=col>&lt;lgl&gt;</th><th scope=col>&lt;int&gt;</th><th scope=col>&lt;int&gt;</th><th scope=col>&lt;int&gt;</th><th scope=col>&lt;int&gt;</th><th scope=col>&lt;int&gt;</th><th scope=col>&lt;int&gt;</th><th scope=col>&lt;int&gt;</th><th scope=col>&lt;dbl&gt;</th><th scope=col>&lt;dbl&gt;</th></tr>\n",
       "</thead>\n",
       "<tbody>\n",
       "\t<tr><td>12</td><td>42</td><td>5</td><td>57</td><td> 4</td><td>1</td><td>14</td><td>40</td><td>1</td><td> 57</td><td>⋯</td><td>NA</td><td>40</td><td>40</td><td>0</td><td>0</td><td>0</td><td>0</td><td>0</td><td>269.1724</td><td>270.4338</td></tr>\n",
       "\t<tr><td>12</td><td>39</td><td>7</td><td>26</td><td> 4</td><td>1</td><td>14</td><td>40</td><td>1</td><td> 57</td><td>⋯</td><td>NA</td><td>40</td><td>40</td><td>0</td><td>0</td><td>0</td><td>0</td><td>0</td><td>403.0235</td><td>404.9121</td></tr>\n",
       "\t<tr><td>12</td><td>41</td><td>1</td><td>43</td><td> 4</td><td>2</td><td>41</td><td>46</td><td>1</td><td>110</td><td>⋯</td><td>NA</td><td>46</td><td>40</td><td>0</td><td>0</td><td>0</td><td>0</td><td>0</td><td>402.7901</td><td>404.6776</td></tr>\n",
       "\t<tr><td>12</td><td>39</td><td>1</td><td>38</td><td> 4</td><td>2</td><td>41</td><td>40</td><td>1</td><td> 57</td><td>⋯</td><td>NA</td><td>40</td><td>30</td><td>0</td><td>0</td><td>0</td><td>0</td><td>0</td><td>342.9345</td><td>344.5415</td></tr>\n",
       "\t<tr><td>12</td><td>42</td><td>1</td><td>51</td><td>-1</td><td>3</td><td>58</td><td>-1</td><td>6</td><td> 57</td><td>⋯</td><td>NA</td><td>-1</td><td>-1</td><td>0</td><td>0</td><td>0</td><td>0</td><td>0</td><td>560.2244</td><td>562.8497</td></tr>\n",
       "</tbody>\n",
       "</table>\n"
      ],
      "text/latex": [
       "A data.frame: 5 × 37\n",
       "\\begin{tabular}{r|lllllllllllllllllllllllllllllllllllll}\n",
       " month & grdatn & marstat & age & class & region & state & hours & mlr & natvty & msafp & msastat & faminc & spneth & race & year & class\\_t1 & mlr\\_t1 & wgta & ind2 & indmaj2 & ind2\\_t1 & indmaj2\\_t1 & pid & yeart1 & female & immigr & homeown & hoursu1b & hoursu1b\\_t1 & se15u & se15u\\_t1 & ent015u & ent015ua & vet & wgtat & wgtat1\\\\\n",
       " <int> & <int> & <int> & <int> & <int> & <int> & <int> & <int> & <int> & <int> & <int> & <int> & <int> & <int> & <int> & <int> & <int> & <int> & <dbl> & <int> & <int> & <int> & <int> & <fct> & <int> & <int> & <int> & <lgl> & <int> & <int> & <int> & <int> & <int> & <int> & <int> & <dbl> & <dbl>\\\\\n",
       "\\hline\n",
       "\t 12 & 42 & 5 & 57 &  4 & 1 & 14 & 40 & 1 &  57 & 49340 & 2 & 15 & -1 & 1 & 2014 &  4 & 1 & 3032.981 & 8190 & 10 & 8190 & 10 & 15866200851 3111 11912 & 2015 & 1 & 0 & NA & 40 & 40 & 0 & 0 & 0 & 0 & 0 & 269.1724 & 270.4338\\\\\n",
       "\t 12 & 39 & 7 & 26 &  4 & 1 & 14 & 40 & 1 &  57 & 49340 & 2 & 15 &  2 & 1 & 2014 &  4 & 1 & 4541.188 & 2170 &  4 & 2170 &  4 & 15866200851 3111 21912 & 2015 & 0 & 0 & NA & 40 & 40 & 0 & 0 & 0 & 0 & 0 & 403.0235 & 404.9121\\\\\n",
       "\t 12 & 41 & 1 & 43 &  4 & 2 & 41 & 46 & 1 & 110 &     0 & 4 & 12 & -1 & 1 & 2014 &  4 & 1 & 4538.558 & 3960 &  4 & 3960 &  4 & 17286201521 3011 11912 & 2015 & 0 & 0 & NA & 46 & 40 & 0 & 0 & 0 & 0 & 0 & 402.7901 & 404.6776\\\\\n",
       "\t 12 & 39 & 1 & 38 &  4 & 2 & 41 & 40 & 1 &  57 &     0 & 4 & 12 & -1 & 1 & 2014 &  4 & 1 & 3864.117 & 7860 & 10 & 7860 & 10 & 17286201521 3011 21912 & 2015 & 1 & 0 & NA & 40 & 30 & 0 & 0 & 0 & 0 & 0 & 342.9345 & 344.5415\\\\\n",
       "\t 12 & 42 & 1 & 51 & -1 & 3 & 58 & -1 & 6 &  57 & 12060 & 2 & 13 & -1 & 1 & 2014 & -1 & 6 & 6312.497 &   NA & NA &   NA & NA & 43549100171 3011 11912 & 2015 & 0 & 0 & NA & -1 & -1 & 0 & 0 & 0 & 0 & 0 & 560.2244 & 562.8497\\\\\n",
       "\\end{tabular}\n"
      ],
      "text/markdown": [
       "\n",
       "A data.frame: 5 × 37\n",
       "\n",
       "| month &lt;int&gt; | grdatn &lt;int&gt; | marstat &lt;int&gt; | age &lt;int&gt; | class &lt;int&gt; | region &lt;int&gt; | state &lt;int&gt; | hours &lt;int&gt; | mlr &lt;int&gt; | natvty &lt;int&gt; | ⋯ ⋯ | homeown &lt;lgl&gt; | hoursu1b &lt;int&gt; | hoursu1b_t1 &lt;int&gt; | se15u &lt;int&gt; | se15u_t1 &lt;int&gt; | ent015u &lt;int&gt; | ent015ua &lt;int&gt; | vet &lt;int&gt; | wgtat &lt;dbl&gt; | wgtat1 &lt;dbl&gt; |\n",
       "|---|---|---|---|---|---|---|---|---|---|---|---|---|---|---|---|---|---|---|---|---|\n",
       "| 12 | 42 | 5 | 57 |  4 | 1 | 14 | 40 | 1 |  57 | ⋯ | NA | 40 | 40 | 0 | 0 | 0 | 0 | 0 | 269.1724 | 270.4338 |\n",
       "| 12 | 39 | 7 | 26 |  4 | 1 | 14 | 40 | 1 |  57 | ⋯ | NA | 40 | 40 | 0 | 0 | 0 | 0 | 0 | 403.0235 | 404.9121 |\n",
       "| 12 | 41 | 1 | 43 |  4 | 2 | 41 | 46 | 1 | 110 | ⋯ | NA | 46 | 40 | 0 | 0 | 0 | 0 | 0 | 402.7901 | 404.6776 |\n",
       "| 12 | 39 | 1 | 38 |  4 | 2 | 41 | 40 | 1 |  57 | ⋯ | NA | 40 | 30 | 0 | 0 | 0 | 0 | 0 | 342.9345 | 344.5415 |\n",
       "| 12 | 42 | 1 | 51 | -1 | 3 | 58 | -1 | 6 |  57 | ⋯ | NA | -1 | -1 | 0 | 0 | 0 | 0 | 0 | 560.2244 | 562.8497 |\n",
       "\n"
      ],
      "text/plain": [
       "  month grdatn marstat age class region state hours mlr natvty ⋯ homeown\n",
       "1 12    42     5       57   4    1      14    40    1    57    ⋯ NA     \n",
       "2 12    39     7       26   4    1      14    40    1    57    ⋯ NA     \n",
       "3 12    41     1       43   4    2      41    46    1   110    ⋯ NA     \n",
       "4 12    39     1       38   4    2      41    40    1    57    ⋯ NA     \n",
       "5 12    42     1       51  -1    3      58    -1    6    57    ⋯ NA     \n",
       "  hoursu1b hoursu1b_t1 se15u se15u_t1 ent015u ent015ua vet wgtat    wgtat1  \n",
       "1 40       40          0     0        0       0        0   269.1724 270.4338\n",
       "2 40       40          0     0        0       0        0   403.0235 404.9121\n",
       "3 46       40          0     0        0       0        0   402.7901 404.6776\n",
       "4 40       30          0     0        0       0        0   342.9345 344.5415\n",
       "5 -1       -1          0     0        0       0        0   560.2244 562.8497"
      ]
     },
     "metadata": {},
     "output_type": "display_data"
    },
    {
     "name": "stdout",
     "output_type": "stream",
     "text": [
      "'data.frame':\t95 obs. of  37 variables:\n",
      " $ month      : int  12 12 12 12 12 12 12 12 12 12 ...\n",
      " $ grdatn     : int  42 39 41 39 42 42 39 40 43 39 ...\n",
      " $ marstat    : int  5 7 1 1 1 1 7 4 1 1 ...\n",
      " $ age        : int  57 26 43 38 51 50 33 52 41 43 ...\n",
      " $ class      : int  4 4 4 4 -1 4 4 5 4 6 ...\n",
      " $ region     : int  1 1 2 2 3 3 1 1 4 4 ...\n",
      " $ state      : int  14 14 41 41 58 58 16 16 81 81 ...\n",
      " $ hours      : int  40 40 46 40 -1 50 -1 42 30 40 ...\n",
      " $ mlr        : int  1 1 1 1 6 1 4 1 1 1 ...\n",
      " $ natvty     : int  57 57 110 57 57 57 57 57 57 57 ...\n",
      " $ msafp      : int  49340 49340 0 0 12060 12060 49340 49340 0 0 ...\n",
      " $ msastat    : int  2 2 4 4 2 2 2 2 3 3 ...\n",
      " $ faminc     : int  15 15 12 12 13 13 7 7 14 14 ...\n",
      " $ spneth     : int  -1 2 -1 -1 -1 -1 -1 -1 -1 -1 ...\n",
      " $ race       : int  1 1 1 1 1 1 1 1 1 1 ...\n",
      " $ year       : int  2014 2014 2014 2014 2014 2014 2014 2014 2014 2014 ...\n",
      " $ class_t1   : int  4 4 4 4 -1 4 4 5 4 6 ...\n",
      " $ mlr_t1     : int  1 1 1 1 6 1 4 1 1 1 ...\n",
      " $ wgta       : num  3033 4541 4539 3864 6312 ...\n",
      " $ ind2       : int  8190 2170 3960 7860 NA 8660 2370 8170 7280 5275 ...\n",
      " $ indmaj2    : int  10 4 4 10 NA 11 4 10 9 5 ...\n",
      " $ ind2_t1    : int  8190 2170 3960 7860 NA 8660 2370 8170 7280 5275 ...\n",
      " $ indmaj2_t1 : int  10 4 4 10 NA 11 4 10 9 5 ...\n",
      " $ pid        : Factor w/ 95 levels \"104921210692 3011 11912\",..: 27 28 29 30 67 68 69 70 71 72 ...\n",
      " $ yeart1     : int  2015 2015 2015 2015 2015 2015 2015 2015 2015 2015 ...\n",
      " $ female     : int  1 0 0 1 0 1 0 1 1 0 ...\n",
      " $ immigr     : int  0 0 0 0 0 0 0 0 0 0 ...\n",
      " $ homeown    : logi  NA NA NA NA NA NA ...\n",
      " $ hoursu1b   : int  40 40 46 40 -1 50 -1 40 30 40 ...\n",
      " $ hoursu1b_t1: int  40 40 40 30 -1 60 -1 10 30 40 ...\n",
      " $ se15u      : int  0 0 0 0 0 0 0 0 0 1 ...\n",
      " $ se15u_t1   : int  0 0 0 0 0 0 0 0 0 1 ...\n",
      " $ ent015u    : int  0 0 0 0 0 0 0 0 0 NA ...\n",
      " $ ent015ua   : int  0 0 0 0 0 0 0 NA 0 NA ...\n",
      " $ vet        : int  0 0 0 0 0 0 0 0 0 0 ...\n",
      " $ wgtat      : num  269 403 403 343 560 ...\n",
      " $ wgtat1     : num  270 405 405 345 563 ...\n"
     ]
    }
   ],
   "source": [
    "# see what directory we are in\n",
    "getwd()\n",
    "# read in Kauffman data we looked at in the Python tutorial\n",
    "# Read in csv file and put in data frame named kisa\n",
    "# column names are set from the header of the read file if\n",
    "# header = TRUE\n",
    "kisa <- read.table(\"../Python/kisa_2015.csv\", \n",
    "                 header = TRUE,\n",
    "                 sep = \",\", fill = TRUE)\n",
    "kisa[1:5,] # show the first 5 rows\n",
    "str(kisa)"
   ]
  },
  {
   "cell_type": "code",
   "execution_count": 2,
   "metadata": {},
   "outputs": [
    {
     "data": {
      "text/html": [
       "<table>\n",
       "<caption>A data.frame: 5 × 37</caption>\n",
       "<thead>\n",
       "\t<tr><th scope=col>month</th><th scope=col>grdatn</th><th scope=col>marstat</th><th scope=col>age</th><th scope=col>class</th><th scope=col>region</th><th scope=col>state</th><th scope=col>hours</th><th scope=col>mlr</th><th scope=col>natvty</th><th scope=col>⋯</th><th scope=col>homeown</th><th scope=col>hoursu1b</th><th scope=col>hoursu1b_t1</th><th scope=col>se15u</th><th scope=col>se15u_t1</th><th scope=col>ent015u</th><th scope=col>ent015ua</th><th scope=col>vet</th><th scope=col>wgtat</th><th scope=col>wgtat1</th></tr>\n",
       "\t<tr><th scope=col>&lt;int&gt;</th><th scope=col>&lt;int&gt;</th><th scope=col>&lt;int&gt;</th><th scope=col>&lt;int&gt;</th><th scope=col>&lt;int&gt;</th><th scope=col>&lt;int&gt;</th><th scope=col>&lt;int&gt;</th><th scope=col>&lt;int&gt;</th><th scope=col>&lt;int&gt;</th><th scope=col>&lt;int&gt;</th><th scope=col>⋯</th><th scope=col>&lt;lgl&gt;</th><th scope=col>&lt;int&gt;</th><th scope=col>&lt;int&gt;</th><th scope=col>&lt;int&gt;</th><th scope=col>&lt;int&gt;</th><th scope=col>&lt;int&gt;</th><th scope=col>&lt;int&gt;</th><th scope=col>&lt;int&gt;</th><th scope=col>&lt;dbl&gt;</th><th scope=col>&lt;dbl&gt;</th></tr>\n",
       "</thead>\n",
       "<tbody>\n",
       "\t<tr><td>12</td><td>42</td><td>5</td><td>57</td><td> 4</td><td>1</td><td>14</td><td>40</td><td>1</td><td> 57</td><td>⋯</td><td>NA</td><td>40</td><td>40</td><td>0</td><td>0</td><td>0</td><td>0</td><td>0</td><td>269.1724</td><td>270.4338</td></tr>\n",
       "\t<tr><td>12</td><td>39</td><td>7</td><td>26</td><td> 4</td><td>1</td><td>14</td><td>40</td><td>1</td><td> 57</td><td>⋯</td><td>NA</td><td>40</td><td>40</td><td>0</td><td>0</td><td>0</td><td>0</td><td>0</td><td>403.0235</td><td>404.9121</td></tr>\n",
       "\t<tr><td>12</td><td>41</td><td>1</td><td>43</td><td> 4</td><td>2</td><td>41</td><td>46</td><td>1</td><td>110</td><td>⋯</td><td>NA</td><td>46</td><td>40</td><td>0</td><td>0</td><td>0</td><td>0</td><td>0</td><td>402.7901</td><td>404.6776</td></tr>\n",
       "\t<tr><td>12</td><td>39</td><td>1</td><td>38</td><td> 4</td><td>2</td><td>41</td><td>40</td><td>1</td><td> 57</td><td>⋯</td><td>NA</td><td>40</td><td>30</td><td>0</td><td>0</td><td>0</td><td>0</td><td>0</td><td>342.9345</td><td>344.5415</td></tr>\n",
       "\t<tr><td>12</td><td>42</td><td>1</td><td>51</td><td>-1</td><td>3</td><td>58</td><td>-1</td><td>6</td><td> 57</td><td>⋯</td><td>NA</td><td>-1</td><td>-1</td><td>0</td><td>0</td><td>0</td><td>0</td><td>0</td><td>560.2244</td><td>562.8497</td></tr>\n",
       "</tbody>\n",
       "</table>\n"
      ],
      "text/latex": [
       "A data.frame: 5 × 37\n",
       "\\begin{tabular}{r|lllllllllllllllllllllllllllllllllllll}\n",
       " month & grdatn & marstat & age & class & region & state & hours & mlr & natvty & msafp & msastat & faminc & spneth & race & year & class\\_t1 & mlr\\_t1 & wgta & ind2 & indmaj2 & ind2\\_t1 & indmaj2\\_t1 & pid & yeart1 & female & immigr & homeown & hoursu1b & hoursu1b\\_t1 & se15u & se15u\\_t1 & ent015u & ent015ua & vet & wgtat & wgtat1\\\\\n",
       " <int> & <int> & <int> & <int> & <int> & <int> & <int> & <int> & <int> & <int> & <int> & <int> & <int> & <int> & <int> & <int> & <int> & <int> & <dbl> & <int> & <int> & <int> & <int> & <fct> & <int> & <int> & <int> & <lgl> & <int> & <int> & <int> & <int> & <int> & <int> & <int> & <dbl> & <dbl>\\\\\n",
       "\\hline\n",
       "\t 12 & 42 & 5 & 57 &  4 & 1 & 14 & 40 & 1 &  57 & 49340 & 2 & 15 & -1 & 1 & 2014 &  4 & 1 & 3032.981 & 8190 & 10 & 8190 & 10 & 15866200851 3111 11912 & 2015 & 1 & 0 & NA & 40 & 40 & 0 & 0 & 0 & 0 & 0 & 269.1724 & 270.4338\\\\\n",
       "\t 12 & 39 & 7 & 26 &  4 & 1 & 14 & 40 & 1 &  57 & 49340 & 2 & 15 &  2 & 1 & 2014 &  4 & 1 & 4541.188 & 2170 &  4 & 2170 &  4 & 15866200851 3111 21912 & 2015 & 0 & 0 & NA & 40 & 40 & 0 & 0 & 0 & 0 & 0 & 403.0235 & 404.9121\\\\\n",
       "\t 12 & 41 & 1 & 43 &  4 & 2 & 41 & 46 & 1 & 110 &     0 & 4 & 12 & -1 & 1 & 2014 &  4 & 1 & 4538.558 & 3960 &  4 & 3960 &  4 & 17286201521 3011 11912 & 2015 & 0 & 0 & NA & 46 & 40 & 0 & 0 & 0 & 0 & 0 & 402.7901 & 404.6776\\\\\n",
       "\t 12 & 39 & 1 & 38 &  4 & 2 & 41 & 40 & 1 &  57 &     0 & 4 & 12 & -1 & 1 & 2014 &  4 & 1 & 3864.117 & 7860 & 10 & 7860 & 10 & 17286201521 3011 21912 & 2015 & 1 & 0 & NA & 40 & 30 & 0 & 0 & 0 & 0 & 0 & 342.9345 & 344.5415\\\\\n",
       "\t 12 & 42 & 1 & 51 & -1 & 3 & 58 & -1 & 6 &  57 & 12060 & 2 & 13 & -1 & 1 & 2014 & -1 & 6 & 6312.497 &   NA & NA &   NA & NA & 43549100171 3011 11912 & 2015 & 0 & 0 & NA & -1 & -1 & 0 & 0 & 0 & 0 & 0 & 560.2244 & 562.8497\\\\\n",
       "\\end{tabular}\n"
      ],
      "text/markdown": [
       "\n",
       "A data.frame: 5 × 37\n",
       "\n",
       "| month &lt;int&gt; | grdatn &lt;int&gt; | marstat &lt;int&gt; | age &lt;int&gt; | class &lt;int&gt; | region &lt;int&gt; | state &lt;int&gt; | hours &lt;int&gt; | mlr &lt;int&gt; | natvty &lt;int&gt; | ⋯ ⋯ | homeown &lt;lgl&gt; | hoursu1b &lt;int&gt; | hoursu1b_t1 &lt;int&gt; | se15u &lt;int&gt; | se15u_t1 &lt;int&gt; | ent015u &lt;int&gt; | ent015ua &lt;int&gt; | vet &lt;int&gt; | wgtat &lt;dbl&gt; | wgtat1 &lt;dbl&gt; |\n",
       "|---|---|---|---|---|---|---|---|---|---|---|---|---|---|---|---|---|---|---|---|---|\n",
       "| 12 | 42 | 5 | 57 |  4 | 1 | 14 | 40 | 1 |  57 | ⋯ | NA | 40 | 40 | 0 | 0 | 0 | 0 | 0 | 269.1724 | 270.4338 |\n",
       "| 12 | 39 | 7 | 26 |  4 | 1 | 14 | 40 | 1 |  57 | ⋯ | NA | 40 | 40 | 0 | 0 | 0 | 0 | 0 | 403.0235 | 404.9121 |\n",
       "| 12 | 41 | 1 | 43 |  4 | 2 | 41 | 46 | 1 | 110 | ⋯ | NA | 46 | 40 | 0 | 0 | 0 | 0 | 0 | 402.7901 | 404.6776 |\n",
       "| 12 | 39 | 1 | 38 |  4 | 2 | 41 | 40 | 1 |  57 | ⋯ | NA | 40 | 30 | 0 | 0 | 0 | 0 | 0 | 342.9345 | 344.5415 |\n",
       "| 12 | 42 | 1 | 51 | -1 | 3 | 58 | -1 | 6 |  57 | ⋯ | NA | -1 | -1 | 0 | 0 | 0 | 0 | 0 | 560.2244 | 562.8497 |\n",
       "\n"
      ],
      "text/plain": [
       "  month grdatn marstat age class region state hours mlr natvty ⋯ homeown\n",
       "1 12    42     5       57   4    1      14    40    1    57    ⋯ NA     \n",
       "2 12    39     7       26   4    1      14    40    1    57    ⋯ NA     \n",
       "3 12    41     1       43   4    2      41    46    1   110    ⋯ NA     \n",
       "4 12    39     1       38   4    2      41    40    1    57    ⋯ NA     \n",
       "5 12    42     1       51  -1    3      58    -1    6    57    ⋯ NA     \n",
       "  hoursu1b hoursu1b_t1 se15u se15u_t1 ent015u ent015ua vet wgtat    wgtat1  \n",
       "1 40       40          0     0        0       0        0   269.1724 270.4338\n",
       "2 40       40          0     0        0       0        0   403.0235 404.9121\n",
       "3 46       40          0     0        0       0        0   402.7901 404.6776\n",
       "4 40       30          0     0        0       0        0   342.9345 344.5415\n",
       "5 -1       -1          0     0        0       0        0   560.2244 562.8497"
      ]
     },
     "metadata": {},
     "output_type": "display_data"
    }
   ],
   "source": [
    "# the read.table() function above can also read in tab delimited text\n",
    "# there is a function specifically for csv (essentially the same,\n",
    "# just has sep default set to \",\" and fill default to TRUE)\n",
    "kisa2 <- read.csv(\"../Python/kisa_2015.csv\", \n",
    "                 header = TRUE)\n",
    "kisa2[1:5,] # show the first 5 rows"
   ]
  },
  {
   "cell_type": "markdown",
   "metadata": {},
   "source": [
    "### Reading data from Excel"
   ]
  },
  {
   "cell_type": "code",
   "execution_count": 4,
   "metadata": {},
   "outputs": [
    {
     "name": "stdout",
     "output_type": "stream",
     "text": [
      "\n",
      "The downloaded binary packages are in\n",
      "\t/var/folders/b0/wwxd0byd1hx0y_rqrnqhmc0m0000gn/T//RtmpnaXeor/downloaded_packages\n"
     ]
    },
    {
     "data": {
      "text/html": [
       "<table>\n",
       "<caption>A tibble: 5 × 12</caption>\n",
       "<thead>\n",
       "\t<tr><th scope=col>year</th><th scope=col>buyer_id</th><th scope=col>target_id</th><th scope=col>buyer_lat</th><th scope=col>buyer_long</th><th scope=col>target_lat</th><th scope=col>target_long</th><th scope=col>price</th><th scope=col>hhi_target</th><th scope=col>num_stations_buyer</th><th scope=col>population_target</th><th scope=col>corp_owner_buyer</th></tr>\n",
       "\t<tr><th scope=col>&lt;dbl&gt;</th><th scope=col>&lt;dbl&gt;</th><th scope=col>&lt;dbl&gt;</th><th scope=col>&lt;dbl&gt;</th><th scope=col>&lt;dbl&gt;</th><th scope=col>&lt;dbl&gt;</th><th scope=col>&lt;dbl&gt;</th><th scope=col>&lt;dbl&gt;</th><th scope=col>&lt;dbl&gt;</th><th scope=col>&lt;dbl&gt;</th><th scope=col>&lt;dbl&gt;</th><th scope=col>&lt;dbl&gt;</th></tr>\n",
       "</thead>\n",
       "<tbody>\n",
       "\t<tr><td>2007</td><td>1</td><td>1</td><td>46.59251</td><td>-92.54956</td><td>44.37507</td><td>-92.03954</td><td> 157763.9</td><td> 80</td><td> 3</td><td>  21676</td><td>0</td></tr>\n",
       "\t<tr><td>2007</td><td>2</td><td>2</td><td>32.57818</td><td>-85.34900</td><td>33.02537</td><td>-86.05970</td><td>1472463.2</td><td>376</td><td> 1</td><td>  11539</td><td>0</td></tr>\n",
       "\t<tr><td>2007</td><td>3</td><td>3</td><td>30.63987</td><td>-88.25445</td><td>31.12250</td><td>-87.76641</td><td>3786333.9</td><td>129</td><td> 1</td><td> 182265</td><td>0</td></tr>\n",
       "\t<tr><td>2007</td><td>4</td><td>4</td><td>38.95681</td><td>-94.68324</td><td>36.19695</td><td>-94.00682</td><td> 473291.7</td><td>188</td><td>20</td><td> 203065</td><td>0</td></tr>\n",
       "\t<tr><td>2007</td><td>5</td><td>5</td><td>41.05408</td><td>-73.53622</td><td>40.90990</td><td>-73.45702</td><td>1840579.0</td><td>284</td><td> 0</td><td>1493350</td><td>0</td></tr>\n",
       "</tbody>\n",
       "</table>\n"
      ],
      "text/latex": [
       "A tibble: 5 × 12\n",
       "\\begin{tabular}{r|llllllllllll}\n",
       " year & buyer\\_id & target\\_id & buyer\\_lat & buyer\\_long & target\\_lat & target\\_long & price & hhi\\_target & num\\_stations\\_buyer & population\\_target & corp\\_owner\\_buyer\\\\\n",
       " <dbl> & <dbl> & <dbl> & <dbl> & <dbl> & <dbl> & <dbl> & <dbl> & <dbl> & <dbl> & <dbl> & <dbl>\\\\\n",
       "\\hline\n",
       "\t 2007 & 1 & 1 & 46.59251 & -92.54956 & 44.37507 & -92.03954 &  157763.9 &  80 &  3 &   21676 & 0\\\\\n",
       "\t 2007 & 2 & 2 & 32.57818 & -85.34900 & 33.02537 & -86.05970 & 1472463.2 & 376 &  1 &   11539 & 0\\\\\n",
       "\t 2007 & 3 & 3 & 30.63987 & -88.25445 & 31.12250 & -87.76641 & 3786333.9 & 129 &  1 &  182265 & 0\\\\\n",
       "\t 2007 & 4 & 4 & 38.95681 & -94.68324 & 36.19695 & -94.00682 &  473291.7 & 188 & 20 &  203065 & 0\\\\\n",
       "\t 2007 & 5 & 5 & 41.05408 & -73.53622 & 40.90990 & -73.45702 & 1840579.0 & 284 &  0 & 1493350 & 0\\\\\n",
       "\\end{tabular}\n"
      ],
      "text/markdown": [
       "\n",
       "A tibble: 5 × 12\n",
       "\n",
       "| year &lt;dbl&gt; | buyer_id &lt;dbl&gt; | target_id &lt;dbl&gt; | buyer_lat &lt;dbl&gt; | buyer_long &lt;dbl&gt; | target_lat &lt;dbl&gt; | target_long &lt;dbl&gt; | price &lt;dbl&gt; | hhi_target &lt;dbl&gt; | num_stations_buyer &lt;dbl&gt; | population_target &lt;dbl&gt; | corp_owner_buyer &lt;dbl&gt; |\n",
       "|---|---|---|---|---|---|---|---|---|---|---|---|\n",
       "| 2007 | 1 | 1 | 46.59251 | -92.54956 | 44.37507 | -92.03954 |  157763.9 |  80 |  3 |   21676 | 0 |\n",
       "| 2007 | 2 | 2 | 32.57818 | -85.34900 | 33.02537 | -86.05970 | 1472463.2 | 376 |  1 |   11539 | 0 |\n",
       "| 2007 | 3 | 3 | 30.63987 | -88.25445 | 31.12250 | -87.76641 | 3786333.9 | 129 |  1 |  182265 | 0 |\n",
       "| 2007 | 4 | 4 | 38.95681 | -94.68324 | 36.19695 | -94.00682 |  473291.7 | 188 | 20 |  203065 | 0 |\n",
       "| 2007 | 5 | 5 | 41.05408 | -73.53622 | 40.90990 | -73.45702 | 1840579.0 | 284 |  0 | 1493350 | 0 |\n",
       "\n"
      ],
      "text/plain": [
       "  year buyer_id target_id buyer_lat buyer_long target_lat target_long price    \n",
       "1 2007 1        1         46.59251  -92.54956  44.37507   -92.03954    157763.9\n",
       "2 2007 2        2         32.57818  -85.34900  33.02537   -86.05970   1472463.2\n",
       "3 2007 3        3         30.63987  -88.25445  31.12250   -87.76641   3786333.9\n",
       "4 2007 4        4         38.95681  -94.68324  36.19695   -94.00682    473291.7\n",
       "5 2007 5        5         41.05408  -73.53622  40.90990   -73.45702   1840579.0\n",
       "  hhi_target num_stations_buyer population_target corp_owner_buyer\n",
       "1  80         3                   21676           0               \n",
       "2 376         1                   11539           0               \n",
       "3 129         1                  182265           0               \n",
       "4 188        20                  203065           0               \n",
       "5 284         0                 1493350           0               "
      ]
     },
     "metadata": {},
     "output_type": "display_data"
    }
   ],
   "source": [
    "# import readxl package  -- need to make sure installed \n",
    "install.packages(\"readxl\") # install package (only need to do if don't have already)\n",
    "library(readxl)\n",
    "\n",
    "# read in data used for PS #4\n",
    "df <- read_excel(\"../Matching/radio_merger_data.xlsx\",\n",
    "                            sheet = 1)\n",
    "df[1:5,]"
   ]
  },
  {
   "cell_type": "markdown",
   "metadata": {},
   "source": [
    "### Reading Stata data files"
   ]
  },
  {
   "cell_type": "code",
   "execution_count": 5,
   "metadata": {},
   "outputs": [
    {
     "name": "stderr",
     "output_type": "stream",
     "text": [
      "also installing the dependencies ‘forcats’, ‘readr’\n",
      "\n",
      "\n"
     ]
    },
    {
     "name": "stdout",
     "output_type": "stream",
     "text": [
      "\n",
      "The downloaded binary packages are in\n",
      "\t/var/folders/b0/wwxd0byd1hx0y_rqrnqhmc0m0000gn/T//RtmpnaXeor/downloaded_packages\n"
     ]
    },
    {
     "data": {
      "text/html": [
       "<table>\n",
       "<caption>A tibble: 5 × 52</caption>\n",
       "<thead>\n",
       "\t<tr><th scope=col>id68</th><th scope=col>year</th><th scope=col>intid</th><th scope=col>relhh</th><th scope=col>hannhrs</th><th scope=col>wannhrs</th><th scope=col>hlabinc</th><th scope=col>wlabinc</th><th scope=col>nochild</th><th scope=col>wrace</th><th scope=col>⋯</th><th scope=col>redpregovinc</th><th scope=col>hsex</th><th scope=col>wsex</th><th scope=col>age</th><th scope=col>wage</th><th scope=col>hpersno</th><th scope=col>wpersno</th><th scope=col>hyrsed</th><th scope=col>wyrsed</th><th scope=col>pce</th></tr>\n",
       "\t<tr><th scope=col>&lt;dbl&gt;</th><th scope=col>&lt;dbl&gt;</th><th scope=col>&lt;dbl&gt;</th><th scope=col>&lt;dbl+lbl&gt;</th><th scope=col>&lt;dbl&gt;</th><th scope=col>&lt;dbl&gt;</th><th scope=col>&lt;dbl&gt;</th><th scope=col>&lt;dbl&gt;</th><th scope=col>&lt;dbl&gt;</th><th scope=col>&lt;dbl&gt;</th><th scope=col>⋯</th><th scope=col>&lt;dbl&gt;</th><th scope=col>&lt;dbl&gt;</th><th scope=col>&lt;dbl&gt;</th><th scope=col>&lt;dbl&gt;</th><th scope=col>&lt;dbl&gt;</th><th scope=col>&lt;dbl&gt;</th><th scope=col>&lt;dbl&gt;</th><th scope=col>&lt;dbl&gt;</th><th scope=col>&lt;dbl&gt;</th><th scope=col>&lt;dbl&gt;</th></tr>\n",
       "</thead>\n",
       "<tbody>\n",
       "\t<tr><td>1</td><td>1967</td><td>1</td><td>1</td><td>1200</td><td>2000</td><td>NA</td><td>NA</td><td>0</td><td>NA</td><td>⋯</td><td>5614</td><td>1</td><td>2</td><td>52</td><td>46</td><td>1</td><td>2</td><td> 8</td><td>8</td><td>0</td></tr>\n",
       "\t<tr><td>2</td><td>1967</td><td>2</td><td>1</td><td>   0</td><td>   0</td><td>NA</td><td>NA</td><td>0</td><td>NA</td><td>⋯</td><td>   0</td><td>1</td><td>2</td><td>56</td><td>57</td><td>1</td><td>2</td><td> 3</td><td>3</td><td>0</td></tr>\n",
       "\t<tr><td>3</td><td>1967</td><td>3</td><td>1</td><td>   0</td><td>   0</td><td>NA</td><td>NA</td><td>0</td><td>NA</td><td>⋯</td><td>   0</td><td>1</td><td>2</td><td>77</td><td>64</td><td>1</td><td>2</td><td>NA</td><td>3</td><td>0</td></tr>\n",
       "\t<tr><td>4</td><td>1967</td><td>4</td><td>1</td><td>1560</td><td>   0</td><td>NA</td><td>NA</td><td>6</td><td> 1</td><td>⋯</td><td>3280</td><td>1</td><td>2</td><td>45</td><td>44</td><td>1</td><td>2</td><td> 8</td><td>5</td><td>0</td></tr>\n",
       "\t<tr><td>5</td><td>1967</td><td>5</td><td>1</td><td>2500</td><td>2000</td><td>NA</td><td>NA</td><td>3</td><td> 1</td><td>⋯</td><td>7900</td><td>1</td><td>2</td><td>24</td><td>22</td><td>1</td><td>2</td><td>10</td><td>9</td><td>0</td></tr>\n",
       "</tbody>\n",
       "</table>\n"
      ],
      "text/latex": [
       "A tibble: 5 × 52\n",
       "\\begin{tabular}{r|llllllllllllllllllllllllllllllllllllllllllllllllllll}\n",
       " id68 & year & intid & relhh & hannhrs & wannhrs & hlabinc & wlabinc & nochild & wrace & hrace & hafdc & hssi & hothwelf & hvetpen & hunempinc & hworkcomp & wafdc & wssi & wothwelf & wunempinc & wworkcomp & noadult & oafdc & ossi & oothwelf & hsocsec & wsocsec & osocsec & ounempinc & oworkcomp & wvetpen & ovetpen & foodstamps & foodexp & foodcon & state & redlabinc & redlabincall & redlabplus & redfinass & redtotass & redpregovinc & hsex & wsex & age & wage & hpersno & wpersno & hyrsed & wyrsed & pce\\\\\n",
       " <dbl> & <dbl> & <dbl> & <dbl+lbl> & <dbl> & <dbl> & <dbl> & <dbl> & <dbl> & <dbl> & <dbl> & <dbl> & <dbl> & <dbl> & <dbl> & <dbl> & <dbl> & <dbl> & <dbl> & <dbl> & <dbl> & <dbl> & <dbl> & <dbl> & <dbl> & <dbl> & <dbl> & <dbl> & <dbl> & <dbl> & <dbl> & <dbl> & <dbl> & <dbl> & <dbl> & <dbl> & <dbl> & <dbl> & <dbl> & <dbl> & <dbl> & <dbl> & <dbl> & <dbl> & <dbl> & <dbl> & <dbl> & <dbl> & <dbl> & <dbl> & <dbl> & <dbl>\\\\\n",
       "\\hline\n",
       "\t 1 & 1967 & 1 & 1 & 1200 & 2000 & NA & NA & 0 & NA & 1 & NA & NA & NA & NA & NA & NA & NA & NA & NA & NA & NA & 4 & NA & NA & NA & NA & NA & NA & NA & NA & NA & NA &  0 & 2106 & 2106 & 26 & 5614 & 5614 & 5614 & 0 & 0 & 5614 & 1 & 2 & 52 & 46 & 1 & 2 &  8 & 8 & 0\\\\\n",
       "\t 2 & 1967 & 2 & 1 &    0 &    0 & NA & NA & 0 & NA & 1 & NA & NA & NA & NA & NA & NA & NA & NA & NA & NA & NA & 2 & NA & NA & NA & NA & NA & NA & NA & NA & NA & NA &  0 & 1222 & 1222 & 26 &   NA &   NA &    0 & 0 & 0 &    0 & 1 & 2 & 56 & 57 & 1 & 2 &  3 & 3 & 0\\\\\n",
       "\t 3 & 1967 & 3 & 1 &    0 &    0 & NA & NA & 0 & NA & 1 & NA & NA & NA & NA & NA & NA & NA & NA & NA & NA & NA & 2 & NA & NA & NA & NA & NA & NA & NA & NA & NA & NA &  0 &  209 &  209 & 26 &   NA &   NA &    0 & 0 & 0 &    0 & 1 & 2 & 77 & 64 & 1 & 2 & NA & 3 & 0\\\\\n",
       "\t 4 & 1967 & 4 & 1 & 1560 &    0 & NA & NA & 6 &  1 & 1 & NA & NA & NA & NA & NA & NA & NA & NA & NA & NA & NA & 2 & NA & NA & NA & NA & NA & NA & NA & NA & NA & NA &  0 & 2402 & 2402 & 43 & 3280 & 3280 & 3280 & 0 & 0 & 3280 & 1 & 2 & 45 & 44 & 1 & 2 &  8 & 5 & 0\\\\\n",
       "\t 5 & 1967 & 5 & 1 & 2500 & 2000 & NA & NA & 3 &  1 & 1 & NA & NA & NA & NA & NA & NA & NA & NA & NA & NA & NA & 2 & NA & NA & NA & NA & NA & NA & NA & NA & NA & NA & 75 & 1903 & 1978 & 43 & 7900 & 7900 & 7900 & 0 & 0 & 7900 & 1 & 2 & 24 & 22 & 1 & 2 & 10 & 9 & 0\\\\\n",
       "\\end{tabular}\n"
      ],
      "text/markdown": [
       "\n",
       "A tibble: 5 × 52\n",
       "\n",
       "| id68 &lt;dbl&gt; | year &lt;dbl&gt; | intid &lt;dbl&gt; | relhh &lt;dbl+lbl&gt; | hannhrs &lt;dbl&gt; | wannhrs &lt;dbl&gt; | hlabinc &lt;dbl&gt; | wlabinc &lt;dbl&gt; | nochild &lt;dbl&gt; | wrace &lt;dbl&gt; | ⋯ ⋯ | redpregovinc &lt;dbl&gt; | hsex &lt;dbl&gt; | wsex &lt;dbl&gt; | age &lt;dbl&gt; | wage &lt;dbl&gt; | hpersno &lt;dbl&gt; | wpersno &lt;dbl&gt; | hyrsed &lt;dbl&gt; | wyrsed &lt;dbl&gt; | pce &lt;dbl&gt; |\n",
       "|---|---|---|---|---|---|---|---|---|---|---|---|---|---|---|---|---|---|---|---|---|\n",
       "| 1 | 1967 | 1 | 1 | 1200 | 2000 | NA | NA | 0 | NA | ⋯ | 5614 | 1 | 2 | 52 | 46 | 1 | 2 |  8 | 8 | 0 |\n",
       "| 2 | 1967 | 2 | 1 |    0 |    0 | NA | NA | 0 | NA | ⋯ |    0 | 1 | 2 | 56 | 57 | 1 | 2 |  3 | 3 | 0 |\n",
       "| 3 | 1967 | 3 | 1 |    0 |    0 | NA | NA | 0 | NA | ⋯ |    0 | 1 | 2 | 77 | 64 | 1 | 2 | NA | 3 | 0 |\n",
       "| 4 | 1967 | 4 | 1 | 1560 |    0 | NA | NA | 6 |  1 | ⋯ | 3280 | 1 | 2 | 45 | 44 | 1 | 2 |  8 | 5 | 0 |\n",
       "| 5 | 1967 | 5 | 1 | 2500 | 2000 | NA | NA | 3 |  1 | ⋯ | 7900 | 1 | 2 | 24 | 22 | 1 | 2 | 10 | 9 | 0 |\n",
       "\n"
      ],
      "text/plain": [
       "  id68 year intid relhh hannhrs wannhrs hlabinc wlabinc nochild wrace ⋯\n",
       "1 1    1967 1     1     1200    2000    NA      NA      0       NA    ⋯\n",
       "2 2    1967 2     1        0       0    NA      NA      0       NA    ⋯\n",
       "3 3    1967 3     1        0       0    NA      NA      0       NA    ⋯\n",
       "4 4    1967 4     1     1560       0    NA      NA      6        1    ⋯\n",
       "5 5    1967 5     1     2500    2000    NA      NA      3        1    ⋯\n",
       "  redpregovinc hsex wsex age wage hpersno wpersno hyrsed wyrsed pce\n",
       "1 5614         1    2    52  46   1       2        8     8      0  \n",
       "2    0         1    2    56  57   1       2        3     3      0  \n",
       "3    0         1    2    77  64   1       2       NA     3      0  \n",
       "4 3280         1    2    45  44   1       2        8     5      0  \n",
       "5 7900         1    2    24  22   1       2       10     9      0  "
      ]
     },
     "metadata": {},
     "output_type": "display_data"
    }
   ],
   "source": [
    "# Activate the `haven` library\n",
    "install.packages(\"haven\") # if not already installed\n",
    "library(haven)\n",
    "\n",
    "# Read Stata data file used for PS #3\n",
    "ps3_data <- read_dta(\"../Optimization/PS3_data.dta\") \n",
    "ps3_data[1:5,]"
   ]
  },
  {
   "cell_type": "markdown",
   "metadata": {},
   "source": [
    "Be sure to read more about these functions in there documentation.  They are quite flexible in terms of skipping lines and reformating data that you put into your R data frame.  They can also ready data from URLs (as we did in Python) with some modification.  Additionally, there are functions to read in data in many other formats.  DataCamp provides a good overview of these [here](https://www.datacamp.com/community/tutorials/r-data-import-tutorial#stata)."
   ]
  },
  {
   "cell_type": "markdown",
   "metadata": {},
   "source": [
    "## Writing data\n",
    "\n",
    "As with reading in data, there is the ability to write data into multiple formats from R.\n",
    "\n",
    "###  To CSV"
   ]
  },
  {
   "cell_type": "code",
   "execution_count": 6,
   "metadata": {},
   "outputs": [],
   "source": [
    "# write the radio mergers data to csv (df was the\n",
    "# name of the data frame from above)\n",
    "write.csv(file='test_write.csv', x=df)"
   ]
  },
  {
   "cell_type": "markdown",
   "metadata": {},
   "source": [
    "### To Excel"
   ]
  },
  {
   "cell_type": "code",
   "execution_count": 7,
   "metadata": {},
   "outputs": [
    {
     "name": "stderr",
     "output_type": "stream",
     "text": [
      "also installing the dependency ‘zip’\n",
      "\n",
      "\n"
     ]
    },
    {
     "name": "stdout",
     "output_type": "stream",
     "text": [
      "\n",
      "The downloaded binary packages are in\n",
      "\t/var/folders/b0/wwxd0byd1hx0y_rqrnqhmc0m0000gn/T//RtmpnaXeor/downloaded_packages\n"
     ]
    },
    {
     "name": "stderr",
     "output_type": "stream",
     "text": [
      "Note: zip::zip() is deprecated, please use zip::zipr() instead\n",
      "\n"
     ]
    }
   ],
   "source": [
    "install.packages(\"openxlsx\") # if not already installed\n",
    "library(openxlsx)\n",
    "\n",
    "# for writing a data.frame or list of data.frames to an xlsx file\n",
    "write.xlsx(df, \"test_write.xlsx\")"
   ]
  },
  {
   "cell_type": "markdown",
   "metadata": {},
   "source": [
    "### To Stata"
   ]
  },
  {
   "cell_type": "code",
   "execution_count": 8,
   "metadata": {},
   "outputs": [],
   "source": [
    "# Uses the haven package we imported above\n",
    "write_dta(df, 'test_write.dta', version = 14) # note, haven only supports to Stata 14"
   ]
  },
  {
   "cell_type": "markdown",
   "metadata": {},
   "source": [
    "Again, be sure to read the documentation about these functions to see the available keyword arguments that will allow you to adjust how the data are saved.\n",
    "\n",
    "## Saving R-Objects to Disk\n",
    "\n",
    "Sometimes you want to save R-objects in a way that will preserve all their properties when they are read back in.  E.g., a plot or R-object that represents output from an econometric model.  To do this, you can use the `save()` function and save your objects to .RData or .rda files. \n",
    "\n",
    "Note that files saved in this way can only be read in R."
   ]
  },
  {
   "cell_type": "code",
   "execution_count": 9,
   "metadata": {},
   "outputs": [],
   "source": [
    "# Saving on object in RData format\n",
    "save(df, file = \"df_out.RData\")\n",
    "# Save multiple objects\n",
    "save(ps3_data, df, file = \"2df_out.RData\")\n",
    "# To load the data again\n",
    "load(\"2df_out.RData\")"
   ]
  },
  {
   "cell_type": "code",
   "execution_count": 10,
   "metadata": {},
   "outputs": [
    {
     "data": {
      "text/html": [
       "<table>\n",
       "<caption>A tibble: 5 × 52</caption>\n",
       "<thead>\n",
       "\t<tr><th scope=col>id68</th><th scope=col>year</th><th scope=col>intid</th><th scope=col>relhh</th><th scope=col>hannhrs</th><th scope=col>wannhrs</th><th scope=col>hlabinc</th><th scope=col>wlabinc</th><th scope=col>nochild</th><th scope=col>wrace</th><th scope=col>⋯</th><th scope=col>redpregovinc</th><th scope=col>hsex</th><th scope=col>wsex</th><th scope=col>age</th><th scope=col>wage</th><th scope=col>hpersno</th><th scope=col>wpersno</th><th scope=col>hyrsed</th><th scope=col>wyrsed</th><th scope=col>pce</th></tr>\n",
       "\t<tr><th scope=col>&lt;dbl&gt;</th><th scope=col>&lt;dbl&gt;</th><th scope=col>&lt;dbl&gt;</th><th scope=col>&lt;dbl+lbl&gt;</th><th scope=col>&lt;dbl&gt;</th><th scope=col>&lt;dbl&gt;</th><th scope=col>&lt;dbl&gt;</th><th scope=col>&lt;dbl&gt;</th><th scope=col>&lt;dbl&gt;</th><th scope=col>&lt;dbl&gt;</th><th scope=col>⋯</th><th scope=col>&lt;dbl&gt;</th><th scope=col>&lt;dbl&gt;</th><th scope=col>&lt;dbl&gt;</th><th scope=col>&lt;dbl&gt;</th><th scope=col>&lt;dbl&gt;</th><th scope=col>&lt;dbl&gt;</th><th scope=col>&lt;dbl&gt;</th><th scope=col>&lt;dbl&gt;</th><th scope=col>&lt;dbl&gt;</th><th scope=col>&lt;dbl&gt;</th></tr>\n",
       "</thead>\n",
       "<tbody>\n",
       "\t<tr><td>1</td><td>1967</td><td>1</td><td>1</td><td>1200</td><td>2000</td><td>NA</td><td>NA</td><td>0</td><td>NA</td><td>⋯</td><td>5614</td><td>1</td><td>2</td><td>52</td><td>46</td><td>1</td><td>2</td><td> 8</td><td>8</td><td>0</td></tr>\n",
       "\t<tr><td>2</td><td>1967</td><td>2</td><td>1</td><td>   0</td><td>   0</td><td>NA</td><td>NA</td><td>0</td><td>NA</td><td>⋯</td><td>   0</td><td>1</td><td>2</td><td>56</td><td>57</td><td>1</td><td>2</td><td> 3</td><td>3</td><td>0</td></tr>\n",
       "\t<tr><td>3</td><td>1967</td><td>3</td><td>1</td><td>   0</td><td>   0</td><td>NA</td><td>NA</td><td>0</td><td>NA</td><td>⋯</td><td>   0</td><td>1</td><td>2</td><td>77</td><td>64</td><td>1</td><td>2</td><td>NA</td><td>3</td><td>0</td></tr>\n",
       "\t<tr><td>4</td><td>1967</td><td>4</td><td>1</td><td>1560</td><td>   0</td><td>NA</td><td>NA</td><td>6</td><td> 1</td><td>⋯</td><td>3280</td><td>1</td><td>2</td><td>45</td><td>44</td><td>1</td><td>2</td><td> 8</td><td>5</td><td>0</td></tr>\n",
       "\t<tr><td>5</td><td>1967</td><td>5</td><td>1</td><td>2500</td><td>2000</td><td>NA</td><td>NA</td><td>3</td><td> 1</td><td>⋯</td><td>7900</td><td>1</td><td>2</td><td>24</td><td>22</td><td>1</td><td>2</td><td>10</td><td>9</td><td>0</td></tr>\n",
       "</tbody>\n",
       "</table>\n"
      ],
      "text/latex": [
       "A tibble: 5 × 52\n",
       "\\begin{tabular}{r|llllllllllllllllllllllllllllllllllllllllllllllllllll}\n",
       " id68 & year & intid & relhh & hannhrs & wannhrs & hlabinc & wlabinc & nochild & wrace & hrace & hafdc & hssi & hothwelf & hvetpen & hunempinc & hworkcomp & wafdc & wssi & wothwelf & wunempinc & wworkcomp & noadult & oafdc & ossi & oothwelf & hsocsec & wsocsec & osocsec & ounempinc & oworkcomp & wvetpen & ovetpen & foodstamps & foodexp & foodcon & state & redlabinc & redlabincall & redlabplus & redfinass & redtotass & redpregovinc & hsex & wsex & age & wage & hpersno & wpersno & hyrsed & wyrsed & pce\\\\\n",
       " <dbl> & <dbl> & <dbl> & <dbl+lbl> & <dbl> & <dbl> & <dbl> & <dbl> & <dbl> & <dbl> & <dbl> & <dbl> & <dbl> & <dbl> & <dbl> & <dbl> & <dbl> & <dbl> & <dbl> & <dbl> & <dbl> & <dbl> & <dbl> & <dbl> & <dbl> & <dbl> & <dbl> & <dbl> & <dbl> & <dbl> & <dbl> & <dbl> & <dbl> & <dbl> & <dbl> & <dbl> & <dbl> & <dbl> & <dbl> & <dbl> & <dbl> & <dbl> & <dbl> & <dbl> & <dbl> & <dbl> & <dbl> & <dbl> & <dbl> & <dbl> & <dbl> & <dbl>\\\\\n",
       "\\hline\n",
       "\t 1 & 1967 & 1 & 1 & 1200 & 2000 & NA & NA & 0 & NA & 1 & NA & NA & NA & NA & NA & NA & NA & NA & NA & NA & NA & 4 & NA & NA & NA & NA & NA & NA & NA & NA & NA & NA &  0 & 2106 & 2106 & 26 & 5614 & 5614 & 5614 & 0 & 0 & 5614 & 1 & 2 & 52 & 46 & 1 & 2 &  8 & 8 & 0\\\\\n",
       "\t 2 & 1967 & 2 & 1 &    0 &    0 & NA & NA & 0 & NA & 1 & NA & NA & NA & NA & NA & NA & NA & NA & NA & NA & NA & 2 & NA & NA & NA & NA & NA & NA & NA & NA & NA & NA &  0 & 1222 & 1222 & 26 &   NA &   NA &    0 & 0 & 0 &    0 & 1 & 2 & 56 & 57 & 1 & 2 &  3 & 3 & 0\\\\\n",
       "\t 3 & 1967 & 3 & 1 &    0 &    0 & NA & NA & 0 & NA & 1 & NA & NA & NA & NA & NA & NA & NA & NA & NA & NA & NA & 2 & NA & NA & NA & NA & NA & NA & NA & NA & NA & NA &  0 &  209 &  209 & 26 &   NA &   NA &    0 & 0 & 0 &    0 & 1 & 2 & 77 & 64 & 1 & 2 & NA & 3 & 0\\\\\n",
       "\t 4 & 1967 & 4 & 1 & 1560 &    0 & NA & NA & 6 &  1 & 1 & NA & NA & NA & NA & NA & NA & NA & NA & NA & NA & NA & 2 & NA & NA & NA & NA & NA & NA & NA & NA & NA & NA &  0 & 2402 & 2402 & 43 & 3280 & 3280 & 3280 & 0 & 0 & 3280 & 1 & 2 & 45 & 44 & 1 & 2 &  8 & 5 & 0\\\\\n",
       "\t 5 & 1967 & 5 & 1 & 2500 & 2000 & NA & NA & 3 &  1 & 1 & NA & NA & NA & NA & NA & NA & NA & NA & NA & NA & NA & 2 & NA & NA & NA & NA & NA & NA & NA & NA & NA & NA & 75 & 1903 & 1978 & 43 & 7900 & 7900 & 7900 & 0 & 0 & 7900 & 1 & 2 & 24 & 22 & 1 & 2 & 10 & 9 & 0\\\\\n",
       "\\end{tabular}\n"
      ],
      "text/markdown": [
       "\n",
       "A tibble: 5 × 52\n",
       "\n",
       "| id68 &lt;dbl&gt; | year &lt;dbl&gt; | intid &lt;dbl&gt; | relhh &lt;dbl+lbl&gt; | hannhrs &lt;dbl&gt; | wannhrs &lt;dbl&gt; | hlabinc &lt;dbl&gt; | wlabinc &lt;dbl&gt; | nochild &lt;dbl&gt; | wrace &lt;dbl&gt; | ⋯ ⋯ | redpregovinc &lt;dbl&gt; | hsex &lt;dbl&gt; | wsex &lt;dbl&gt; | age &lt;dbl&gt; | wage &lt;dbl&gt; | hpersno &lt;dbl&gt; | wpersno &lt;dbl&gt; | hyrsed &lt;dbl&gt; | wyrsed &lt;dbl&gt; | pce &lt;dbl&gt; |\n",
       "|---|---|---|---|---|---|---|---|---|---|---|---|---|---|---|---|---|---|---|---|---|\n",
       "| 1 | 1967 | 1 | 1 | 1200 | 2000 | NA | NA | 0 | NA | ⋯ | 5614 | 1 | 2 | 52 | 46 | 1 | 2 |  8 | 8 | 0 |\n",
       "| 2 | 1967 | 2 | 1 |    0 |    0 | NA | NA | 0 | NA | ⋯ |    0 | 1 | 2 | 56 | 57 | 1 | 2 |  3 | 3 | 0 |\n",
       "| 3 | 1967 | 3 | 1 |    0 |    0 | NA | NA | 0 | NA | ⋯ |    0 | 1 | 2 | 77 | 64 | 1 | 2 | NA | 3 | 0 |\n",
       "| 4 | 1967 | 4 | 1 | 1560 |    0 | NA | NA | 6 |  1 | ⋯ | 3280 | 1 | 2 | 45 | 44 | 1 | 2 |  8 | 5 | 0 |\n",
       "| 5 | 1967 | 5 | 1 | 2500 | 2000 | NA | NA | 3 |  1 | ⋯ | 7900 | 1 | 2 | 24 | 22 | 1 | 2 | 10 | 9 | 0 |\n",
       "\n"
      ],
      "text/plain": [
       "  id68 year intid relhh hannhrs wannhrs hlabinc wlabinc nochild wrace ⋯\n",
       "1 1    1967 1     1     1200    2000    NA      NA      0       NA    ⋯\n",
       "2 2    1967 2     1        0       0    NA      NA      0       NA    ⋯\n",
       "3 3    1967 3     1        0       0    NA      NA      0       NA    ⋯\n",
       "4 4    1967 4     1     1560       0    NA      NA      6        1    ⋯\n",
       "5 5    1967 5     1     2500    2000    NA      NA      3        1    ⋯\n",
       "  redpregovinc hsex wsex age wage hpersno wpersno hyrsed wyrsed pce\n",
       "1 5614         1    2    52  46   1       2        8     8      0  \n",
       "2    0         1    2    56  57   1       2        3     3      0  \n",
       "3    0         1    2    77  64   1       2       NA     3      0  \n",
       "4 3280         1    2    45  44   1       2        8     5      0  \n",
       "5 7900         1    2    24  22   1       2       10     9      0  "
      ]
     },
     "metadata": {},
     "output_type": "display_data"
    }
   ],
   "source": [
    "ps3_data[1:5,]"
   ]
  },
  {
   "cell_type": "code",
   "execution_count": 11,
   "metadata": {},
   "outputs": [
    {
     "data": {
      "text/html": [
       "<table>\n",
       "<caption>A tibble: 5 × 12</caption>\n",
       "<thead>\n",
       "\t<tr><th scope=col>year</th><th scope=col>buyer_id</th><th scope=col>target_id</th><th scope=col>buyer_lat</th><th scope=col>buyer_long</th><th scope=col>target_lat</th><th scope=col>target_long</th><th scope=col>price</th><th scope=col>hhi_target</th><th scope=col>num_stations_buyer</th><th scope=col>population_target</th><th scope=col>corp_owner_buyer</th></tr>\n",
       "\t<tr><th scope=col>&lt;dbl&gt;</th><th scope=col>&lt;dbl&gt;</th><th scope=col>&lt;dbl&gt;</th><th scope=col>&lt;dbl&gt;</th><th scope=col>&lt;dbl&gt;</th><th scope=col>&lt;dbl&gt;</th><th scope=col>&lt;dbl&gt;</th><th scope=col>&lt;dbl&gt;</th><th scope=col>&lt;dbl&gt;</th><th scope=col>&lt;dbl&gt;</th><th scope=col>&lt;dbl&gt;</th><th scope=col>&lt;dbl&gt;</th></tr>\n",
       "</thead>\n",
       "<tbody>\n",
       "\t<tr><td>2007</td><td>1</td><td>1</td><td>46.59251</td><td>-92.54956</td><td>44.37507</td><td>-92.03954</td><td> 157763.9</td><td> 80</td><td> 3</td><td>  21676</td><td>0</td></tr>\n",
       "\t<tr><td>2007</td><td>2</td><td>2</td><td>32.57818</td><td>-85.34900</td><td>33.02537</td><td>-86.05970</td><td>1472463.2</td><td>376</td><td> 1</td><td>  11539</td><td>0</td></tr>\n",
       "\t<tr><td>2007</td><td>3</td><td>3</td><td>30.63987</td><td>-88.25445</td><td>31.12250</td><td>-87.76641</td><td>3786333.9</td><td>129</td><td> 1</td><td> 182265</td><td>0</td></tr>\n",
       "\t<tr><td>2007</td><td>4</td><td>4</td><td>38.95681</td><td>-94.68324</td><td>36.19695</td><td>-94.00682</td><td> 473291.7</td><td>188</td><td>20</td><td> 203065</td><td>0</td></tr>\n",
       "\t<tr><td>2007</td><td>5</td><td>5</td><td>41.05408</td><td>-73.53622</td><td>40.90990</td><td>-73.45702</td><td>1840579.0</td><td>284</td><td> 0</td><td>1493350</td><td>0</td></tr>\n",
       "</tbody>\n",
       "</table>\n"
      ],
      "text/latex": [
       "A tibble: 5 × 12\n",
       "\\begin{tabular}{r|llllllllllll}\n",
       " year & buyer\\_id & target\\_id & buyer\\_lat & buyer\\_long & target\\_lat & target\\_long & price & hhi\\_target & num\\_stations\\_buyer & population\\_target & corp\\_owner\\_buyer\\\\\n",
       " <dbl> & <dbl> & <dbl> & <dbl> & <dbl> & <dbl> & <dbl> & <dbl> & <dbl> & <dbl> & <dbl> & <dbl>\\\\\n",
       "\\hline\n",
       "\t 2007 & 1 & 1 & 46.59251 & -92.54956 & 44.37507 & -92.03954 &  157763.9 &  80 &  3 &   21676 & 0\\\\\n",
       "\t 2007 & 2 & 2 & 32.57818 & -85.34900 & 33.02537 & -86.05970 & 1472463.2 & 376 &  1 &   11539 & 0\\\\\n",
       "\t 2007 & 3 & 3 & 30.63987 & -88.25445 & 31.12250 & -87.76641 & 3786333.9 & 129 &  1 &  182265 & 0\\\\\n",
       "\t 2007 & 4 & 4 & 38.95681 & -94.68324 & 36.19695 & -94.00682 &  473291.7 & 188 & 20 &  203065 & 0\\\\\n",
       "\t 2007 & 5 & 5 & 41.05408 & -73.53622 & 40.90990 & -73.45702 & 1840579.0 & 284 &  0 & 1493350 & 0\\\\\n",
       "\\end{tabular}\n"
      ],
      "text/markdown": [
       "\n",
       "A tibble: 5 × 12\n",
       "\n",
       "| year &lt;dbl&gt; | buyer_id &lt;dbl&gt; | target_id &lt;dbl&gt; | buyer_lat &lt;dbl&gt; | buyer_long &lt;dbl&gt; | target_lat &lt;dbl&gt; | target_long &lt;dbl&gt; | price &lt;dbl&gt; | hhi_target &lt;dbl&gt; | num_stations_buyer &lt;dbl&gt; | population_target &lt;dbl&gt; | corp_owner_buyer &lt;dbl&gt; |\n",
       "|---|---|---|---|---|---|---|---|---|---|---|---|\n",
       "| 2007 | 1 | 1 | 46.59251 | -92.54956 | 44.37507 | -92.03954 |  157763.9 |  80 |  3 |   21676 | 0 |\n",
       "| 2007 | 2 | 2 | 32.57818 | -85.34900 | 33.02537 | -86.05970 | 1472463.2 | 376 |  1 |   11539 | 0 |\n",
       "| 2007 | 3 | 3 | 30.63987 | -88.25445 | 31.12250 | -87.76641 | 3786333.9 | 129 |  1 |  182265 | 0 |\n",
       "| 2007 | 4 | 4 | 38.95681 | -94.68324 | 36.19695 | -94.00682 |  473291.7 | 188 | 20 |  203065 | 0 |\n",
       "| 2007 | 5 | 5 | 41.05408 | -73.53622 | 40.90990 | -73.45702 | 1840579.0 | 284 |  0 | 1493350 | 0 |\n",
       "\n"
      ],
      "text/plain": [
       "  year buyer_id target_id buyer_lat buyer_long target_lat target_long price    \n",
       "1 2007 1        1         46.59251  -92.54956  44.37507   -92.03954    157763.9\n",
       "2 2007 2        2         32.57818  -85.34900  33.02537   -86.05970   1472463.2\n",
       "3 2007 3        3         30.63987  -88.25445  31.12250   -87.76641   3786333.9\n",
       "4 2007 4        4         38.95681  -94.68324  36.19695   -94.00682    473291.7\n",
       "5 2007 5        5         41.05408  -73.53622  40.90990   -73.45702   1840579.0\n",
       "  hhi_target num_stations_buyer population_target corp_owner_buyer\n",
       "1  80         3                   21676           0               \n",
       "2 376         1                   11539           0               \n",
       "3 129         1                  182265           0               \n",
       "4 188        20                  203065           0               \n",
       "5 284         0                 1493350           0               "
      ]
     },
     "metadata": {},
     "output_type": "display_data"
    }
   ],
   "source": [
    "df[1:5, ]"
   ]
  },
  {
   "cell_type": "code",
   "execution_count": 12,
   "metadata": {},
   "outputs": [],
   "source": [
    "x <- -3"
   ]
  },
  {
   "cell_type": "code",
   "execution_count": 13,
   "metadata": {},
   "outputs": [
    {
     "data": {
      "text/html": [
       "3"
      ],
      "text/latex": [
       "3"
      ],
      "text/markdown": [
       "3"
      ],
      "text/plain": [
       "[1] 3"
      ]
     },
     "metadata": {},
     "output_type": "display_data"
    }
   ],
   "source": [
    "x <- 3\n",
    "x"
   ]
  },
  {
   "cell_type": "code",
   "execution_count": 14,
   "metadata": {},
   "outputs": [
    {
     "data": {
      "text/html": [
       "3"
      ],
      "text/latex": [
       "3"
      ],
      "text/markdown": [
       "3"
      ],
      "text/plain": [
       "[1] 3"
      ]
     },
     "metadata": {},
     "output_type": "display_data"
    }
   ],
   "source": [
    "(x<-3)"
   ]
  },
  {
   "cell_type": "code",
   "execution_count": null,
   "metadata": {},
   "outputs": [],
   "source": [
    "(x < -3)"
   ]
  },
  {
   "cell_type": "code",
   "execution_count": null,
   "metadata": {},
   "outputs": [],
   "source": []
  }
 ],
 "metadata": {
  "kernelspec": {
   "display_name": "R",
   "language": "R",
   "name": "ir"
  },
  "language_info": {
   "codemirror_mode": "r",
   "file_extension": ".r",
   "mimetype": "text/x-r-source",
   "name": "R",
   "pygments_lexer": "r",
   "version": "3.6.1"
  }
 },
 "nbformat": 4,
 "nbformat_minor": 2
}
