{
 "cells": [
  {
   "cell_type": "markdown",
   "metadata": {},
   "source": [
    "# Scraping JavaScript data (\"dynamic webpages\")\n",
    "### by [Jason DeBacker](http://jasondebacker.com), October 2019 (with thanks to [Adam Rennhoff](http://mtweb.mtsu.edu/rennhoff/) )\n",
    "\n",
    "This notebook provides a tutorial and examples showing how to scrape webpages with JavaScript data.\n",
    "\n",
    "## Example: scrape the store locations for Walgreens pharmacies.\n",
    "\n",
    "Sometimes the webpage will be more complicated. As an example, suppose that I want to scrape store locations of Walgreens pharmacies.\n",
    "\n",
    "![Walgreen Locations Screenshot](files/images/WalgreenLocations.png)\n",
    "\n",
    "Notice that I am searching for stores near zip code 29205 but this fact is NOT displayed in the url, which is `https://www.walgreens.com/storelocator/result.jsp`. In other words, the zip code is not part of the url so it would not be possible to loop over different locations the way we did with the Wikipedia pages.\n",
    "\n",
    "What can we do? Lets look at the request that is being sent to Walgreens.com to see if we can mimic the request that is being sent. To do this, we need to use the \"Inspect\" tool to look at the network data (\"XHR\") (Note that the format of the inspect tool will vary depending on the internet browser you are using - in the screenshots below, I'm using Safari Version 11.0):\n",
    "\n",
    "![Walgreen Inspect Screenshot](files/images/WalgreensInspect.png)\n",
    "\n",
    "This will take some trial and error but you can see a list of requests under \"Resources\" and then \"XHR\". I have clicked on the second search result in the list.  Notice that this is showing the address of the first result (4467 DEVINE ST). This tells me that this is the request I want to mimic.\n",
    "\n",
    "\n",
    "In order to figure out the format of my request, I need to click on the drop down menu that says \"Response\" and select \"Request\" from this menu.  Then click on the \"show details sidebar\" icon to show details of the request.\n",
    "\n",
    "![Walgreen Request Screenshot](files/images/RequestType.png)\n",
    "\n",
    "The \"request payload\" in this case is: `{\"q\":\" Columbia, SC 29205\",\"r\":\"50\",\"lat\":33.9900337,\"lng\":-80.99815760000001,\"requestType\":\"locator\",\"s\":\"15\",\"p\":\"1\"}`\n",
    "\n",
    "The request payload tells us what we need to send to the URL so that they return the information we want\n",
    "\n",
    "There are three things from the show details that we'll also need: \"Location\", \"Request and Response\", and \"Request Payload\"\n",
    "\n",
    "* \"Location\" will tell us the URL that we make our request to\n",
    "* \"Request and Responses\" will tell us the method (POST)\n",
    "* \"Request Headers\" will tell us the information that needs to be in the header of our request -- in the Wikipedia example, we had to send a \"User-Agent\" so that it looked like we were coming from a web browser like Chrome or Firefox\n",
    "\n",
    "Let's try to make that request using the requests library in Python"
   ]
  },
  {
   "cell_type": "code",
   "execution_count": 15,
   "metadata": {},
   "outputs": [
    {
     "name": "stdout",
     "output_type": "stream",
     "text": [
      "<Response [200]>\n"
     ]
    }
   ],
   "source": [
    "import requests\n",
    "import json\n",
    "\n",
    "url = 'https://customersearch.walgreens.com/storelocator/v1/stores/search' # from Headers Request URL\n",
    "\n",
    "# Request payloads\n",
    "pay = {\n",
    "    \"q\":\" Columbia, SC 29205\",\n",
    "    \"r\":\"500\",\"lat\":33.9900337,\n",
    "    \"lng\":-80.99815760000001,\n",
    "    \"requestType\":\"locator\",\n",
    "    \"s\":\"30\",\n",
    "    \"p\":\"2\"\n",
    "}\n",
    "\n",
    "\n",
    "# Request headers\n",
    "heads = {\n",
    "    \"Accept\" : \"application/json, text/plain, */*\",\n",
    "    \"Accept-Encoding\" : \"gzip, deflate, br\",\n",
    "    \"Accept-Language\" : \"en-US,en;q=0.8\",\n",
    "    \"Connection\" : \"keep-alive\",\n",
    "    \"Content-Length\" : \"105\",\n",
    "    \"Content-Type\" : \"application/json;charset=UTF-8\",\n",
    "    \"Host\" : \"customersearch.walgreens.com\",\n",
    "    \"Origin\" : \"https://www.walgreens.com\",\n",
    "    \"Referer\" : \"https://www.walgreens.com/storelocator/find.jsp?tab=store+locator&requestType=locator\",\n",
    "    \"User-Agent\" : \"Mozilla/5.0 (Macintosh; Intel Mac OS X 10_12_6) AppleWebKit/604.1.38 (KHTML, like Gecko) Version/11.0 Safari/604.1.38\"  \n",
    "}\n",
    "\n",
    "# Making our POST request using the headers and payload\n",
    "response = requests.post(url, data = json.dumps(pay), headers = heads)\n",
    "print(response)"
   ]
  },
  {
   "cell_type": "markdown",
   "metadata": {},
   "source": [
    "A response code of 200 means that the request was properly sent and received. Success!\n",
    "\n",
    "Our next step is to get the data in a usable format by using the JSON data and remebering the format of the response we receive (from the \"Preview\" tab)."
   ]
  },
  {
   "cell_type": "code",
   "execution_count": 16,
   "metadata": {},
   "outputs": [
    {
     "data": {
      "text/plain": [
       "{'q': ' Columbia, SC 29205',\n",
       " 'requestType': 'locator',\n",
       " 'r': '500',\n",
       " 'filters': [],\n",
       " 'lat': '33.9900337',\n",
       " 'lng': '-80.99815760000001',\n",
       " 's': '30',\n",
       " 'p': '2',\n",
       " 'reqsPerPage': '30'}"
      ]
     },
     "execution_count": 16,
     "metadata": {},
     "output_type": "execute_result"
    }
   ],
   "source": [
    "data = response.json() # our requested information is now saved as JSON data\n",
    "len(data)\n",
    "# data.keys()\n",
    "data['filter']"
   ]
  },
  {
   "cell_type": "markdown",
   "metadata": {},
   "source": [
    "We can only see the first two elements in the image above but our JSON data has three elements: \"filter\", \"results\", and \"summary\". The \"results\" key contains the information we really want."
   ]
  },
  {
   "cell_type": "code",
   "execution_count": 17,
   "metadata": {},
   "outputs": [
    {
     "name": "stdout",
     "output_type": "stream",
     "text": [
      "22\n"
     ]
    }
   ],
   "source": [
    "results = data['results']\n",
    "print(len(results))\n"
   ]
  },
  {
   "cell_type": "markdown",
   "metadata": {},
   "source": [
    "This is data for 15 stores in our \"results\" variable. Go back and look at the code, notice that in the payload, we set a parameter 's' to equal 15\n",
    "\n",
    "Let's look at the results for the first store in the listings..."
   ]
  },
  {
   "cell_type": "code",
   "execution_count": 9,
   "metadata": {},
   "outputs": [
    {
     "data": {
      "text/plain": [
       "{'store': {'storeNumber': '17457',\n",
       "  'phone': [{'number': '7990036 ', 'areaCode': '803', 'type': 'store'}],\n",
       "  'address': {'state': 'SC',\n",
       "   'city': 'COLUMBIA',\n",
       "   'street': '2708 ROSEWOOD DRIVE',\n",
       "   'zip': '29205'},\n",
       "  'serviceIndicators': [{'name': 'One Hour Photo', 'code': 'phi'}],\n",
       "  'storeOpenTime': '7AM',\n",
       "  'storeCloseTime': '10PM',\n",
       "  'pharmacyOpenTime': '9AM',\n",
       "  'pharmacyCloseTime': '9PM',\n",
       "  'timeZone': 'EA',\n",
       "  'emergencyCode': '0',\n",
       "  'telePharmacyKiosk': False,\n",
       "  'storeType': '01',\n",
       "  'storeBrand': 'Walgreens'},\n",
       " 'distance': '0.51',\n",
       " 'mapUrl': 'https://maps.googleapis.com/maps/api/staticmap?size=451x451&markers=icon:http://www.walgreens.com/images/gmap/markers/point_wag.png|shadow:true|33.9900337,-80.99815760000001&client=gme-walgreens&sensor=false',\n",
       " 'latitude': '33.98673446',\n",
       " 'longitude': '-81.00605953',\n",
       " 'storeSeoUrl': '/locator/walgreens-2708+rosewood+drive-columbia-sc-29205/id=17457',\n",
       " 'clinicId': '0'}"
      ]
     },
     "execution_count": 9,
     "metadata": {},
     "output_type": "execute_result"
    }
   ],
   "source": [
    "results[0]"
   ]
  },
  {
   "cell_type": "markdown",
   "metadata": {},
   "source": [
    "It may be difficult to see in the output but most of the information we would want is contained in the 'store' element:"
   ]
  },
  {
   "cell_type": "code",
   "execution_count": null,
   "metadata": {},
   "outputs": [],
   "source": [
    "results[0]['store'] # first store in the list"
   ]
  },
  {
   "cell_type": "code",
   "execution_count": null,
   "metadata": {},
   "outputs": [],
   "source": [
    "results[1]['store'] # second store on the list"
   ]
  },
  {
   "cell_type": "markdown",
   "metadata": {},
   "source": [
    "Suppose that for a research question, I am interested in knowing which Walgreens locations offer flu shots. After some exploration, I see that a \"serviceIndicators\" code of \"fs\" indicates that flu shots are offered at that location. We can loop through the 15 returned stores to print out a list of the stores that offer flu shots."
   ]
  },
  {
   "cell_type": "code",
   "execution_count": 10,
   "metadata": {},
   "outputs": [
    {
     "name": "stdout",
     "output_type": "stream",
     "text": [
      "The Walgreens at 4467 DEVINE ST offers flu shots.\n",
      "The Walgreens at 1941 BLOSSOM ST offers flu shots.\n",
      "The Walgreens at 3501 FOREST DR offers flu shots.\n",
      "The Walgreens at 7801 GARNERS FERRY RD offers flu shots.\n",
      "The Walgreens at 1537 CHARLESTON HWY offers flu shots.\n",
      "The Walgreens at 2224 AUGUSTA RD offers flu shots.\n",
      "The Walgreens at 1223 SAINT ANDREWS RD offers flu shots.\n",
      "The Walgreens at 9001 TWO NOTCH RD offers flu shots.\n",
      "The Walgreens at 6118 SAINT ANDREWS RD offers flu shots.\n"
     ]
    }
   ],
   "source": [
    "# Loop over 15 stores\n",
    "for j in range(len(results)):\n",
    "    # For each store, loop over their serviceIndicators to find 'tc'\n",
    "    try:\n",
    "        for i in results[j]['store']['serviceIndicators']:\n",
    "            if i['code'] == 'fs':\n",
    "                print('The Walgreens at ' + str(results[j]['store']['address']['street']) + ' offers flu shots.')\n",
    "    except KeyError:\n",
    "        pass"
   ]
  },
  {
   "cell_type": "code",
   "execution_count": null,
   "metadata": {},
   "outputs": [],
   "source": []
  }
 ],
 "metadata": {
  "kernelspec": {
   "display_name": "Python 3",
   "language": "python",
   "name": "python3"
  },
  "language_info": {
   "codemirror_mode": {
    "name": "ipython",
    "version": 3
   },
   "file_extension": ".py",
   "mimetype": "text/x-python",
   "name": "python",
   "nbconvert_exporter": "python",
   "pygments_lexer": "ipython3",
   "version": "3.7.4"
  }
 },
 "nbformat": 4,
 "nbformat_minor": 2
}
