{
 "cells": [
  {
   "cell_type": "markdown",
   "metadata": {},
   "source": [
    "# Loops in Python\n",
    "### by [Jason DeBacker](https://jasondebacker.com), September 2019\n",
    "\n",
    "This Jupyter Notebook outlines writing loops in Python, with special attention to Pythonic ways of writing loops.\n",
    "\n",
    "## Types of loops\n",
    "\n",
    "Python's standard library includes two type of loops, `for` and `while` loops.  These should be familiar to you if you've done any other programming.  `for` loops are for use when you know the number of iterations in advance, `while` loops are to be used when you do not know in advance how many times you'll need to iterate through the loop.\n",
    "\n",
    "There are a few peculiarties of writing loops in Python that you need to be aware of.  First, the syntax:"
   ]
  },
  {
   "cell_type": "code",
   "execution_count": 1,
   "metadata": {},
   "outputs": [
    {
     "name": "stdout",
     "output_type": "stream",
     "text": [
      "0\n",
      "1\n",
      "2\n",
      "3\n",
      "4\n",
      "5\n",
      "6\n",
      "7\n",
      "8\n",
      "9\n"
     ]
    }
   ],
   "source": [
    "# Example of a for loop\n",
    "for i in range(10):  # note the colon to start the loop\n",
    "    print(i)  # note that code to execute in the loop is indented"
   ]
  },
  {
   "cell_type": "code",
   "execution_count": 2,
   "metadata": {},
   "outputs": [
    {
     "name": "stdout",
     "output_type": "stream",
     "text": [
      "0 + 0 = 0\n",
      "0 + 1 = 1\n",
      "0 + 2 = 2\n",
      "1 + 0 = 1\n",
      "1 + 1 = 2\n",
      "1 + 2 = 3\n"
     ]
    }
   ],
   "source": [
    "# Nesting loops follow the same structure\n",
    "for i in range(2):\n",
    "    for j in range(3):\n",
    "        print(i, \"+\", j, \"=\", i+j)"
   ]
  },
  {
   "cell_type": "code",
   "execution_count": 3,
   "metadata": {},
   "outputs": [
    {
     "name": "stdout",
     "output_type": "stream",
     "text": [
      "1\n",
      "2\n",
      "3\n",
      "4\n",
      "5\n",
      "6\n",
      "7\n",
      "8\n",
      "9\n"
     ]
    }
   ],
   "source": [
    "# while loops will include a conditional for the terminal condition\n",
    "while i < 10:\n",
    "    print(i)\n",
    "    i += 1  # note this shorthand for adding 1 to i"
   ]
  },
  {
   "cell_type": "markdown",
   "metadata": {},
   "source": [
    "## Loop control statements\n",
    "\n",
    "There are a few control statements that can be very useful in certain loops.  These include:\n",
    "\n",
    "* break statements\n",
    "* continue statements\n",
    "\n",
    "### Break statements\n",
    "\n",
    "Break statements help the code break out of the innermost `for` or `while` loop in which the break statement is enclosed.  \n",
    "\n",
    "Consider the following nested loop:"
   ]
  },
  {
   "cell_type": "code",
   "execution_count": 4,
   "metadata": {},
   "outputs": [
    {
     "name": "stdout",
     "output_type": "stream",
     "text": [
      "0 + 0 = 0\n",
      "1 + 0 = 1\n"
     ]
    }
   ],
   "source": [
    "for i in range(2):\n",
    "    for j in range(3):\n",
    "        print(i, \"+\", j, \"=\", i+j)\n",
    "        break"
   ]
  },
  {
   "cell_type": "markdown",
   "metadata": {},
   "source": [
    "Here, the `break` broke us out of the innermost loop, which contains the break command, so that only the iteration is completed each time the `for j` loop is called.\n",
    "\n",
    "Perhaps a more interesting example is when there are conditionals inside the nested loop, such as these nested loops that finds prime numbers:"
   ]
  },
  {
   "cell_type": "code",
   "execution_count": 5,
   "metadata": {},
   "outputs": [
    {
     "name": "stdout",
     "output_type": "stream",
     "text": [
      "2 is a prime number\n",
      "3 is a prime number\n",
      "4 equals 2 * 2.0\n",
      "5 is a prime number\n",
      "6 equals 2 * 3.0\n",
      "7 is a prime number\n",
      "8 equals 2 * 4.0\n",
      "9 equals 3 * 3.0\n"
     ]
    }
   ],
   "source": [
    "for n in range(2, 10):\n",
    "    for x in range(2, n):\n",
    "        if n % x == 0:\n",
    "            print(n, 'equals', x, '*', n/x)\n",
    "            break\n",
    "    else:  # Note that this else statement goes with the for x loop\n",
    "        # loop fell through without finding a factor\n",
    "        print(n, 'is a prime number')"
   ]
  },
  {
   "cell_type": "markdown",
   "metadata": {},
   "source": [
    "### Continue statements\n",
    "\n",
    "The `continue` statement continues with the next iteration of the loop.  This is useful if you have a conditional statement nested with in a loop.  E.g., in this code searching for even numbers:"
   ]
  },
  {
   "cell_type": "code",
   "execution_count": 7,
   "metadata": {},
   "outputs": [
    {
     "name": "stdout",
     "output_type": "stream",
     "text": [
      "Found an even number 2\n",
      "Found an even number 4\n",
      "Found an even number 6\n",
      "Found an even number 8\n"
     ]
    }
   ],
   "source": [
    "for num in range(2, 10):\n",
    "    if num % 2 == 0:\n",
    "        print(\"Found an even number\", num)\n",
    "        continue\n",
    "    print(\"Found a number\", num)"
   ]
  },
  {
   "cell_type": "markdown",
   "metadata": {},
   "source": [
    "## Nested loops with nested data\n",
    "\n",
    "Suppose you have nested data, such as a list of lists.  There is an efficient way to iterate over the items in these lists.  Consider the following list of lists:"
   ]
  },
  {
   "cell_type": "code",
   "execution_count": 9,
   "metadata": {},
   "outputs": [],
   "source": [
    "students = [(\"Alejandro\", [\"CompSci\", \"Physics\"]),\n",
    "            (\"Justin\", [\"Math\", \"CompSci\", \"Stats\"]),\n",
    "            (\"Ed\", [\"CompSci\", \"Accounting\", \"Economics\"]),\n",
    "            (\"Margot\", [\"InfSys\", \"Accounting\", \"Economics\", \"CommLaw\"]),\n",
    "            (\"Peter\", [\"Sociology\", \"Economics\", \"Law\", \"Stats\", \"Music\"])]"
   ]
  },
  {
   "cell_type": "markdown",
   "metadata": {},
   "source": [
    "Now lets iterate over the two lists in one `for` loop.  We can do this as `for (item1, item2) in list_of_lists:`, where `item1` will refer to the items in the outer most list and `item2` will refer to those items on layer deep."
   ]
  },
  {
   "cell_type": "code",
   "execution_count": 15,
   "metadata": {},
   "outputs": [
    {
     "name": "stdout",
     "output_type": "stream",
     "text": [
      "Peter takes 5 courses\n",
      "Margot takes 4 courses\n",
      "Ed takes 3 courses\n",
      "Justin takes 3 courses\n",
      "Alejandro takes 2 courses\n",
      "Alejandro takes 2 courses\n",
      "Justin takes 3 courses\n",
      "Ed takes 3 courses\n",
      "Margot takes 4 courses\n",
      "Peter takes 5 courses\n"
     ]
    }
   ],
   "source": [
    "# print all students with a count of their courses.\n",
    "for (name, subjects) in students:\n",
    "    print(name, \"takes\", len(subjects), \"courses\")\n",
    "\n",
    "# The verbose way to do the same thing:\n",
    "for i in range(len(students)):\n",
    "    print(students[i][0], \"takes\", len(students[i][1]), \"courses\")"
   ]
  },
  {
   "cell_type": "code",
   "execution_count": 16,
   "metadata": {},
   "outputs": [
    {
     "name": "stdout",
     "output_type": "stream",
     "text": [
      "Peter takes 5 courses\n",
      "Margot takes 4 courses\n",
      "Ed takes 3 courses\n",
      "Justin takes 3 courses\n",
      "Alejandro takes 2 courses\n"
     ]
    }
   ],
   "source": [
    "# To do the list in reverse\n",
    "for (name, subjects) in reversed(students):\n",
    "    print(name, \"takes\", len(subjects), \"courses\")"
   ]
  },
  {
   "cell_type": "code",
   "execution_count": 11,
   "metadata": {},
   "outputs": [
    {
     "name": "stdout",
     "output_type": "stream",
     "text": [
      "Alejandro takes CompSci\n",
      "Alejandro takes Physics\n",
      "Justin takes Math\n",
      "Justin takes CompSci\n",
      "Justin takes Stats\n",
      "Ed takes CompSci\n",
      "Ed takes Accounting\n",
      "Ed takes Economics\n",
      "Margot takes InfSys\n",
      "Margot takes Accounting\n",
      "Margot takes Economics\n",
      "Margot takes CommLaw\n",
      "Peter takes Sociology\n",
      "Peter takes Economics\n",
      "Peter takes Law\n",
      "Peter takes Stats\n",
      "Peter takes Music\n"
     ]
    }
   ],
   "source": [
    "for (name, subjects) in students:\n",
    "    for course in subjects:\n",
    "        print(name, \"takes\", course)"
   ]
  },
  {
   "cell_type": "markdown",
   "metadata": {},
   "source": [
    "## List comprehensions\n",
    "\n",
    "A list comprehension is a way to create lists using compact syntax.  Some examples:"
   ]
  },
  {
   "cell_type": "code",
   "execution_count": 17,
   "metadata": {},
   "outputs": [
    {
     "name": "stdout",
     "output_type": "stream",
     "text": [
      "['bin', 'Data', 'Desktop']\n",
      "[1, 4, 9, 16]\n"
     ]
    }
   ],
   "source": [
    "all_files = ['bin', 'Data', 'Desktop', '.bashrc', '.ssh', '.vimrc']\n",
    "not_hidden = [name for name in all_files if name[0] != '.'] # this is a list comprehension\n",
    "print(not_hidden)\n",
    "numbers = [1, 2, 3, 4]\n",
    "squares = [x**2 for x in numbers]   # this is a list comprehension\n",
    "print(squares)"
   ]
  },
  {
   "cell_type": "markdown",
   "metadata": {},
   "source": [
    "Using a list comperhension can also be much faster.  Condiser the two equivalent ways of computing the square of each element in the list of numbers below:"
   ]
  },
  {
   "cell_type": "code",
   "execution_count": 18,
   "metadata": {},
   "outputs": [
    {
     "name": "stdout",
     "output_type": "stream",
     "text": [
      "List comprehension time =  0.008241891860961914\n",
      "Naive loop time =  0.020756959915161133\n"
     ]
    }
   ],
   "source": [
    "import time\n",
    "N = 5000\n",
    "start_time = time.time()\n",
    "for i in range(N):\n",
    "    squares = [x**2 for x in numbers]\n",
    "end_time = time.time()\n",
    "print('List comprehension time = ', end_time - start_time)\n",
    "squares = []\n",
    "for i in range(N):\n",
    "    for j in range(len(numbers)):\n",
    "        squares.append(numbers[j] ** 2)\n",
    "end_time = time.time()\n",
    "print('Naive loop time = ', end_time - start_time)"
   ]
  },
  {
   "cell_type": "markdown",
   "metadata": {},
   "source": [
    "The list comperehension is orders of magnitude faster.\n",
    "\n",
    "What's happening?  Remember that Python is an interpreted language.  What you type as Python syntax is interpreted as a precompiled routine that can be executed by your machine.  By using a list comprehension, rather than a `for` loop that could be more general, you are taking advantage of a precompiled routine that is much more efficiently written for the specific task of applying an operation to each element in a list.\n",
    "\n",
    "This is an important general rule to keep in mind when writing code in Python - one generally wants to use more \"Pythonic\" syntax where possible as it will call more efficient routines. \n",
    "\n",
    "That said, there is also the ability to use \"just in time compilers\" in Python, such as that available in the [Numba](http://numba.pydata.org) package.  We may talk about these later in the semester."
   ]
  },
  {
   "cell_type": "markdown",
   "metadata": {},
   "source": [
    "## Looping over items in special data structures\n",
    "\n",
    "Two common data structures that you'll use in economics applications are Numpy arrays and Pandas dataframes.  Each has methods that provide simpler and faster iterating than standard Python loops.\n",
    "\n",
    "### Numpy arrays\n",
    "\n",
    "Numpy arrays have a method, `nditer()`, that allows for iteration over elements in a numpy array.  E.g.,"
   ]
  },
  {
   "cell_type": "code",
   "execution_count": 19,
   "metadata": {},
   "outputs": [
    {
     "name": "stdout",
     "output_type": "stream",
     "text": [
      "[[0 1 2]\n",
      " [3 4 5]]\n",
      "0\n",
      "1\n",
      "2\n",
      "3\n",
      "4\n",
      "5\n"
     ]
    }
   ],
   "source": [
    "import numpy as np\n",
    "a = np.arange(6).reshape(2,3)\n",
    "print(a)\n",
    "for x in np.nditer(a):\n",
    "    print (x)"
   ]
  },
  {
   "cell_type": "markdown",
   "metadata": {},
   "source": [
    "You can of course slice your array to that you iterate only over certain row/columns."
   ]
  },
  {
   "cell_type": "markdown",
   "metadata": {},
   "source": [
    "### Pandas dataframes\n",
    "\n",
    "Pandas dataframes have two methods to iterate over rows, `iterrows()` and `itertuples`.  `iterrows()` iterates over the rows, returning (column name, Series) pairs at each iteration (i.e., for each row iterated over).  `itertuples` iterates over the rows returning named tuples of the values. Generally, `itertuples` is faster.\n",
    "\n",
    "Let's compare the differences:"
   ]
  },
  {
   "cell_type": "code",
   "execution_count": 20,
   "metadata": {},
   "outputs": [
    {
     "name": "stdout",
     "output_type": "stream",
     "text": [
      "<generator object DataFrame.iterrows at 0x1206522a0>\n"
     ]
    }
   ],
   "source": [
    "import pandas as pd\n",
    "\n",
    "# create a dictionary with some data\n",
    "data = {'school': ['Texas', 'Texas', 'Texas', 'UGA', 'UGA'],\n",
    "        'year': [2014, 2015, 2016, 2015, 2016],\n",
    "        'wins': [6, 5, 5, 10, 8]}\n",
    "\n",
    "# create a DataFrame from the dictionary \n",
    "frame = pd.DataFrame(data)\n",
    "\n",
    "# iterate over the rows with iterrows()\n",
    "print(frame.iterrows())"
   ]
  },
  {
   "cell_type": "markdown",
   "metadata": {},
   "source": [
    "Note what is returned, not the items are each iteration, but rather a python object called a \"generator\".  "
   ]
  },
  {
   "cell_type": "code",
   "execution_count": 21,
   "metadata": {},
   "outputs": [
    {
     "name": "stdout",
     "output_type": "stream",
     "text": [
      "(0, school    Texas\n",
      "year       2014\n",
      "wins          6\n",
      "Name: 0, dtype: object)\n",
      "(1, school    Texas\n",
      "year       2015\n",
      "wins          5\n",
      "Name: 1, dtype: object)\n",
      "(2, school    Texas\n",
      "year       2016\n",
      "wins          5\n",
      "Name: 2, dtype: object)\n",
      "(3, school     UGA\n",
      "year      2015\n",
      "wins        10\n",
      "Name: 3, dtype: object)\n",
      "(4, school     UGA\n",
      "year      2016\n",
      "wins         8\n",
      "Name: 4, dtype: object)\n"
     ]
    }
   ],
   "source": [
    "# assign a name to the generator object\n",
    "frame_rows = frame.iterrows()\n",
    "\n",
    "# print each item in the generator object\n",
    "for item in frame_rows:\n",
    "    print(item)"
   ]
  },
  {
   "cell_type": "code",
   "execution_count": 22,
   "metadata": {},
   "outputs": [
    {
     "name": "stdout",
     "output_type": "stream",
     "text": [
      "(0, school    Texas\n",
      "year       2014\n",
      "wins          6\n",
      "Name: 0, dtype: object)\n",
      "(1, school    Texas\n",
      "year       2015\n",
      "wins          5\n",
      "Name: 1, dtype: object)\n",
      "(2, school    Texas\n",
      "year       2016\n",
      "wins          5\n",
      "Name: 2, dtype: object)\n",
      "(3, school     UGA\n",
      "year      2015\n",
      "wins        10\n",
      "Name: 3, dtype: object)\n",
      "(4, school     UGA\n",
      "year      2016\n",
      "wins         8\n",
      "Name: 4, dtype: object)\n"
     ]
    }
   ],
   "source": [
    "# or do this all in one statement\n",
    "for item in frame.iterrows():\n",
    "    print(item)"
   ]
  },
  {
   "cell_type": "code",
   "execution_count": 23,
   "metadata": {},
   "outputs": [
    {
     "name": "stdout",
     "output_type": "stream",
     "text": [
      "Pandas(Index=0, school='Texas', year=2014, wins=6)\n",
      "Pandas(Index=1, school='Texas', year=2015, wins=5)\n",
      "Pandas(Index=2, school='Texas', year=2016, wins=5)\n",
      "Pandas(Index=3, school='UGA', year=2015, wins=10)\n",
      "Pandas(Index=4, school='UGA', year=2016, wins=8)\n"
     ]
    }
   ],
   "source": [
    "# Now do itertuples to see how output differs\n",
    "for item in frame.itertuples():\n",
    "    print(item)"
   ]
  },
  {
   "cell_type": "code",
   "execution_count": 24,
   "metadata": {},
   "outputs": [
    {
     "name": "stdout",
     "output_type": "stream",
     "text": [
      "Texas\n",
      "Texas\n",
      "Texas\n",
      "UGA\n",
      "UGA\n"
     ]
    }
   ],
   "source": [
    "# to see how named tuples work, let's print just the school\n",
    "# each each row with the itertuples() method\n",
    "for item in frame.itertuples():\n",
    "    print(item.school)"
   ]
  },
  {
   "cell_type": "code",
   "execution_count": 25,
   "metadata": {},
   "outputs": [
    {
     "name": "stdout",
     "output_type": "stream",
     "text": [
      "Texas\n",
      "Texas\n",
      "Texas\n",
      "UGA\n",
      "UGA\n"
     ]
    }
   ],
   "source": [
    "# same thing, but referening the name attribute by position\n",
    "# in the named tuple, rather than the name\n",
    "for item in frame.itertuples():\n",
    "    print(item[1])"
   ]
  },
  {
   "cell_type": "markdown",
   "metadata": {},
   "source": [
    "Named tuples are classes, with attributes names being the names of the elements in the tuple.  Thus you can reference an element in the named tuple by either the attribute name or the position. They can be very useful data structures and you can read more [here](http://intermediatepythonista.com/python-generators). \n",
    "\n",
    "\n",
    "### Words of warning\n",
    "\n",
    "While we looked at efficient ways to iterate over Numpy arrays or Pandas dataframes, in general you will want to avoid such loops.  Always look first at ways to perform vectorized operation on these objects.\n",
    "\n"
   ]
  },
  {
   "cell_type": "code",
   "execution_count": null,
   "metadata": {},
   "outputs": [],
   "source": []
  }
 ],
 "metadata": {
  "kernelspec": {
   "display_name": "Python 3",
   "language": "python",
   "name": "python3"
  },
  "language_info": {
   "codemirror_mode": {
    "name": "ipython",
    "version": 3
   },
   "file_extension": ".py",
   "mimetype": "text/x-python",
   "name": "python",
   "nbconvert_exporter": "python",
   "pygments_lexer": "ipython3",
   "version": "3.7.3"
  }
 },
 "nbformat": 4,
 "nbformat_minor": 2
}
