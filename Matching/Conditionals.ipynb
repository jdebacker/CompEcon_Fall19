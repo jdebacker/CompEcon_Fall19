{
 "cells": [
  {
   "cell_type": "markdown",
   "metadata": {},
   "source": [
    "# Conditionals in Python\n",
    "### by [Jason DeBacker](https://jasondebacker.com), September 2019\n",
    "\n",
    "This Jupyter Notebook outlines the use of conditional statements in Python.\n",
    "\n",
    "if \n",
    "else\n",
    "elif\n",
    "\n",
    "or statements\n",
    "\n",
    "the any(), all() methods for sequences\n",
    "\n",
    "try\n",
    "\n",
    "dummy vars/masking\n",
    "\n",
    "multiple conditions\n",
    "\n",
    "multiple conditions for creating pandas columns\n",
    "\n",
    "## If statements\n",
    "\n",
    "These are simple - let's just see some examples to understand the syntax in Python:"
   ]
  },
  {
   "cell_type": "code",
   "execution_count": 1,
   "metadata": {},
   "outputs": [
    {
     "name": "stdout",
     "output_type": "stream",
     "text": [
      "Number equals 4\n"
     ]
    }
   ],
   "source": [
    "number = 4\n",
    "if number == 4:  # end conditional with colon, double equal to check that equals\n",
    "    print('Number equals 4')  # indent under conditional statement"
   ]
  },
  {
   "cell_type": "code",
   "execution_count": 3,
   "metadata": {},
   "outputs": [
    {
     "name": "stdout",
     "output_type": "stream",
     "text": [
      "Number not greater than 4\n"
     ]
    }
   ],
   "source": [
    "# try an else condition\n",
    "if number > 4:\n",
    "    print('Number greater than 4')\n",
    "else:\n",
    "    print('Number not greater than 4')"
   ]
  },
  {
   "cell_type": "code",
   "execution_count": 4,
   "metadata": {},
   "outputs": [
    {
     "name": "stdout",
     "output_type": "stream",
     "text": [
      "Number equals 4\n"
     ]
    }
   ],
   "source": [
    "# try and else-if condition\n",
    "if number > 4:\n",
    "    print('Number greater than 4')\n",
    "elif number==4:  # Notice the elif rather than elseif\n",
    "    print('Number equals 4')\n",
    "else:\n",
    "    print('Number if less than 4')"
   ]
  },
  {
   "cell_type": "code",
   "execution_count": 7,
   "metadata": {},
   "outputs": [
    {
     "name": "stdout",
     "output_type": "stream",
     "text": [
      "Number is in (3, 10)\n"
     ]
    }
   ],
   "source": [
    "# test multiple conditions\n",
    "if (number > 3 ) & (number < 10):\n",
    "    print('Number is in (3, 10)')"
   ]
  },
  {
   "cell_type": "code",
   "execution_count": 8,
   "metadata": {},
   "outputs": [
    {
     "name": "stdout",
     "output_type": "stream",
     "text": [
      "Number is not in (3, 10)\n"
     ]
    }
   ],
   "source": [
    "# test with or condition\n",
    "number = 11\n",
    "if (number < 3 ) | (number > 10):\n",
    "    print('Number is not in (3, 10)')"
   ]
  },
  {
   "cell_type": "code",
   "execution_count": 9,
   "metadata": {},
   "outputs": [
    {
     "name": "stdout",
     "output_type": "stream",
     "text": [
      "Number is not in (3, 10)\n"
     ]
    }
   ],
   "source": [
    "# can use word as well for \"and\" and \"or\" (though not in all cases)\n",
    "if (number < 3 ) or (number > 10):\n",
    "    print('Number is not in (3, 10)')"
   ]
  },
  {
   "cell_type": "code",
   "execution_count": 12,
   "metadata": {},
   "outputs": [
    {
     "name": "stdout",
     "output_type": "stream",
     "text": [
      "this is not a test run\n"
     ]
    }
   ],
   "source": [
    "# with booleans\n",
    "test_run = False\n",
    "if test_run:\n",
    "    print('this is a test run')\n",
    "else:\n",
    "    print('this is not a test run')"
   ]
  },
  {
   "cell_type": "markdown",
   "metadata": {},
   "source": [
    "## Conditionals with Numpy arrays\n",
    "\n",
    "Conditional statements can be very useful for testing properties of Numpy arrays or for creating arrays of indicator values.  Let's see how conditionals work on Numpy arrays."
   ]
  },
  {
   "cell_type": "code",
   "execution_count": 13,
   "metadata": {},
   "outputs": [
    {
     "data": {
      "text/plain": [
       "array([[ 1.05869382, -1.28814609,  0.55564631, -0.03983468,  0.5863089 ],\n",
       "       [-1.62414747, -0.18515524,  1.9177511 ,  1.53639705, -0.18090265],\n",
       "       [ 0.66347801, -0.19066557,  0.65388022, -0.05992259,  0.74272355],\n",
       "       [-0.08518587, -0.91770071, -0.37927703, -0.32352608,  1.14291102],\n",
       "       [ 0.63157068, -0.62800626, -0.66604321,  0.79846392, -0.67583638]])"
      ]
     },
     "execution_count": 13,
     "metadata": {},
     "output_type": "execute_result"
    }
   ],
   "source": [
    "import numpy as np\n",
    "a = np.random.randn(5, 5)  # generate 5x5 array of random numbers from random normal distrib\n",
    "a"
   ]
  },
  {
   "cell_type": "code",
   "execution_count": 14,
   "metadata": {},
   "outputs": [
    {
     "data": {
      "text/plain": [
       "array([[ True, False, False, False, False],\n",
       "       [False, False,  True,  True, False],\n",
       "       [False, False, False, False, False],\n",
       "       [False, False, False, False,  True],\n",
       "       [False, False, False, False, False]])"
      ]
     },
     "execution_count": 14,
     "metadata": {},
     "output_type": "execute_result"
    }
   ],
   "source": [
    "# create an array that provides results of tests for a condition\n",
    "# in a\n",
    "b = a > 1\n",
    "b"
   ]
  },
  {
   "cell_type": "code",
   "execution_count": 15,
   "metadata": {},
   "outputs": [
    {
     "data": {
      "text/plain": [
       "array([[ 1.05869382, -0.        ,  0.        , -0.        ,  0.        ],\n",
       "       [-0.        , -0.        ,  1.9177511 ,  1.53639705, -0.        ],\n",
       "       [ 0.        , -0.        ,  0.        , -0.        ,  0.        ],\n",
       "       [-0.        , -0.        , -0.        , -0.        ,  1.14291102],\n",
       "       [ 0.        , -0.        , -0.        ,  0.        , -0.        ]])"
      ]
     },
     "execution_count": 15,
     "metadata": {},
     "output_type": "execute_result"
    }
   ],
   "source": [
    "a * b"
   ]
  },
  {
   "cell_type": "code",
   "execution_count": 16,
   "metadata": {},
   "outputs": [
    {
     "ename": "ValueError",
     "evalue": "The truth value of an array with more than one element is ambiguous. Use a.any() or a.all()",
     "output_type": "error",
     "traceback": [
      "\u001b[0;31m---------------------------------------------------------------------------\u001b[0m",
      "\u001b[0;31mValueError\u001b[0m                                Traceback (most recent call last)",
      "\u001b[0;32m<ipython-input-16-4edc98445859>\u001b[0m in \u001b[0;36m<module>\u001b[0;34m\u001b[0m\n\u001b[1;32m      1\u001b[0m \u001b[0;31m# an if statement with a numpy array\u001b[0m\u001b[0;34m\u001b[0m\u001b[0;34m\u001b[0m\u001b[0;34m\u001b[0m\u001b[0m\n\u001b[0;32m----> 2\u001b[0;31m \u001b[0;32mif\u001b[0m \u001b[0ma\u001b[0m \u001b[0;34m>\u001b[0m \u001b[0;36m1\u001b[0m\u001b[0;34m:\u001b[0m\u001b[0;34m\u001b[0m\u001b[0;34m\u001b[0m\u001b[0m\n\u001b[0m\u001b[1;32m      3\u001b[0m     \u001b[0mprint\u001b[0m\u001b[0;34m(\u001b[0m\u001b[0;34m\"a is greater than one\"\u001b[0m\u001b[0;34m)\u001b[0m\u001b[0;34m\u001b[0m\u001b[0;34m\u001b[0m\u001b[0m\n",
      "\u001b[0;31mValueError\u001b[0m: The truth value of an array with more than one element is ambiguous. Use a.any() or a.all()"
     ]
    }
   ],
   "source": [
    "# an if statement with a numpy array\n",
    "if a > 1:\n",
    "    print(\"a is greater than one\")"
   ]
  },
  {
   "cell_type": "code",
   "execution_count": 17,
   "metadata": {},
   "outputs": [
    {
     "name": "stdout",
     "output_type": "stream",
     "text": [
      "some element of a is greater than one\n"
     ]
    }
   ],
   "source": [
    "if (a > 1).any():\n",
    "    print(\"some element of a is greater than one\")"
   ]
  },
  {
   "cell_type": "code",
   "execution_count": 18,
   "metadata": {},
   "outputs": [
    {
     "name": "stdout",
     "output_type": "stream",
     "text": [
      "not all elements of a are greater than one\n"
     ]
    }
   ],
   "source": [
    "if (a > 1).all():\n",
    "    print(\"all elements of a are greater than one\")\n",
    "else:\n",
    "    print(\"not all elements of a are greater than one\")"
   ]
  },
  {
   "cell_type": "markdown",
   "metadata": {},
   "source": [
    "## Conditionals in Pandas\n",
    "\n",
    "Conditional statements can be very useful in Pandas for creating indicator variables or for creating subsets of your data.  \n",
    "\n",
    "Let's create an indicator variable."
   ]
  },
  {
   "cell_type": "code",
   "execution_count": 19,
   "metadata": {},
   "outputs": [
    {
     "data": {
      "text/html": [
       "<div>\n",
       "<style scoped>\n",
       "    .dataframe tbody tr th:only-of-type {\n",
       "        vertical-align: middle;\n",
       "    }\n",
       "\n",
       "    .dataframe tbody tr th {\n",
       "        vertical-align: top;\n",
       "    }\n",
       "\n",
       "    .dataframe thead th {\n",
       "        text-align: right;\n",
       "    }\n",
       "</style>\n",
       "<table border=\"1\" class=\"dataframe\">\n",
       "  <thead>\n",
       "    <tr style=\"text-align: right;\">\n",
       "      <th></th>\n",
       "      <th>school</th>\n",
       "      <th>year</th>\n",
       "      <th>wins</th>\n",
       "      <th>winning season</th>\n",
       "    </tr>\n",
       "  </thead>\n",
       "  <tbody>\n",
       "    <tr>\n",
       "      <th>0</th>\n",
       "      <td>Texas</td>\n",
       "      <td>2014</td>\n",
       "      <td>6</td>\n",
       "      <td>False</td>\n",
       "    </tr>\n",
       "    <tr>\n",
       "      <th>1</th>\n",
       "      <td>Texas</td>\n",
       "      <td>2015</td>\n",
       "      <td>5</td>\n",
       "      <td>False</td>\n",
       "    </tr>\n",
       "    <tr>\n",
       "      <th>2</th>\n",
       "      <td>Texas</td>\n",
       "      <td>2016</td>\n",
       "      <td>5</td>\n",
       "      <td>False</td>\n",
       "    </tr>\n",
       "    <tr>\n",
       "      <th>3</th>\n",
       "      <td>Texas</td>\n",
       "      <td>2017</td>\n",
       "      <td>7</td>\n",
       "      <td>True</td>\n",
       "    </tr>\n",
       "    <tr>\n",
       "      <th>4</th>\n",
       "      <td>Texas</td>\n",
       "      <td>2018</td>\n",
       "      <td>10</td>\n",
       "      <td>True</td>\n",
       "    </tr>\n",
       "    <tr>\n",
       "      <th>5</th>\n",
       "      <td>UGA</td>\n",
       "      <td>2015</td>\n",
       "      <td>10</td>\n",
       "      <td>True</td>\n",
       "    </tr>\n",
       "    <tr>\n",
       "      <th>6</th>\n",
       "      <td>UGA</td>\n",
       "      <td>2016</td>\n",
       "      <td>8</td>\n",
       "      <td>True</td>\n",
       "    </tr>\n",
       "    <tr>\n",
       "      <th>7</th>\n",
       "      <td>UGA</td>\n",
       "      <td>2017</td>\n",
       "      <td>13</td>\n",
       "      <td>True</td>\n",
       "    </tr>\n",
       "    <tr>\n",
       "      <th>8</th>\n",
       "      <td>UGA</td>\n",
       "      <td>2018</td>\n",
       "      <td>11</td>\n",
       "      <td>True</td>\n",
       "    </tr>\n",
       "  </tbody>\n",
       "</table>\n",
       "</div>"
      ],
      "text/plain": [
       "  school  year  wins  winning season\n",
       "0  Texas  2014     6           False\n",
       "1  Texas  2015     5           False\n",
       "2  Texas  2016     5           False\n",
       "3  Texas  2017     7            True\n",
       "4  Texas  2018    10            True\n",
       "5    UGA  2015    10            True\n",
       "6    UGA  2016     8            True\n",
       "7    UGA  2017    13            True\n",
       "8    UGA  2018    11            True"
      ]
     },
     "execution_count": 19,
     "metadata": {},
     "output_type": "execute_result"
    }
   ],
   "source": [
    "import pandas as pd\n",
    "\n",
    "# create a dictionary with some data\n",
    "data = {'school': ['Texas', 'Texas', 'Texas', 'Texas', 'Texas', 'UGA', 'UGA', 'UGA', 'UGA'],\n",
    "        'year': [2014, 2015, 2016, 2017, 2018, 2015, 2016, 2017, 2018],\n",
    "        'wins': [6, 5, 5, 7, 10, 10, 8, 13, 11]}\n",
    "\n",
    "# create a DataFrame from the dictionary \n",
    "frame = pd.DataFrame(data)\n",
    "\n",
    "# create a new indicator variable\n",
    "frame['winning season'] = frame['wins'] > 6\n",
    "frame"
   ]
  },
  {
   "cell_type": "code",
   "execution_count": 20,
   "metadata": {},
   "outputs": [
    {
     "data": {
      "text/html": [
       "<div>\n",
       "<style scoped>\n",
       "    .dataframe tbody tr th:only-of-type {\n",
       "        vertical-align: middle;\n",
       "    }\n",
       "\n",
       "    .dataframe tbody tr th {\n",
       "        vertical-align: top;\n",
       "    }\n",
       "\n",
       "    .dataframe thead th {\n",
       "        text-align: right;\n",
       "    }\n",
       "</style>\n",
       "<table border=\"1\" class=\"dataframe\">\n",
       "  <thead>\n",
       "    <tr style=\"text-align: right;\">\n",
       "      <th></th>\n",
       "      <th>school</th>\n",
       "      <th>year</th>\n",
       "      <th>wins</th>\n",
       "      <th>winning season</th>\n",
       "      <th>winning 2016</th>\n",
       "    </tr>\n",
       "  </thead>\n",
       "  <tbody>\n",
       "    <tr>\n",
       "      <th>0</th>\n",
       "      <td>Texas</td>\n",
       "      <td>2014</td>\n",
       "      <td>6</td>\n",
       "      <td>False</td>\n",
       "      <td>False</td>\n",
       "    </tr>\n",
       "    <tr>\n",
       "      <th>1</th>\n",
       "      <td>Texas</td>\n",
       "      <td>2015</td>\n",
       "      <td>5</td>\n",
       "      <td>False</td>\n",
       "      <td>False</td>\n",
       "    </tr>\n",
       "    <tr>\n",
       "      <th>2</th>\n",
       "      <td>Texas</td>\n",
       "      <td>2016</td>\n",
       "      <td>5</td>\n",
       "      <td>False</td>\n",
       "      <td>False</td>\n",
       "    </tr>\n",
       "    <tr>\n",
       "      <th>3</th>\n",
       "      <td>Texas</td>\n",
       "      <td>2017</td>\n",
       "      <td>7</td>\n",
       "      <td>True</td>\n",
       "      <td>False</td>\n",
       "    </tr>\n",
       "    <tr>\n",
       "      <th>4</th>\n",
       "      <td>Texas</td>\n",
       "      <td>2018</td>\n",
       "      <td>10</td>\n",
       "      <td>True</td>\n",
       "      <td>False</td>\n",
       "    </tr>\n",
       "    <tr>\n",
       "      <th>5</th>\n",
       "      <td>UGA</td>\n",
       "      <td>2015</td>\n",
       "      <td>10</td>\n",
       "      <td>True</td>\n",
       "      <td>False</td>\n",
       "    </tr>\n",
       "    <tr>\n",
       "      <th>6</th>\n",
       "      <td>UGA</td>\n",
       "      <td>2016</td>\n",
       "      <td>8</td>\n",
       "      <td>True</td>\n",
       "      <td>True</td>\n",
       "    </tr>\n",
       "    <tr>\n",
       "      <th>7</th>\n",
       "      <td>UGA</td>\n",
       "      <td>2017</td>\n",
       "      <td>13</td>\n",
       "      <td>True</td>\n",
       "      <td>False</td>\n",
       "    </tr>\n",
       "    <tr>\n",
       "      <th>8</th>\n",
       "      <td>UGA</td>\n",
       "      <td>2018</td>\n",
       "      <td>11</td>\n",
       "      <td>True</td>\n",
       "      <td>False</td>\n",
       "    </tr>\n",
       "  </tbody>\n",
       "</table>\n",
       "</div>"
      ],
      "text/plain": [
       "  school  year  wins  winning season  winning 2016\n",
       "0  Texas  2014     6           False         False\n",
       "1  Texas  2015     5           False         False\n",
       "2  Texas  2016     5           False         False\n",
       "3  Texas  2017     7            True         False\n",
       "4  Texas  2018    10            True         False\n",
       "5    UGA  2015    10            True         False\n",
       "6    UGA  2016     8            True          True\n",
       "7    UGA  2017    13            True         False\n",
       "8    UGA  2018    11            True         False"
      ]
     },
     "execution_count": 20,
     "metadata": {},
     "output_type": "execute_result"
    }
   ],
   "source": [
    "# an indicator variable with mulitple conditions\n",
    "frame['winning 2016'] = (frame['wins'] > 6) & (frame['year'] == 2016) # note use of parentheses\n",
    "frame"
   ]
  },
  {
   "cell_type": "markdown",
   "metadata": {},
   "source": [
    "Now lets use conditions to slice our data."
   ]
  },
  {
   "cell_type": "code",
   "execution_count": 25,
   "metadata": {},
   "outputs": [
    {
     "data": {
      "text/html": [
       "<div>\n",
       "<style scoped>\n",
       "    .dataframe tbody tr th:only-of-type {\n",
       "        vertical-align: middle;\n",
       "    }\n",
       "\n",
       "    .dataframe tbody tr th {\n",
       "        vertical-align: top;\n",
       "    }\n",
       "\n",
       "    .dataframe thead th {\n",
       "        text-align: right;\n",
       "    }\n",
       "</style>\n",
       "<table border=\"1\" class=\"dataframe\">\n",
       "  <thead>\n",
       "    <tr style=\"text-align: right;\">\n",
       "      <th></th>\n",
       "      <th>school</th>\n",
       "      <th>year</th>\n",
       "      <th>wins</th>\n",
       "      <th>winning season</th>\n",
       "      <th>winning 2016</th>\n",
       "    </tr>\n",
       "  </thead>\n",
       "  <tbody>\n",
       "    <tr>\n",
       "      <th>0</th>\n",
       "      <td>Texas</td>\n",
       "      <td>2014</td>\n",
       "      <td>6</td>\n",
       "      <td>False</td>\n",
       "      <td>False</td>\n",
       "    </tr>\n",
       "    <tr>\n",
       "      <th>1</th>\n",
       "      <td>Texas</td>\n",
       "      <td>2015</td>\n",
       "      <td>5</td>\n",
       "      <td>False</td>\n",
       "      <td>False</td>\n",
       "    </tr>\n",
       "    <tr>\n",
       "      <th>2</th>\n",
       "      <td>Texas</td>\n",
       "      <td>2016</td>\n",
       "      <td>5</td>\n",
       "      <td>False</td>\n",
       "      <td>False</td>\n",
       "    </tr>\n",
       "    <tr>\n",
       "      <th>3</th>\n",
       "      <td>Texas</td>\n",
       "      <td>2017</td>\n",
       "      <td>7</td>\n",
       "      <td>True</td>\n",
       "      <td>False</td>\n",
       "    </tr>\n",
       "    <tr>\n",
       "      <th>4</th>\n",
       "      <td>Texas</td>\n",
       "      <td>2018</td>\n",
       "      <td>10</td>\n",
       "      <td>True</td>\n",
       "      <td>False</td>\n",
       "    </tr>\n",
       "  </tbody>\n",
       "</table>\n",
       "</div>"
      ],
      "text/plain": [
       "  school  year  wins  winning season  winning 2016\n",
       "0  Texas  2014     6           False         False\n",
       "1  Texas  2015     5           False         False\n",
       "2  Texas  2016     5           False         False\n",
       "3  Texas  2017     7            True         False\n",
       "4  Texas  2018    10            True         False"
      ]
     },
     "execution_count": 25,
     "metadata": {},
     "output_type": "execute_result"
    }
   ],
   "source": [
    "texas = frame[(frame['school'] == 'Texas')]\n",
    "texas"
   ]
  },
  {
   "cell_type": "code",
   "execution_count": 24,
   "metadata": {},
   "outputs": [
    {
     "data": {
      "text/plain": [
       "0     True\n",
       "1     True\n",
       "2     True\n",
       "3     True\n",
       "4     True\n",
       "5    False\n",
       "6    False\n",
       "7    False\n",
       "8    False\n",
       "Name: school, dtype: bool"
      ]
     },
     "execution_count": 24,
     "metadata": {},
     "output_type": "execute_result"
    }
   ],
   "source": [
    "# To see what is happening with conditionals used to slice...\n",
    "frame['school'] == 'Texas'"
   ]
  },
  {
   "cell_type": "code",
   "execution_count": 26,
   "metadata": {},
   "outputs": [
    {
     "data": {
      "text/html": [
       "<div>\n",
       "<style scoped>\n",
       "    .dataframe tbody tr th:only-of-type {\n",
       "        vertical-align: middle;\n",
       "    }\n",
       "\n",
       "    .dataframe tbody tr th {\n",
       "        vertical-align: top;\n",
       "    }\n",
       "\n",
       "    .dataframe thead th {\n",
       "        text-align: right;\n",
       "    }\n",
       "</style>\n",
       "<table border=\"1\" class=\"dataframe\">\n",
       "  <thead>\n",
       "    <tr style=\"text-align: right;\">\n",
       "      <th></th>\n",
       "      <th>school</th>\n",
       "      <th>year</th>\n",
       "      <th>wins</th>\n",
       "      <th>winning season</th>\n",
       "      <th>winning 2016</th>\n",
       "    </tr>\n",
       "  </thead>\n",
       "  <tbody>\n",
       "    <tr>\n",
       "      <th>1</th>\n",
       "      <td>Texas</td>\n",
       "      <td>2015</td>\n",
       "      <td>5</td>\n",
       "      <td>False</td>\n",
       "      <td>False</td>\n",
       "    </tr>\n",
       "    <tr>\n",
       "      <th>2</th>\n",
       "      <td>Texas</td>\n",
       "      <td>2016</td>\n",
       "      <td>5</td>\n",
       "      <td>False</td>\n",
       "      <td>False</td>\n",
       "    </tr>\n",
       "    <tr>\n",
       "      <th>3</th>\n",
       "      <td>Texas</td>\n",
       "      <td>2017</td>\n",
       "      <td>7</td>\n",
       "      <td>True</td>\n",
       "      <td>False</td>\n",
       "    </tr>\n",
       "    <tr>\n",
       "      <th>4</th>\n",
       "      <td>Texas</td>\n",
       "      <td>2018</td>\n",
       "      <td>10</td>\n",
       "      <td>True</td>\n",
       "      <td>False</td>\n",
       "    </tr>\n",
       "  </tbody>\n",
       "</table>\n",
       "</div>"
      ],
      "text/plain": [
       "  school  year  wins  winning season  winning 2016\n",
       "1  Texas  2015     5           False         False\n",
       "2  Texas  2016     5           False         False\n",
       "3  Texas  2017     7            True         False\n",
       "4  Texas  2018    10            True         False"
      ]
     },
     "execution_count": 26,
     "metadata": {},
     "output_type": "execute_result"
    }
   ],
   "source": [
    "# slice with multiple conditions\n",
    "texas_last2 = frame[(frame['school'] == 'Texas') & (frame['year'] > 2014)]\n",
    "texas_last2"
   ]
  },
  {
   "cell_type": "markdown",
   "metadata": {},
   "source": [
    "## The try statement\n",
    "\n",
    "The try statement works as follows.\n",
    "\n",
    "* First, the try clause (the statement(s) between the try and except keywords) is executed.\n",
    "* If no exception occurs, the except clause is skipped and execution of the try statement is finished.\n",
    "* If an exception occurs during execution of the try clause, the rest of the clause is skipped. Then if its type matches the exception named after the except keyword, the except clause is executed, and then execution continues after the try statement.\n",
    "* If an exception occurs which does not match the exception named in the except clause, it is passed on to outer try statements; if no handler is found, it is an unhandled exception and execution stops with a message as shown above.\n",
    "\n",
    "This statement can be useful in cases such as:\n",
    "* You might have a pre-computed object saved, but would like to go ahead and recreate it if not\n",
    "* A function in your code might return something unexpected (e.g. 'NaN' values) and you want to alert yourself or other users to this\n",
    "\n",
    "And more. \n",
    "\n",
    "Let's see this in action by trying to load a csv file that isn't there."
   ]
  },
  {
   "cell_type": "code",
   "execution_count": 27,
   "metadata": {},
   "outputs": [
    {
     "name": "stdout",
     "output_type": "stream",
     "text": [
      "Can't find the data file\n"
     ]
    }
   ],
   "source": [
    "try:\n",
    "    df = pd.read_csv('mydata.csv')\n",
    "except:\n",
    "    print(\"Can't find the data file\")"
   ]
  },
  {
   "cell_type": "markdown",
   "metadata": {},
   "source": [
    "## Is vs ==\n",
    "\n",
    "One needs to be mindful of a subtly of Python conditionals. At first, it looks like there are two ways to test for the same thing.  Using `==` and using `is`.  For instance:"
   ]
  },
  {
   "cell_type": "code",
   "execution_count": 28,
   "metadata": {},
   "outputs": [
    {
     "name": "stdout",
     "output_type": "stream",
     "text": [
      "Number equals 4\n",
      "Number is 4\n"
     ]
    }
   ],
   "source": [
    "number = 4\n",
    "# test a condition\n",
    "if number == 4:\n",
    "    print('Number equals 4')\n",
    "\n",
    "# another way to test the condition\n",
    "if number is 4:\n",
    "    print('Number is 4')"
   ]
  },
  {
   "cell_type": "markdown",
   "metadata": {},
   "source": [
    "But `==` and `is` actually test two differnet things.  `==` test for equality.  `is` tests for *identity*.  That is, `is` tests whether the name (i.e., variable) points to a the same object.  In the above we have `number` is equal to 4, but also that `number` points to the object that is the number 4.  Let's see this break down."
   ]
  },
  {
   "cell_type": "code",
   "execution_count": 30,
   "metadata": {},
   "outputs": [
    {
     "name": "stdout",
     "output_type": "stream",
     "text": [
      "a equals c\n",
      "a equals b\n",
      "a is not c\n",
      "a is b\n"
     ]
    }
   ],
   "source": [
    "a = [1, 2, 3]\n",
    "b = a\n",
    "c = [1, 2, 3]\n",
    "\n",
    "# test that a and c are equal\n",
    "if a == c:\n",
    "    print('a equals c')\n",
    "if a == b:\n",
    "    print('a equals b')\n",
    "\n",
    "\n",
    "# test that a and c point to the same object\n",
    "if a is c:\n",
    "    print('a is c')\n",
    "else:\n",
    "    print('a is not c')\n",
    "# test that a and b point to the same object\n",
    "if a is b:\n",
    "    print('a is b')\n",
    "    "
   ]
  },
  {
   "cell_type": "markdown",
   "metadata": {},
   "source": [
    "So although `a`, `b`, `c` are all the same list of numbers, only the `a` and `b` point to the same object.  `c` points to an equal, but distinct object."
   ]
  }
 ],
 "metadata": {
  "kernelspec": {
   "display_name": "Python 3",
   "language": "python",
   "name": "python3"
  },
  "language_info": {
   "codemirror_mode": {
    "name": "ipython",
    "version": 3
   },
   "file_extension": ".py",
   "mimetype": "text/x-python",
   "name": "python",
   "nbconvert_exporter": "python",
   "pygments_lexer": "ipython3",
   "version": "3.7.3"
  }
 },
 "nbformat": 4,
 "nbformat_minor": 2
}
